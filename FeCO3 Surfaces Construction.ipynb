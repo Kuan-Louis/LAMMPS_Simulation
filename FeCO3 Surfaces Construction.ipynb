{
 "cells": [
  {
   "cell_type": "code",
   "execution_count": 2,
   "metadata": {},
   "outputs": [
    {
     "name": "stdout",
     "output_type": "stream",
     "text": [
      "D:\\Cloud Storage\\GitRepositories\\LAMMPS_Simulation\\\n",
      "/local/yiming/Desktop/yx6015/home/LAMMPS_Simulation/HPC_Jupyter/\n"
     ]
    }
   ],
   "source": [
    "%matplotlib inline\n",
    "import numpy as np\n",
    "import matplotlib as mpl\n",
    "import matplotlib.pyplot as plt\n",
    "\n",
    "import sys, os\n",
    "\n",
    "from lammpsrun import LAMMPS, Prism\n",
    "\n",
    "from ase import Atoms, units\n",
    "from ase.visualize import view\n",
    "from ase.io.trajectory import Trajectory\n",
    "from ase.io import write, read\n",
    "from ase.neighborlist import neighbor_list\n",
    "from ase.build import surface\n",
    "from ase.spacegroup import crystal\n",
    "from ase.geometry import *\n",
    "\n",
    "from pymatgen.core.surface import *\n",
    "from pymatgen.io.ase import AseAtomsAdaptor as AAA\n",
    "\n",
    "# homepath = \"D:\\\\Cloud Storage\\\\GitRepositories\\\\LAMMPS_Simulation\\\\\"\n",
    "# hpc_path = \"G:\\\\home\\\\LAMMPS_Simulation\\\\HPC_Jupyter\\\\\"\n",
    "\n",
    "# for running on Linux\n",
    "homepath = \"D:\\\\Cloud Storage\\\\GitRepositories\\\\LAMMPS_Simulation\\\\\"\n",
    "hpc_path = \"/local/yiming/Desktop/yx6015/home/LAMMPS_Simulation/HPC_Jupyter/\"\n",
    "\n",
    "print(homepath + '\\n' + hpc_path)"
   ]
  },
  {
   "cell_type": "markdown",
   "metadata": {},
   "source": [
    "Crystallographic data is obtained from https://materials.springer.com/isp/crystallographic/docs/sd_1628167"
   ]
  },
  {
   "cell_type": "markdown",
   "metadata": {},
   "source": [
    "# Bulk siderite crystal"
   ]
  },
  {
   "cell_type": "markdown",
   "metadata": {},
   "source": [
    "This part is done directly within CX1 notebook."
   ]
  },
  {
   "cell_type": "markdown",
   "metadata": {},
   "source": [
    "# Surfaces/Slabs"
   ]
  },
  {
   "cell_type": "markdown",
   "metadata": {},
   "source": [
    "pymatgen referenc: https://matgenb.materialsvirtuallab.org/2017/04/03/Slab-generation-and-Wulff-shape.html"
   ]
  },
  {
   "cell_type": "code",
   "execution_count": 3,
   "metadata": {},
   "outputs": [],
   "source": [
    "def find_top_site(sites_list, atomstring):\n",
    "    c_indices = []\n",
    "    c_coord_z = []\n",
    "\n",
    "    for i, site in enumerate(sites_list):\n",
    "        if site.species_string == atomstring:\n",
    "            c_indices.append(i)\n",
    "            c_coord_z.append(site.z)\n",
    "\n",
    "        # Ensuring sequence is sorted\n",
    "        c_indices_z = sorted(zip(c_coord_z, c_indices))\n",
    "        \n",
    "    index_to_remove = c_indices_z[-1][1]\n",
    "    \n",
    "    return index_to_remove"
   ]
  },
  {
   "cell_type": "code",
   "execution_count": 4,
   "metadata": {},
   "outputs": [],
   "source": [
    "def gen_surfaces(layers):\n",
    "    print(\"Layers:\", layers)\n",
    "    for key in siderite_surface.keys():\n",
    "        miller_index = [int(x) for x in key]\n",
    "\n",
    "        slabgen = SlabGenerator(siderite, miller_index,\n",
    "                                min_slab_size=layers,\n",
    "                                min_vacuum_size=20,\n",
    "                                center_slab=True,\n",
    "                                in_unit_planes=True)\n",
    "\n",
    "        slab_list = slabgen.get_slabs(bonds={(\"C\", \"O\"): 1.5},\n",
    "                                      symmetrize=True)\n",
    "\n",
    "        siderite_surface[key] = [x for x in slab_list if abs(x.charge) <= 4]\n",
    "\n",
    "    surface_110_NS = siderite_surface['110'][2].copy()\n",
    "    surface_110_NS.symmetrically_remove_atoms([find_top_site(surface_110_NS.sites, 'C4+')])\n",
    "    surface_012_NS = siderite_surface['012'][2].copy()\n",
    "    surface_012_NS.symmetrically_remove_atoms([find_top_site(surface_012_NS.sites, 'O2-')])\n",
    "    surface_012_S = siderite_surface['012'][0].copy()\n",
    "    surface_012_S_top_C = find_top_site(surface_012_S.sites, 'C4+')\n",
    "    surface_012_S_top_O3 = surface_012_S.get_neighbors(surface_012_S.sites[surface_012_S_top_C],1.5, include_index=True)\n",
    "    surface_012_S_top_CO3 = [surface_012_S_top_C] + [x[2] for x in surface_012_S_top_O3]\n",
    "    surface_012_S.symmetrically_remove_atoms(surface_012_S_top_CO3)\n",
    "\n",
    "    siderite_surface_kept = {}\n",
    "    siderite_surface_kept['104_S'] = siderite_surface['104'][0].copy()\n",
    "    siderite_surface_kept['110_S'] = siderite_surface['110'][1].copy()\n",
    "    siderite_surface_kept['110_NS'] = surface_110_NS\n",
    "    siderite_surface_kept['110_NS'] = siderite_surface['110'][0].copy()\n",
    "    siderite_surface_kept['101_NS0'] = siderite_surface['101'][0].copy()\n",
    "    siderite_surface_kept['101_NS1'] = siderite_surface['101'][1].copy()\n",
    "    siderite_surface_kept['001_NS'] = siderite_surface['001'][0].copy()\n",
    "    siderite_surface_kept['012_S'] = surface_012_S\n",
    "    siderite_surface_kept['012_NS'] = surface_012_NS\n",
    "    siderite_surface_kept['100_S'] = siderite_surface['100'][0].copy()\n",
    "\n",
    "    directory_path = os.path.join(hpc_path, \"siderite\", \"surfaces\")\n",
    "    for surface, slab in siderite_surface_kept.items():\n",
    "        slab_ase = AAA.get_atoms(slab)\n",
    "        layer_info, layer_distances = get_layers(slab_ase, (0,0,1), tolerance=0.1)\n",
    "        nlayers = max(layer_info)\n",
    "\n",
    "#         print(\"Surface:\", surface, \"\\tLayers:\", nlayers)\n",
    "        file_path = os.path.join(directory_path, \"surface{0}_L{1}.extxyz\".format(surface, nlayers))\n",
    "        slab_ase.write(file_path, format='extxyz')"
   ]
  },
  {
   "cell_type": "markdown",
   "metadata": {},
   "source": [
    "Past work done with surface 104, 110, 100, 101, 001 and 012. High surface energy on 100 and 101"
   ]
  },
  {
   "cell_type": "markdown",
   "metadata": {},
   "source": [
    "From bulk optimization we have new cell parameters."
   ]
  },
  {
   "cell_type": "code",
   "execution_count": 5,
   "metadata": {},
   "outputs": [],
   "source": [
    "siderite_lattice = Lattice.from_lengths_and_angles([5.009461, 5.009461, 17.219589],\n",
    "                                                   [90, 90, 120])\n",
    "siderite = Structure.from_spacegroup(sg=167,\n",
    "                                     lattice=siderite_lattice,\n",
    "                                     species=[\"Fe\", \"C\", \"O\"],\n",
    "                                     coords=[[0, 0, 0], \n",
    "                                             [0, 0, 0.25],\n",
    "                                             [0.2741, 0, 0.25]])\n",
    "siderite.add_oxidation_state_by_element({\"Fe\": 2, \"C\": 4, \"O\": -2})"
   ]
  },
  {
   "cell_type": "code",
   "execution_count": 6,
   "metadata": {},
   "outputs": [],
   "source": [
    "siderite_surfaces_miller_indices = ['104', '110', '100', '101', '001', '012']\n",
    "siderite_surface = dict.fromkeys(siderite_surfaces_miller_indices)"
   ]
  },
  {
   "cell_type": "raw",
   "metadata": {
    "scrolled": true
   },
   "source": [
    "for key in siderite_surface.keys():\n",
    "    miller_index = [int(x) for x in key]\n",
    "    \n",
    "    slabgen = SlabGenerator(siderite, miller_index,\n",
    "                            min_slab_size=21,\n",
    "                            min_vacuum_size=10,\n",
    "                            center_slab=True,\n",
    "                            in_unit_planes=True)\n",
    "\n",
    "    slab_list = slabgen.get_slabs(bonds={(\"C\", \"O\"): 1.5},\n",
    "                                  symmetrize=True)\n",
    "    \n",
    "    siderite_surface[key] = [x for x in slab_list if abs(x.charge) <= 4]\n",
    "\n",
    "    print(\"\\nSurface:\", key, \"\\tNumber of allowed terminations:\", len(siderite_surface[key]))\n",
    "    \n",
    "    for slab in siderite_surface[key]:\n",
    "        print(slab.formula)"
   ]
  },
  {
   "cell_type": "raw",
   "metadata": {
    "scrolled": true
   },
   "source": [
    "for key in siderite_surface.keys():\n",
    "    print(\"*******************************************\")\n",
    "    print(\"Surface:\", key)\n",
    "    print(\"*******************************************\")\n",
    "    for slab in siderite_surface[key]:\n",
    "        slab_ase = AAA.get_atoms(slab)\n",
    "        layer_info, distances = get_layers(slab_ase, (0,0,1), tolerance=0.1)\n",
    "        layer_atoms = list(sorted(zip(layer_info, slab_ase.get_chemical_symbols())))\n",
    "        layer_atoms_dict = {}\n",
    "        for x, y in layer_atoms:\n",
    "            layer_atoms_dict.setdefault(x, []).append(y)\n",
    "\n",
    "        for layer in sorted(layer_atoms_dict.keys()):\n",
    "            max_layers = len(layer_atoms_dict.keys())\n",
    "            if layer < 6:\n",
    "                print('', layer+1, layer_atoms_dict[layer])\n",
    "            elif max_layers - layer == 6:\n",
    "                print(\".\")\n",
    "                print(\".\")\n",
    "                print(layer - max_layers, layer_atoms_dict[layer])\n",
    "            elif max_layers - layer < 6:\n",
    "                print(layer - max_layers, layer_atoms_dict[layer])\n",
    "                \n",
    "        slab_composition = slab.composition.to_reduced_dict\n",
    "        if slab_composition['Fe'] == slab_composition['C'] and slab_composition['Fe'] * 3 == slab_composition['O']:\n",
    "            print(\"Stoichiometric: True\")\n",
    "        else:\n",
    "            print(\"Stoichiometric: False\")\n",
    "        print(\"Polar:\", slab.is_polar())\n",
    "        print(\"Charge:\", slab.charge)\n",
    "        print(\"\\n\")"
   ]
  },
  {
   "cell_type": "raw",
   "metadata": {},
   "source": [
    "surface_110_NS = siderite_surface['110'][2].copy()\n",
    "surface_110_NS.symmetrically_remove_atoms([find_top_site(surface_110_NS.sites, 'C4+')])"
   ]
  },
  {
   "cell_type": "raw",
   "metadata": {},
   "source": [
    "surface_012_NS = siderite_surface['012'][2].copy()\n",
    "surface_012_NS.symmetrically_remove_atoms([find_top_site(surface_012_NS.sites, 'O2-')])"
   ]
  },
  {
   "cell_type": "raw",
   "metadata": {},
   "source": [
    "surface_012_S = siderite_surface['012'][0].copy()\n",
    "surface_012_S_top_C = find_top_site(surface_012_S.sites, 'C4+')\n",
    "surface_012_S_top_O3 = surface_012_S.get_neighbors(surface_012_S.sites[surface_012_S_top_C],1.5, include_index=True)\n",
    "surface_012_S_top_CO3 = [surface_012_S_top_C] + [x[2] for x in surface_012_S_top_O3]\n",
    "surface_012_S.symmetrically_remove_atoms(surface_012_S_top_CO3)"
   ]
  },
  {
   "cell_type": "raw",
   "metadata": {},
   "source": [
    "# 104 YES\n",
    "# 110[1] YES NS(110) to be reconstructed from 110[2]\n",
    "# 100 keep\n",
    "# 101 keep\n",
    "# 001[0] YES S(011) to be further constructed\n",
    "# NS(012) to be reconstucted from 012[2]\n",
    "# S(012) to be reconstructed from 012[0]\n",
    "\n",
    "siderite_surface_kept = {}\n",
    "siderite_surface_kept['104_S'] = siderite_surface['104'][0].copy()\n",
    "siderite_surface_kept['110_S'] = siderite_surface['110'][1].copy()\n",
    "siderite_surface_kept['110_NS'] = surface_110_NS\n",
    "siderite_surface_kept['110_NS'] = siderite_surface['110'][0].copy()\n",
    "siderite_surface_kept['101_NS0'] = siderite_surface['101'][0].copy()\n",
    "siderite_surface_kept['101_NS1'] = siderite_surface['101'][1].copy()\n",
    "siderite_surface_kept['001_NS'] = siderite_surface['001'][0].copy()\n",
    "siderite_surface_kept['012_S'] = surface_012_S\n",
    "siderite_surface_kept['012_NS'] = surface_012_NS\n",
    "siderite_surface_kept['100_S'] = siderite_surface['100'][0].copy()"
   ]
  },
  {
   "cell_type": "code",
   "execution_count": 7,
   "metadata": {},
   "outputs": [
    {
     "name": "stdout",
     "output_type": "stream",
     "text": [
      "Layers: 10\n",
      "Layers:Layers: 12\n",
      " 11\n",
      "Layers: 13\n",
      "Layers: 14\n",
      "Layers: 15\n",
      "Layers: 16\n",
      "Layers: 17\n",
      "Layers: 18\n",
      "Layers: 19\n",
      "Layers: 20\n",
      "Layers: 21\n",
      "Layers: 22\n",
      "Layers: 23\n",
      "Layers: 24\n",
      "Layers: 25\n",
      "Layers: 26\n",
      "Layers: 27\n",
      "Layers: 28\n",
      "Layers: 29\n"
     ]
    }
   ],
   "source": [
    "list_of_layers = list(range(10, 30))\n",
    "from concurrent.futures import ThreadPoolExecutor as PoolExecutor\n",
    "\n",
    "# create a thread pool of 4 threads\n",
    "with PoolExecutor(max_workers=8) as executor:\n",
    "    for x, result in zip(list_of_layers, executor.map(gen_surfaces, list_of_layers)):\n",
    "        pass"
   ]
  },
  {
   "cell_type": "markdown",
   "metadata": {},
   "source": [
    "## Viewing the Results"
   ]
  },
  {
   "cell_type": "code",
   "execution_count": 2,
   "metadata": {},
   "outputs": [],
   "source": [
    "ase_traj = Trajectory(r\"G:\\ephemeral\\2371379.cx1\\siderite_bulk_331.traj\", 'r')"
   ]
  }
 ],
 "metadata": {
  "kernelspec": {
   "display_name": "Python 3",
   "language": "python",
   "name": "python3"
  },
  "language_info": {
   "codemirror_mode": {
    "name": "ipython",
    "version": 3
   },
   "file_extension": ".py",
   "mimetype": "text/x-python",
   "name": "python",
   "nbconvert_exporter": "python",
   "pygments_lexer": "ipython3",
   "version": "3.7.2"
  }
 },
 "nbformat": 4,
 "nbformat_minor": 2
}
