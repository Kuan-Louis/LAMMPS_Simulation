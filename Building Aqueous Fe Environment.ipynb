{
 "cells": [
  {
   "cell_type": "code",
   "execution_count": 2,
   "metadata": {},
   "outputs": [
    {
     "name": "stdout",
     "output_type": "stream",
     "text": [
      "Populating the interactive namespace from numpy and matplotlib\n"
     ]
    },
    {
     "data": {
      "text/plain": [
       "'D:\\\\Cloud Storage\\\\GitRepositories\\\\LAMMPS_Simulation\\\\'"
      ]
     },
     "execution_count": 2,
     "metadata": {},
     "output_type": "execute_result"
    }
   ],
   "source": [
    "%pylab inline\n",
    "%load_ext autoreload\n",
    "%autoreload 2\n",
    "\n",
    "import scipy.constants as cst\n",
    "from lammpsrun import LAMMPS, Prism\n",
    "import os\n",
    "\n",
    "from ase import Atoms\n",
    "from ase.visualize import view\n",
    "from ase.io.trajectory import Trajectory\n",
    "from ase.io import write\n",
    "from ase.build import *\n",
    "\n",
    "homepath = \"D:\\\\Cloud Storage\\\\GitRepositories\\\\LAMMPS_Simulation\\\\\"\n",
    "homepath"
   ]
  },
  {
   "cell_type": "code",
   "execution_count": 3,
   "metadata": {},
   "outputs": [],
   "source": [
    "Atoms_grid = Atoms('Ne', pbc=True)\n",
    "box_length = ((125 / (55.5 * cst.Avogadro)) * (1e+27))**(1 / 3)\n",
    "Atoms_grid.set_cell((box_length, box_length, box_length))\n",
    "Atoms_grid.center()\n",
    "Atoms_grid = Atoms_grid.repeat((5, 5, 5))\n",
    "Atoms_grid.rattle(stdev= box_length/5 - 1)"
   ]
  },
  {
   "cell_type": "code",
   "execution_count": 20,
   "metadata": {},
   "outputs": [
    {
     "data": {
      "application/vnd.jupyter.widget-view+json": {
       "model_id": "7031b727e09041188c610738e46126a8",
       "version_major": 2,
       "version_minor": 0
      },
      "text/plain": [
       "HBox(children=(NGLWidget(), VBox(children=(Dropdown(description='Show', options=('All', 'Ne'), value='All'), D…"
      ]
     },
     "metadata": {},
     "output_type": "display_data"
    }
   ],
   "source": [
    "view(Atoms_grid, viewer='ngl')"
   ]
  },
  {
   "cell_type": "code",
   "execution_count": 4,
   "metadata": {},
   "outputs": [],
   "source": [
    "H2O_bulk = molecule('H2O')\n",
    "H2O_bulk.euler_rotate(rand()*360, rand()*360, rand()*360, center=\"COM\")\n",
    "H2O_bulk.translate(Atoms_grid.get_positions()[0])\n",
    "H2O_bulk.set_cell(Atoms_grid.get_cell())\n",
    "H2O_bulk.set_pbc(True)"
   ]
  },
  {
   "cell_type": "code",
   "execution_count": 5,
   "metadata": {},
   "outputs": [],
   "source": [
    "for new_pos in Atoms_grid.get_positions()[1:]:\n",
    "    new_molecule = molecule('H2O')\n",
    "    new_molecule.euler_rotate(rand()*360, rand()*360, rand()*360, center=\"COM\")\n",
    "    new_molecule.translate(new_pos)\n",
    "    \n",
    "    H2O_bulk += new_molecule.copy()\n",
    "H2O_bulk.center()"
   ]
  },
  {
   "cell_type": "code",
   "execution_count": 6,
   "metadata": {},
   "outputs": [
    {
     "data": {
      "application/vnd.jupyter.widget-view+json": {
       "model_id": "973a2fa1e8e548b7a3750bd2706edc46",
       "version_major": 2,
       "version_minor": 0
      },
      "text/plain": [
       "HBox(children=(NGLWidget(), VBox(children=(Dropdown(description='Show', options=('All', 'H', 'O'), value='All'…"
      ]
     },
     "metadata": {},
     "output_type": "display_data"
    }
   ],
   "source": [
    "view(H2O_bulk, viewer='ngl')"
   ]
  },
  {
   "cell_type": "code",
   "execution_count": 7,
   "metadata": {},
   "outputs": [],
   "source": [
    "H2O_bulk_reaxff_params = {\n",
    "    # Initialization\n",
    "    \"units\": \"real\",\n",
    "    \"atom_style\": \"charge\",\n",
    "    \"mass\": [\"1 1.008\",\n",
    "             \"2 15.999\"],\n",
    "    \"velocity\": [\"all create 300.0 4928459 rot yes dist gaussian\"],\n",
    "    \n",
    "    # Forcefield definition\n",
    "    \"pair_style\": \"reax/c NULL safezone 16\",\n",
    "    \"pair_coeff\": ['* * ' + 'ffield.reax.oh' + ' H O'],\n",
    "    \"neighbor\": \"2.0 bin\",\n",
    "    #\"neighbor_modify\": \"delay 10 check yes\",\n",
    "    \n",
    "    # Run and Minimization\n",
    "    \"run\": \"1000\",\n",
    "    \"timestep\": 0.5,\n",
    "    \"fix\": [\"1 all nve\",\n",
    "            \"2 all qeq/reax 1 0.0 10.0 1e-6 reax/c\"]#,\n",
    "            #\"2 all temp/berendsen 300.0 300.0 100\"]\n",
    "}"
   ]
  },
  {
   "cell_type": "code",
   "execution_count": 2,
   "metadata": {},
   "outputs": [
    {
     "name": "stdout",
     "output_type": "stream",
     "text": [
      "yes\n"
     ]
    }
   ],
   "source": [
    "def print_values(**kwargs):\n",
    "    if \"my_name\" in kwargs:\n",
    "        print('yes')\n",
    "\n",
    "print_values(my_name=\"Sammy\", your_name=\"Casey\")"
   ]
  },
  {
   "cell_type": "code",
   "execution_count": 5,
   "metadata": {},
   "outputs": [
    {
     "ename": "NameError",
     "evalue": "name 'hi' is not defined",
     "output_type": "error",
     "traceback": [
      "\u001b[1;31m---------------------------------------------------------------------------\u001b[0m",
      "\u001b[1;31mNameError\u001b[0m                                 Traceback (most recent call last)",
      "\u001b[1;32m<ipython-input-5-8751279674fe>\u001b[0m in \u001b[0;36m<module>\u001b[1;34m\u001b[0m\n\u001b[1;32m----> 1\u001b[1;33m \u001b[1;32mif\u001b[0m \u001b[0mhi\u001b[0m \u001b[1;33m==\u001b[0m \u001b[1;32mNone\u001b[0m\u001b[1;33m:\u001b[0m\u001b[1;33m\u001b[0m\u001b[1;33m\u001b[0m\u001b[0m\n\u001b[0m\u001b[0;32m      2\u001b[0m     \u001b[0mprint\u001b[0m\u001b[1;33m(\u001b[0m\u001b[1;34m'hi'\u001b[0m\u001b[1;33m)\u001b[0m\u001b[1;33m\u001b[0m\u001b[1;33m\u001b[0m\u001b[0m\n",
      "\u001b[1;31mNameError\u001b[0m: name 'hi' is not defined"
     ]
    }
   ],
   "source": [
    "if hi == None:\n",
    "    print('hi')"
   ]
  },
  {
   "cell_type": "code",
   "execution_count": 8,
   "metadata": {},
   "outputs": [],
   "source": [
    "_test = 'asdasdasd'"
   ]
  },
  {
   "cell_type": "code",
   "execution_count": 9,
   "metadata": {},
   "outputs": [
    {
     "name": "stdout",
     "output_type": "stream",
     "text": [
      "hi\n"
     ]
    }
   ],
   "source": [
    "if _test:\n",
    "    print('hi')\n",
    "else:\n",
    "    print('ho')"
   ]
  },
  {
   "cell_type": "code",
   "execution_count": null,
   "metadata": {},
   "outputs": [],
   "source": []
  }
 ],
 "metadata": {
  "kernelspec": {
   "display_name": "Python 3",
   "language": "python",
   "name": "python3"
  },
  "language_info": {
   "codemirror_mode": {
    "name": "ipython",
    "version": 3
   },
   "file_extension": ".py",
   "mimetype": "text/x-python",
   "name": "python",
   "nbconvert_exporter": "python",
   "pygments_lexer": "ipython3",
   "version": "3.6.7"
  }
 },
 "nbformat": 4,
 "nbformat_minor": 2
}
