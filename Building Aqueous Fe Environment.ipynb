{
 "cells": [
  {
   "cell_type": "code",
   "execution_count": 1,
   "metadata": {},
   "outputs": [
    {
     "name": "stdout",
     "output_type": "stream",
     "text": [
      "Populating the interactive namespace from numpy and matplotlib\n",
      "D:\\Cloud Storage\\GitRepositories\\LAMMPS_Simulation\\\n",
      "G:\\home\\LAMMPS_Simulation\\HPC_Jupyter\\\n"
     ]
    }
   ],
   "source": [
    "%pylab notebook\n",
    "\n",
    "import scipy.constants as cst\n",
    "from lammpsrun import LAMMPS, Prism\n",
    "import os\n",
    "\n",
    "from ase import Atoms\n",
    "from ase.visualize import view\n",
    "from ase.io.trajectory import Trajectory\n",
    "from ase.io import write\n",
    "from ase.build import *\n",
    "from ase.spacegroup import crystal\n",
    "from ase.data import atomic_numbers, atomic_names, atomic_masses, covalent_radii\n",
    "import nglview as nv\n",
    "\n",
    "homepath = \"D:\\\\Cloud Storage\\\\GitRepositories\\\\LAMMPS_Simulation\\\\\"\n",
    "hpc_path = \"G:\\\\home\\\\LAMMPS_Simulation\\\\HPC_Jupyter\\\\\"\n",
    "print(homepath + '\\n' + hpc_path)"
   ]
  },
  {
   "cell_type": "code",
   "execution_count": 3,
   "metadata": {},
   "outputs": [],
   "source": [
    "H2O_bulk_reaxff_params = {\n",
    "    # Initialization\n",
    "    \"units\": \"real\",\n",
    "    \"atom_style\": \"charge\",\n",
    "    \"mass\": [\"1 1.008\",\n",
    "             \"2 15.999\"],\n",
    "    \"velocity\": [\"all create 300.0 4928459 rot yes dist gaussian\"],\n",
    "    \n",
    "    # Forcefield definition\n",
    "    \"pair_style\": \"reax/c NULL safezone 16\",\n",
    "    \"pair_coeff\": ['* * ' + 'ffield.reax.oh' + ' H O'],\n",
    "    \"neighbor\": \"2.0 bin\",\n",
    "    #\"neighbor_modify\": \"delay 10 check yes\",\n",
    "    \n",
    "    # Run and Minimization\n",
    "    \"run\": \"1000\",\n",
    "    \"timestep\": 0.5,\n",
    "    \"fix\": [\"1 all nve\",\n",
    "            \"2 all qeq/reax 1 0.0 10.0 1e-6 reax/c\"]#,\n",
    "            #\"2 all temp/berendsen 300.0 300.0 100\"]\n",
    "}"
   ]
  },
  {
   "cell_type": "code",
   "execution_count": 4,
   "metadata": {},
   "outputs": [
    {
     "data": {
      "application/vnd.jupyter.widget-view+json": {
       "model_id": "27e04424797440888ab2106904ef360a",
       "version_major": 2,
       "version_minor": 0
      },
      "text/plain": [
       "HBox(children=(NGLWidget(count=10001), VBox(children=(Dropdown(description='Show', options=('All', 'O', 'H'), …"
      ]
     },
     "metadata": {},
     "output_type": "display_data"
    }
   ],
   "source": [
    "H2O_bulk_traj = Trajectory(hpc_path + \"fe_aq\\\\aq_300K.traj\")\n",
    "#CO2_solvation_traj = Trajectory(homepath + \"co2_hydration\\\\CO2_solvation_reaxff.traj\", 'r')\n",
    "\n",
    "H2O_bulk_traj_view = view(H2O_bulk_traj, viewer='ngl')\n",
    "H2O_bulk_traj_view.view.update_spacefill(radiusType='covalent',\n",
    "                                              scale=0.8,\n",
    "                                              color_scheme='element',\n",
    "                                              color_scale='rainbow')\n",
    "H2O_bulk_traj_view.view.player.step = 10\n",
    "H2O_bulk_traj_view"
   ]
  },
  {
   "cell_type": "code",
   "execution_count": 3,
   "metadata": {},
   "outputs": [
    {
     "data": {
      "application/vnd.jupyter.widget-view+json": {
       "model_id": "6c2a40fd33a043fb978935510f738a1a",
       "version_major": 2,
       "version_minor": 0
      },
      "text/plain": [
       "NGLWidget(count=100001)"
      ]
     },
     "metadata": {},
     "output_type": "display_data"
    },
    {
     "data": {
      "application/vnd.jupyter.widget-view+json": {
       "model_id": "d7c6e8364e9b437491cca54bf0670343",
       "version_major": 2,
       "version_minor": 0
      },
      "text/plain": [
       "Tab(children=(Box(children=(Box(children=(Box(children=(Label(value='step'), IntSlider(value=10, min=-100)), l…"
      ]
     },
     "metadata": {},
     "output_type": "display_data"
    }
   ],
   "source": [
    "Fe_bcc111_l10_aq_traj = Trajectory(hpc_path + \"fe_aq\\\\Fe_bcc111_l10_aq.traj\")\n",
    "#CO2_solvation_traj = Trajectory(homepath + \"co2_hydration\\\\CO2_solvation_reaxff.traj\", 'r')\n",
    "\n",
    "\n",
    "\n",
    "Fe_bcc111_l10_aq_traj_view = nv.show_asetraj(Fe_bcc111_l10_aq_traj, gui=True)\n",
    "\n",
    "#Fe_bcc111_l10_aq_traj_view.add_spacefill()\n",
    "#Fe_bcc111_l10_aq_traj_view.update_spacefill(radiusType='covalent',\n",
    "#                                            scale=0.5,\n",
    "#                                            color_scheme='element',\n",
    "#                                            color_scale='rainbow')\n",
    "\n",
    "Fe_bcc111_l10_aq_traj_view.player.parameters = dict(delay=100, step=10)\n",
    "Fe_bcc111_l10_aq_traj_view"
   ]
  },
  {
   "cell_type": "code",
   "execution_count": null,
   "metadata": {},
   "outputs": [],
   "source": []
  }
 ],
 "metadata": {
  "kernelspec": {
   "display_name": "Python 3",
   "language": "python",
   "name": "python3"
  },
  "language_info": {
   "codemirror_mode": {
    "name": "ipython",
    "version": 3
   },
   "file_extension": ".py",
   "mimetype": "text/x-python",
   "name": "python",
   "nbconvert_exporter": "python",
   "pygments_lexer": "ipython3",
   "version": "3.6.7"
  }
 },
 "nbformat": 4,
 "nbformat_minor": 2
}
