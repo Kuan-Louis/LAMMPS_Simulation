{
 "cells": [
  {
   "cell_type": "code",
   "execution_count": 1,
   "metadata": {},
   "outputs": [],
   "source": [
    "import os, sys\n",
    "import reaxff_convert as rc\n",
    "import pandas as pd\n",
    "import numpy as np\n",
    "\n",
    "from reaxFF_data import reaxFF_data, bidict"
   ]
  },
  {
   "cell_type": "markdown",
   "metadata": {},
   "source": [
    "## Originating Files"
   ]
  },
  {
   "cell_type": "code",
   "execution_count": 2,
   "metadata": {},
   "outputs": [],
   "source": [
    "species = ['C', 'H', 'O', 'Fe']\n",
    "potential_fd = os.path.join(os.getcwd(), \"potentials\")\n",
    "\n",
    "water_fd = os.path.join(potential_fd, \"ffield.reax.O_H\")\n",
    "fe_o_water_fd = os.path.join(potential_fd, \"ffield.reax.Fe_O_C_H\")\n",
    "fe_c_h_fd = os.path.join(potential_fd, \"ffield.reax.Fe_C_H\")\n",
    "fe_o_c_fd = os.path.join(potential_fd, \"ffield.reax.Fe_O_C\")\n",
    "\n",
    "water_data = reaxFF_data(['H', 'O'])\n",
    "water_data.read_lammps(water_fd)\n",
    "water_data.clean_params()\n",
    "\n",
    "fe_o_water_data = reaxFF_data(species)\n",
    "fe_o_water_data.read_lammps(fe_o_water_fd)\n",
    "fe_o_water_data.clean_params()\n",
    "\n",
    "fe_c_h_data = reaxFF_data(['H', 'C', 'Fe'])\n",
    "fe_c_h_data.read_lammps(fe_c_h_fd)\n",
    "fe_c_h_data.clean_params()\n",
    "\n",
    "fe_o_c_data = reaxFF_data(['C', 'O', 'Fe'])\n",
    "fe_o_c_data.read_lammps(fe_o_c_fd)\n",
    "fe_o_c_data.clean_params()"
   ]
  },
  {
   "cell_type": "markdown",
   "metadata": {},
   "source": [
    "## Starting Compilation"
   ]
  },
  {
   "cell_type": "code",
   "execution_count": 3,
   "metadata": {},
   "outputs": [],
   "source": [
    "master_data = reaxFF_data(species)\n",
    "for i,k in master_data.params.items():\n",
    "    k['source'] = float('nan')\n",
    "steps = [master_data.copy()]"
   ]
  },
  {
   "cell_type": "code",
   "execution_count": 4,
   "metadata": {},
   "outputs": [],
   "source": [
    "# First make the new df\n",
    "steps.append(steps[-1].copy())\n",
    "\n",
    "# # Combine data\n",
    "for i, k in steps[-1].params.items():\n",
    "    if i == 'general':\n",
    "        k.update(fe_o_water_data.params[i])\n",
    "        k['source'] = 'fe_o_water'\n",
    "    else:\n",
    "        cur_param_df = fe_o_water_data.params[i][k.columns.difference(['source'])]\n",
    "        changes_df = k.reset_index().merge(cur_param_df.reset_index(),how=\"right\").set_index('symbols')\n",
    "        changes_df['source'] = 'fe_o_water'\n",
    "        k.update(changes_df)"
   ]
  },
  {
   "cell_type": "code",
   "execution_count": 5,
   "metadata": {},
   "outputs": [],
   "source": [
    "# Combine new OH data\n",
    "# First make the new df\n",
    "steps.append(steps[-1].copy())\n",
    "\n",
    "# # Combine data\n",
    "for i, k in steps[-1].params.items():\n",
    "    if i == 'general':\n",
    "        continue\n",
    "    else:\n",
    "        cur_param_df = water_data.params[i][k.columns.difference(['source'])]\n",
    "        changes_df = k.reset_index().merge(cur_param_df.reset_index(),how=\"right\").set_index('symbols')\n",
    "        changes_df['source'] = 'water'\n",
    "        k.update(changes_df)"
   ]
  },
  {
   "cell_type": "markdown",
   "metadata": {},
   "source": [
    "## Different Merging with Fe/C/O"
   ]
  },
  {
   "cell_type": "code",
   "execution_count": 10,
   "metadata": {},
   "outputs": [
    {
     "data": {
      "text/plain": [
       "[('bonds', 'off_diagonal', 'angles'),\n",
       " ('bonds', 'off_diagonal'),\n",
       " ('bonds', 'angles'),\n",
       " ('off_diagonal', 'angles'),\n",
       " ('bonds',),\n",
       " ('off_diagonal',),\n",
       " ('angles',)]"
      ]
     },
     "execution_count": 10,
     "metadata": {},
     "output_type": "execute_result"
    }
   ],
   "source": [
    "from itertools import combinations\n",
    "par_list = []\n",
    "par_combi = ['bonds', 'off_diagonal', 'angles']\n",
    "\n",
    "# Inspection revealed no torsion changes\n",
    "# par_list.extend(list(combinations(['bonds', 'off_diagonal', 'angles', 'torsions'], r=4)))\n",
    "par_list.extend(list(combinations(par_combi, r=3)))\n",
    "par_list.extend(list(combinations(par_combi, r=2)))\n",
    "par_list.extend(list(combinations(par_combi, r=1)))\n",
    "par_list"
   ]
  },
  {
   "cell_type": "code",
   "execution_count": 11,
   "metadata": {
    "scrolled": false
   },
   "outputs": [
    {
     "name": "stdout",
     "output_type": "stream",
     "text": [
      "bonds off_diagonal angles\n",
      "******************************\n",
      "           Edis1 LPpen n.u.1    pbe1 pbo5 13corr pbo6   kov    pbe2  pbo3  \\\n",
      "symbols                                                                     \n",
      "C-Fe     78.6009     0     0  0.8712 -0.3      1   36  0.01  1.1811 -0.35   \n",
      "\n",
      "        pbo4 Etrip    pbo1   pbo2 ovcorr n.u.2  source  \n",
      "symbols                                                 \n",
      "C-Fe      15     1 -0.1666  2.611      1     0  fe_o_c  \n",
      "******************************\n",
      "bonds off_diagonal angles\n",
      "******************************\n",
      "          Ediss      Ro  gamma  rsigma rpi rpi2   source\n",
      "symbols                                                 \n",
      "C-Fe     0.5077  0.3058  6.291  1.2466  -1    -1  fe_o_c\n",
      "******************************\n",
      "bonds off_diagonal angles\n",
      "******************************\n",
      "         Theta,o       ka       kb pv1     pv2 kpenal     pv3  source\n",
      "symbols                                                              \n",
      "C-C-Fe     7.031  17.9932   0.4327   0  0.1623      0   0.869  fe_o_c\n",
      "C-O-Fe   99.3914   1.9671  10.5677   0  0.3631      0  0.0002  fe_o_c\n",
      "C-Fe-C    2.3514   1.5811     0.45   0  0.3458      0  2.7984  fe_o_c\n",
      "C-Fe-Fe  55.5054    0.599   3.6398   0  0.9539      0  0.7441  fe_o_c\n",
      "O-C-Fe   30.5955  36.1214        8   0  0.1032      0       1  fe_o_c\n",
      "Fe-C-Fe  17.0269  28.9696   2.9302   0  0.0856      0  1.1201  fe_o_c\n",
      "******************************\n",
      "bonds off_diagonal\n",
      "******************************\n",
      "           Edis1 LPpen n.u.1    pbe1 pbo5 13corr pbo6   kov    pbe2  pbo3  \\\n",
      "symbols                                                                     \n",
      "C-Fe     78.6009     0     0  0.8712 -0.3      1   36  0.01  1.1811 -0.35   \n",
      "\n",
      "        pbo4 Etrip    pbo1   pbo2 ovcorr n.u.2  source  \n",
      "symbols                                                 \n",
      "C-Fe      15     1 -0.1666  2.611      1     0  fe_o_c  \n",
      "******************************\n",
      "bonds off_diagonal\n",
      "******************************\n",
      "          Ediss      Ro  gamma  rsigma rpi rpi2   source\n",
      "symbols                                                 \n",
      "C-Fe     0.5077  0.3058  6.291  1.2466  -1    -1  fe_o_c\n",
      "******************************\n",
      "bonds angles\n",
      "******************************\n",
      "           Edis1 LPpen n.u.1    pbe1 pbo5 13corr pbo6   kov    pbe2  pbo3  \\\n",
      "symbols                                                                     \n",
      "C-Fe     78.6009     0     0  0.8712 -0.3      1   36  0.01  1.1811 -0.35   \n",
      "\n",
      "        pbo4 Etrip    pbo1   pbo2 ovcorr n.u.2  source  \n",
      "symbols                                                 \n",
      "C-Fe      15     1 -0.1666  2.611      1     0  fe_o_c  \n",
      "******************************\n",
      "bonds angles\n",
      "******************************\n",
      "         Theta,o       ka       kb pv1     pv2 kpenal     pv3  source\n",
      "symbols                                                              \n",
      "C-C-Fe     7.031  17.9932   0.4327   0  0.1623      0   0.869  fe_o_c\n",
      "C-O-Fe   99.3914   1.9671  10.5677   0  0.3631      0  0.0002  fe_o_c\n",
      "C-Fe-C    2.3514   1.5811     0.45   0  0.3458      0  2.7984  fe_o_c\n",
      "C-Fe-Fe  55.5054    0.599   3.6398   0  0.9539      0  0.7441  fe_o_c\n",
      "O-C-Fe   30.5955  36.1214        8   0  0.1032      0       1  fe_o_c\n",
      "Fe-C-Fe  17.0269  28.9696   2.9302   0  0.0856      0  1.1201  fe_o_c\n",
      "******************************\n",
      "off_diagonal angles\n",
      "******************************\n",
      "          Ediss      Ro  gamma  rsigma rpi rpi2   source\n",
      "symbols                                                 \n",
      "C-Fe     0.5077  0.3058  6.291  1.2466  -1    -1  fe_o_c\n",
      "******************************\n",
      "off_diagonal angles\n",
      "******************************\n",
      "         Theta,o       ka       kb pv1     pv2 kpenal     pv3  source\n",
      "symbols                                                              \n",
      "C-C-Fe     7.031  17.9932   0.4327   0  0.1623      0   0.869  fe_o_c\n",
      "C-O-Fe   99.3914   1.9671  10.5677   0  0.3631      0  0.0002  fe_o_c\n",
      "C-Fe-C    2.3514   1.5811     0.45   0  0.3458      0  2.7984  fe_o_c\n",
      "C-Fe-Fe  55.5054    0.599   3.6398   0  0.9539      0  0.7441  fe_o_c\n",
      "O-C-Fe   30.5955  36.1214        8   0  0.1032      0       1  fe_o_c\n",
      "Fe-C-Fe  17.0269  28.9696   2.9302   0  0.0856      0  1.1201  fe_o_c\n",
      "******************************\n",
      "bonds\n",
      "******************************\n",
      "           Edis1 LPpen n.u.1    pbe1 pbo5 13corr pbo6   kov    pbe2  pbo3  \\\n",
      "symbols                                                                     \n",
      "C-Fe     78.6009     0     0  0.8712 -0.3      1   36  0.01  1.1811 -0.35   \n",
      "\n",
      "        pbo4 Etrip    pbo1   pbo2 ovcorr n.u.2  source  \n",
      "symbols                                                 \n",
      "C-Fe      15     1 -0.1666  2.611      1     0  fe_o_c  \n",
      "******************************\n",
      "off_diagonal\n",
      "******************************\n",
      "          Ediss      Ro  gamma  rsigma rpi rpi2   source\n",
      "symbols                                                 \n",
      "C-Fe     0.5077  0.3058  6.291  1.2466  -1    -1  fe_o_c\n",
      "******************************\n",
      "angles\n",
      "******************************\n",
      "         Theta,o       ka       kb pv1     pv2 kpenal     pv3  source\n",
      "symbols                                                              \n",
      "C-C-Fe     7.031  17.9932   0.4327   0  0.1623      0   0.869  fe_o_c\n",
      "C-O-Fe   99.3914   1.9671  10.5677   0  0.3631      0  0.0002  fe_o_c\n",
      "C-Fe-C    2.3514   1.5811     0.45   0  0.3458      0  2.7984  fe_o_c\n",
      "C-Fe-Fe  55.5054    0.599   3.6398   0  0.9539      0  0.7441  fe_o_c\n",
      "O-C-Fe   30.5955  36.1214        8   0  0.1032      0       1  fe_o_c\n",
      "Fe-C-Fe  17.0269  28.9696   2.9302   0  0.0856      0  1.1201  fe_o_c\n",
      "******************************\n"
     ]
    }
   ],
   "source": [
    "import datetime\n",
    "    \n",
    "for par in par_list:\n",
    "    # First make the new df\n",
    "    new_step = steps[-1].copy()\n",
    "    \n",
    "    # # Combine data\n",
    "    for i, k in new_step.params.items():\n",
    "        if i not in par:\n",
    "            continue\n",
    "        else:\n",
    "            cur_param_df = fe_o_c_data.params[i][k.columns.difference(['source'])]\n",
    "            cur_param_df = cur_param_df[[('C' in x and 'Fe' in x) for x in cur_param_df.index]]\n",
    "            changes_df = k.reset_index().merge(cur_param_df.reset_index(),how=\"right\").set_index('symbols')\n",
    "            changes_df['source'] = 'fe_o_c'\n",
    "            print(' '.join(par))\n",
    "            print(\"*\"*30)\n",
    "            print(changes_df)\n",
    "            print(\"*\"*30)\n",
    "            k.update(changes_df)\n",
    "\n",
    "    new_step.description = \"Combined fe_o_water with new water and fe_o_c's \"+ '-'.join(par) + str(datetime.datetime.now())\n",
    "    new_step.clean_params()\n",
    "    new_step.gen_species2id()\n",
    "    new_step_str = new_step.write_lammps()\n",
    "\n",
    "    with open(os.path.join(\"final_potential_set\", '_'.join(par) + \"_c_fe.reax\"), 'w') as f:\n",
    "        f.write(new_step_str)"
   ]
  },
  {
   "cell_type": "code",
   "execution_count": 12,
   "metadata": {},
   "outputs": [],
   "source": [
    "import datetime\n",
    "\n",
    "# First make the new df\n",
    "new_step = steps[-1].copy()\n",
    "\n",
    "# # Combine data\n",
    "for i, k in new_step.params.items():\n",
    "    if i not in ['angles']:\n",
    "        continue\n",
    "    else:\n",
    "        cur_param_df = fe_o_c_data.params[i][k.columns.difference(['source'])]\n",
    "        cur_param_df = cur_param_df[[('C' in x and 'Fe' in x and 'O' in x) for x in cur_param_df.index]]\n",
    "        changes_df = k.reset_index().merge(cur_param_df.reset_index(),how=\"right\").set_index('symbols')\n",
    "        changes_df['source'] = 'fe_o_c'\n",
    "        k.update(changes_df)\n",
    "\n",
    "new_step.description = \"Combined fe_o_water with new water and fe_o_c's Fe C and O\"+ '-'.join(par) + str(datetime.datetime.now())\n",
    "new_step.clean_params()\n",
    "new_step.gen_species2id()\n",
    "new_step_str = new_step.write_lammps()\n",
    "\n",
    "with open(os.path.join(\"final_potential_set\", 'angles' + \"_o_c_fe.reax\"), 'w') as f:\n",
    "    f.write(new_step_str)"
   ]
  }
 ],
 "metadata": {
  "kernelspec": {
   "display_name": "Python 3",
   "language": "python",
   "name": "python3"
  },
  "language_info": {
   "codemirror_mode": {
    "name": "ipython",
    "version": 3
   },
   "file_extension": ".py",
   "mimetype": "text/x-python",
   "name": "python",
   "nbconvert_exporter": "python",
   "pygments_lexer": "ipython3",
   "version": "3.7.3"
  }
 },
 "nbformat": 4,
 "nbformat_minor": 2
}
