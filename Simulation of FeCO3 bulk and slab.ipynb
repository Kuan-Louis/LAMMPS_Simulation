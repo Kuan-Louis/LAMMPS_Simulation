{
 "cells": [
  {
   "cell_type": "code",
   "execution_count": 2,
   "metadata": {},
   "outputs": [
    {
     "name": "stdout",
     "output_type": "stream",
     "text": [
      "Populating the interactive namespace from numpy and matplotlib\n",
      "D:\\Cloud Storage\\GitRepositories\\LAMMPS_Simulation\\\n"
     ]
    }
   ],
   "source": [
    "%pylab notebook\n",
    "%load_ext autoreload\n",
    "%autoreload 2\n",
    "\n",
    "#from mpl_toolkits.mplot3d import Axes3D\n",
    "import scipy.constants as cst\n",
    "from lammpsrun import LAMMPS, Prism\n",
    "from itertools import product\n",
    "\n",
    "from ase import Atoms, units\n",
    "from ase.visualize import view\n",
    "from ase.io.trajectory import Trajectory\n",
    "from ase.io import write, read\n",
    "from ase.neighborlist import neighbor_list\n",
    "from ase.build import *\n",
    "from ase.md import *\n",
    "from ase.spacegroup import crystal\n",
    "\n",
    "homepath = \"D:\\\\Cloud Storage\\\\GitRepositories\\\\LAMMPS_Simulation\\\\\"\n",
    "print(homepath)"
   ]
  },
  {
   "cell_type": "markdown",
   "metadata": {},
   "source": [
    "Crystallographic data is obtained from https://materials.springer.com/isp/crystallographic/docs/sd_1628167"
   ]
  },
  {
   "cell_type": "markdown",
   "metadata": {},
   "source": [
    "# Bulk siderite crystal"
   ]
  },
  {
   "cell_type": "code",
   "execution_count": 3,
   "metadata": {},
   "outputs": [],
   "source": [
    "siderite = crystal(symbols = ['Fe', 'C', 'O'],\n",
    "                    basis = [(0, 0, 0), \n",
    "                             (0, 0, 0.25),\n",
    "                             (0.2748, 0, 0.25)],\n",
    "                    spacegroup=167,\n",
    "                    cellpar=[4.72, 4.72, 15.51, 90, 90, 120])\n",
    "\n",
    "# Increasing size to improve QEq accuracy (>1 nm)\n",
    "siderite_bulk = siderite.repeat((3, 3, 1))\n",
    "siderite_bulk.center()"
   ]
  },
  {
   "cell_type": "code",
   "execution_count": 5,
   "metadata": {},
   "outputs": [],
   "source": [
    "# Atoms C Fe O\n",
    "siderite_bulk_reaxff_params = {\n",
    "    # Initialization\n",
    "    \"units\": \"real\",\n",
    "    \"atom_style\": \"charge\",\n",
    "    \"mass\": [\"1 12.011\",\n",
    "             \"2 55.845\",\n",
    "             \"3 15.999\"],\n",
    "    \n",
    "    # Forcefield definition\n",
    "    \"pair_style\": \"reax/c NULL safezone 16\",\n",
    "    \"pair_coeff\": ['* * ' + 'ffield.reax.Fe_O_C_H' + ' C Fe O'],\n",
    "    \"neighbor\": \"2.0 bin\",\n",
    "    \"neighbor_modify\": \"delay 10 check yes\",\n",
    "    \n",
    "    # Run and Minimization\n",
    "    \"minimize\": \"1e-25 1e-25 10000 10000\",\n",
    "    \"min_style\": \"cg\",\n",
    "    \"timestep\": 0.1,\n",
    "    \"fix\": [\"1 all box/relax iso 0.0 vmax 0.001\",\n",
    "            \"2 all qeq/reax 1 0.0 10.0 1e-6 reax/c\"]\n",
    "}"
   ]
  },
  {
   "cell_type": "code",
   "execution_count": 20,
   "metadata": {},
   "outputs": [],
   "source": [
    "# Setting up simulation input\n",
    "siderite_bulk_calc = LAMMPS(tmp_dir = homepath + \"temp\", \n",
    "                            parameters = siderite_bulk_reaxff_params,\n",
    "                            no_data_file=True)\n",
    "\n",
    "siderite_bulk.set_calculator(siderite_bulk_calc)\n",
    "siderite_bulk_calc.atoms = siderite_bulk.copy()\n",
    "siderite_bulk_calc.prism = Prism(siderite_bulk_calc.atoms.get_cell())"
   ]
  },
  {
   "cell_type": "code",
   "execution_count": 21,
   "metadata": {},
   "outputs": [],
   "source": [
    "# Writing input file\n",
    "siderite_bulk_calc.write_lammps_in(lammps_in = homepath + \"siderite\\\\siderite_bulk_reaxff_minimize.in\",\n",
    "                                   lammps_trj = homepath + \"siderite\\\\siderite_bulk_reaxff_minimize.lammpstrj\")\n"
   ]
  },
  {
   "cell_type": "code",
   "execution_count": null,
   "metadata": {},
   "outputs": [],
   "source": [
    "# Running calculations\n",
    "!lmp_serial -in siderite\\siderite_bulk_reaxff_minimize.in -log siderite\\siderite_bulk_reaxff_minimize.log"
   ]
  },
  {
   "cell_type": "code",
   "execution_count": 23,
   "metadata": {},
   "outputs": [],
   "source": [
    "# Reading LAMMPS output\n",
    "siderite_bulk_calc.read_lammps_log(lammps_log = homepath + \"siderite\\\\siderite_bulk_reaxff_minimize.log\")\n",
    "siderite_bulk_data = siderite_bulk_calc.thermo_content[-1]\n",
    "\n",
    "siderite_bulk_calc.trajectory_out = Trajectory(homepath + \"siderite\\\\siderite_bulk_reaxff_minimize.traj\", 'w')\n",
    "siderite_bulk_calc.read_lammps_trj(lammps_trj = homepath + \"siderite\\\\siderite_bulk_reaxff_minimize.lammpstrj\")\n",
    "siderite_bulk_calc.trajectory_out.close()"
   ]
  },
  {
   "cell_type": "code",
   "execution_count": 24,
   "metadata": {
    "scrolled": false
   },
   "outputs": [
    {
     "data": {
      "application/vnd.jupyter.widget-view+json": {
       "model_id": "ba377fba798d447b9b94f74702307510",
       "version_major": 2,
       "version_minor": 0
      },
      "text/plain": [
       "HBox(children=(NGLWidget(count=244), VBox(children=(Dropdown(description='Show', options=('All', 'O', 'Fe', 'C…"
      ]
     },
     "metadata": {},
     "output_type": "display_data"
    }
   ],
   "source": [
    "siderite_bulk_traj = Trajectory(homepath + \"siderite\\\\siderite_bulk_reaxff_minimize.traj\", 'r')\n",
    "\n",
    "siderite_bulk_traj_view = view(siderite_bulk_traj, viewer='ngl')\n",
    "siderite_bulk_traj_view.view.update_spacefill(radiusType='covalent',\n",
    "                                              scale=0.8,\n",
    "                                              color_scheme='element',\n",
    "                                              color_scale='rainbow')\n",
    "siderite_bulk_traj_view.view.player.step = 1\n",
    "siderite_bulk_traj_view"
   ]
  },
  {
   "cell_type": "markdown",
   "metadata": {},
   "source": [
    "# Surfaces/Slabs"
   ]
  },
  {
   "cell_type": "markdown",
   "metadata": {},
   "source": [
    "Past work done with surface 104, 110, 100, 101, 001 and 012. High surface energy on 100 and 101"
   ]
  },
  {
   "cell_type": "code",
   "execution_count": 6,
   "metadata": {},
   "outputs": [],
   "source": [
    "# Atoms C Fe O\n",
    "siderite_slab_reaxff_params = {\n",
    "    # Initialization\n",
    "    \"units\": \"real\",\n",
    "    \"atom_style\": \"charge\",\n",
    "    \"mass\": [\"1 12.011\",\n",
    "             \"2 55.845\",\n",
    "             \"3 15.999\"],\n",
    "    \n",
    "    # Forcefield definition\n",
    "    \"pair_style\": \"reax/c NULL safezone 16\",\n",
    "    \"pair_coeff\": ['* * ' + 'ffield.reax.Fe_O_C_H' + ' C Fe O'],\n",
    "    \"neighbor\": \"2.0 bin\",\n",
    "    \"neighbor_modify\": \"delay 10 check yes\",\n",
    "    \n",
    "    # Run and Minimization\n",
    "    \"minimize\": \"1e-25 1e-25 10000 10000\",\n",
    "    \"min_style\": \"cg\",\n",
    "    \"timestep\": 0.1,\n",
    "    \"fix\": [\"1 all box/relax xy 0.0 vmax 0.001\",\n",
    "            \"2 all qeq/reax 1 0.0 10.0 1e-6 reax/c\"]\n",
    "}"
   ]
  },
  {
   "cell_type": "markdown",
   "metadata": {},
   "source": [
    "## siderite (104)"
   ]
  },
  {
   "cell_type": "code",
   "execution_count": 6,
   "metadata": {},
   "outputs": [],
   "source": [
    "siderite_surfaces = ['104', '110', '100', '101', '001', '012']\n",
    "for s_surface in siderite_surfaces:\n",
    "    sCurrentSurface = surface(siderite, (int(s_surface[0]), int(s_surface[1]), int(s_surface[2])), 2, vacuum=10)\n",
    "    sCurrentSurface = sCurrentSurface.repeat((2, 2, 1))\n",
    "    view(sCurrentSurface)"
   ]
  },
  {
   "cell_type": "code",
   "execution_count": null,
   "metadata": {},
   "outputs": [],
   "source": []
  }
 ],
 "metadata": {
  "kernelspec": {
   "display_name": "Python 3",
   "language": "python",
   "name": "python3"
  },
  "language_info": {
   "codemirror_mode": {
    "name": "ipython",
    "version": 3
   },
   "file_extension": ".py",
   "mimetype": "text/x-python",
   "name": "python",
   "nbconvert_exporter": "python",
   "pygments_lexer": "ipython3",
   "version": "3.6.7"
  }
 },
 "nbformat": 4,
 "nbformat_minor": 2
}
