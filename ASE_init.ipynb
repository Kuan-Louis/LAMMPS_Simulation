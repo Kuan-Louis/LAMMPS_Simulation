{
 "cells": [
  {
   "cell_type": "code",
   "execution_count": 1,
   "metadata": {},
   "outputs": [
    {
     "name": "stdout",
     "output_type": "stream",
     "text": [
      "Populating the interactive namespace from numpy and matplotlib\n"
     ]
    }
   ],
   "source": [
    "%pylab inline\n",
    "from ase.spacegroup import crystal\n",
    "from ase.lattice.cubic import BodyCenteredCubic\n",
    "from ase.visualize import view\n",
    "from lammpsrun import LAMMPS, Prism\n",
    "from ase.io import write\n",
    "from ase.build import *"
   ]
  },
  {
   "cell_type": "markdown",
   "metadata": {},
   "source": [
    "## Creating the simulation particles with ASE"
   ]
  },
  {
   "cell_type": "code",
   "execution_count": 13,
   "metadata": {},
   "outputs": [
    {
     "data": {
      "text/plain": [
       "'D:\\\\Cloud Storage\\\\GitRepositories\\\\LAMMPS_Simulation\\\\'"
      ]
     },
     "execution_count": 13,
     "metadata": {},
     "output_type": "execute_result"
    }
   ],
   "source": [
    "homepath = \"D:\\\\Cloud Storage\\\\GitRepositories\\\\LAMMPS_Simulation\\\\\"\n",
    "homepath"
   ]
  },
  {
   "cell_type": "code",
   "execution_count": 2,
   "metadata": {},
   "outputs": [],
   "source": [
    "Fe_bulk = bulk('Fe', 'bcc', a=3.5, cubic = True) * 10\n",
    "#BodyCenteredCubic(directions=[[1,0,0], [0,1,0], [0,0,1]], size=(2,2,3), \n",
    "#symbol='Fe', pbc=(1,1,1), latticeconstant=2.9)"
   ]
  },
  {
   "cell_type": "code",
   "execution_count": 4,
   "metadata": {},
   "outputs": [],
   "source": [
    "Al_bulk = bulk('Al', 'fcc', a=34.0, cubic = True)"
   ]
  },
  {
   "cell_type": "markdown",
   "metadata": {},
   "source": [
    "## Initial Simulation with Al"
   ]
  },
  {
   "cell_type": "code",
   "execution_count": 5,
   "metadata": {},
   "outputs": [],
   "source": [
    "al_lammps_params = {\n",
    "    # Initialization\n",
    "    \"units\": \"metal\",\n",
    "    \"atom_style\": \"atomic\",\n",
    "    \n",
    "    # Forcefield definition\n",
    "    \"pair_style\": \"eam/alloy\",\n",
    "    \"pair_coeff\": ['* * ' + 'Al99.eam.alloy' + ' Al'],\n",
    "    \"neighbor\": \"2.0 bin\",\n",
    "    \"neighbor_modify\": \"delay 10 check yes\",\n",
    "    \n",
    "    # Run and Minimization\n",
    "    \"minimize\": \"1e-25 1e-25 5000 10000\",\n",
    "    \"min_style\": \"cg\",\n",
    "    \"fix\": [\"1 all box/relax iso 0.0 vmax 0.001\"]\n",
    "}"
   ]
  },
  {
   "cell_type": "code",
   "execution_count": 16,
   "metadata": {},
   "outputs": [],
   "source": [
    "al_calc = LAMMPS(tmp_dir = homepath + \"temp\", \n",
    "                 parameters = al_lammps_params,\n",
    "                 keep_tmp_files=True, no_data_file=True)\n",
    "Al_bulk.set_calculator(al_calc)\n",
    "al_calc.atoms = Al_bulk.copy()\n",
    "#calc.no_data_file = True\n",
    "al_calc.prism = Prism(al_calc.atoms.get_cell())\n",
    "al_calc.write_lammps_in(lammps_in = homepath + \"input\\\\al_eam_minimize.in\",\n",
    "                        lammps_trj = homepath + \"output\\\\al_eam_minimize.lammpstrj\")"
   ]
  },
  {
   "cell_type": "markdown",
   "metadata": {},
   "source": [
    "## Something else"
   ]
  },
  {
   "cell_type": "code",
   "execution_count": 3,
   "metadata": {},
   "outputs": [],
   "source": [
    "lammps_params = {\n",
    "    \"run\": \"5000\",\n",
    "    \"pair_style\": \"reax/c NULL\",\n",
    "    \"pair_coeff\": ['* * ' + '../reax_FeOH3/ffield.reax.Fe_O_C_H' + ' Fe'],\n",
    "    \"fix\": [\"1 all nve\", \"2 all qeq/reax 1 0.0 10.0 1e-6 reax/c\"],\n",
    "    \"mass\": [\"1 55.845\"],\n",
    "    \"timestep\": \"0.1\"\n",
    "}"
   ]
  },
  {
   "cell_type": "code",
   "execution_count": 4,
   "metadata": {},
   "outputs": [],
   "source": [
    "calc = LAMMPS(tmp_dir=\"D:\\\\Yiming\\\\Desktop\\\\LAMMPS-TEST\\\\lammps_temp\", \n",
    "              parameters = lammps_params,\n",
    "              keep_tmp_files=True, no_data_file=True)\n",
    "Fe_bulk.set_calculator(calc)\n",
    "calc.atoms = Fe_bulk.copy()\n",
    "calc.no_data_file = True\n",
    "calc.prism = Prism(calc.atoms.get_cell())"
   ]
  },
  {
   "cell_type": "code",
   "execution_count": 5,
   "metadata": {},
   "outputs": [],
   "source": [
    "calc.write_lammps_in(lammps_in = \"D:\\\\Yiming\\\\Desktop\\\\LAMMPS-TEST\\\\lammps_temp\\\\test.in\",\n",
    "                     lammps_trj = \"D:\\\\Yiming\\\\Desktop\\\\LAMMPS-TEST\\\\lammps_temp\\\\test.lammpstraj\")"
   ]
  },
  {
   "cell_type": "code",
   "execution_count": null,
   "metadata": {},
   "outputs": [],
   "source": []
  }
 ],
 "metadata": {
  "kernelspec": {
   "display_name": "Python 3",
   "language": "python",
   "name": "python3"
  },
  "language_info": {
   "codemirror_mode": {
    "name": "ipython",
    "version": 3
   },
   "file_extension": ".py",
   "mimetype": "text/x-python",
   "name": "python",
   "nbconvert_exporter": "python",
   "pygments_lexer": "ipython3",
   "version": "3.6.6"
  }
 },
 "nbformat": 4,
 "nbformat_minor": 2
}
