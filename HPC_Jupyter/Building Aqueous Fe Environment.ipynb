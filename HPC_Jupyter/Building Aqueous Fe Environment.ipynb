{
 "cells": [
  {
   "cell_type": "code",
   "execution_count": 14,
   "metadata": {},
   "outputs": [
    {
     "name": "stdout",
     "output_type": "stream",
     "text": [
      "Populating the interactive namespace from numpy and matplotlib\n",
      "/rds/general/user/yx6015/home/cx1_out/\n",
      "/rds/general/user/yx6015/home/LAMMPS_Simulation/\n"
     ]
    }
   ],
   "source": [
    "%pylab inline\n",
    "\n",
    "import os\n",
    "from lammpsrun import LAMMPS, Prism\n",
    "from PBSJobSubmissionScript import PBS_Submitter\n",
    "\n",
    "from ase import Atoms, units\n",
    "from ase.visualize import view\n",
    "from ase.io.trajectory import Trajectory\n",
    "from ase.io import write\n",
    "from ase.build import molecule\n",
    "\n",
    "cx1_out = r\"/rds/general/user/yx6015/home/cx1_out/\"\n",
    "sim_path = r\"/rds/general/user/yx6015/home/LAMMPS_Simulation/\"\n",
    "print(cx1_out + '\\n' + sim_path)"
   ]
  },
  {
   "cell_type": "markdown",
   "metadata": {},
   "source": [
    "# Creating a grid to put water molecules"
   ]
  },
  {
   "cell_type": "code",
   "execution_count": 2,
   "metadata": {},
   "outputs": [],
   "source": [
    "Atoms_grid = Atoms('Ne', pbc=True)\n",
    "box_length = ((125 / (55.5 * cst.Avogadro)) * (1e+27))**(1 / 3)\n",
    "Atoms_grid.set_cell((box_length, box_length, box_length))\n",
    "Atoms_grid.center()\n",
    "Atoms_grid = Atoms_grid.repeat((5, 5, 5))\n",
    "Atoms_grid.rattle(stdev= box_length/5 - 1)"
   ]
  },
  {
   "cell_type": "code",
   "execution_count": 3,
   "metadata": {},
   "outputs": [],
   "source": [
    "H2O_bulk = molecule('H2O')\n",
    "H2O_bulk.euler_rotate(rand()*360, rand()*360, rand()*360, center=\"COM\")\n",
    "H2O_bulk.translate(Atoms_grid.get_positions()[0])\n",
    "H2O_bulk.set_cell(Atoms_grid.get_cell())\n",
    "H2O_bulk.set_pbc(True)"
   ]
  },
  {
   "cell_type": "code",
   "execution_count": 4,
   "metadata": {},
   "outputs": [],
   "source": [
    "for new_pos in Atoms_grid.get_positions()[1:]:\n",
    "    new_molecule = molecule('H2O')\n",
    "    new_molecule.euler_rotate(rand()*360, rand()*360, rand()*360, center=\"COM\")\n",
    "    new_molecule.translate(new_pos)\n",
    "    \n",
    "    H2O_bulk += new_molecule.copy()\n",
    "H2O_bulk.center()"
   ]
  },
  {
   "cell_type": "markdown",
   "metadata": {},
   "source": [
    "# Equilibriate at 300 K"
   ]
  },
  {
   "cell_type": "code",
   "execution_count": 9,
   "metadata": {},
   "outputs": [],
   "source": [
    "H2O_bulk_reaxff_params = {\n",
    "    # Initialization\n",
    "    \"units\": \"real\",\n",
    "    \"atom_style\": \"charge\",\n",
    "    \"mass\": [\"1 1.008\",\n",
    "             \"2 15.999\"],\n",
    "    \"velocity\": [\"all create 300.0 1050027 rot yes dist gaussian\"],\n",
    "    \n",
    "    # Forcefield definition\n",
    "    \"pair_style\": \"reax/c NULL safezone 16\",\n",
    "    \"pair_coeff\": ['* * ' + 'ffield.reax.Fe_O_C_H_combined' + ' H O'],\n",
    "    \"neighbor\": \"2.0 bin\",\n",
    "    #\"neighbor_modify\": \"delay 10 check yes\",\n",
    "    \n",
    "    # Run and Minimization\n",
    "    \"run\": \"100000\",\n",
    "    \"timestep\": 0.5,\n",
    "    \"fix\": [\"1 all nve\",\n",
    "            \"2 all qeq/reax 1 0.0 10.0 1e-6 reax/c\"]#,\n",
    "            #\"2 all temp/berendsen 300.0 300.0 100\"]\n",
    "}"
   ]
  },
  {
   "cell_type": "code",
   "execution_count": 10,
   "metadata": {},
   "outputs": [],
   "source": [
    "H2O_bulk_calc = LAMMPS(parameters=H2O_bulk_reaxff_params,\n",
    "                       no_data_file=True, always_triclinic=True)\n",
    "\n",
    "H2O_bulk.set_calculator(H2O_bulk_calc)\n",
    "H2O_bulk_calc.atoms = H2O_bulk.copy()\n",
    "H2O_bulk_calc.prism = Prism(H2O_bulk_calc.atoms.get_cell())"
   ]
  },
  {
   "cell_type": "code",
   "execution_count": 11,
   "metadata": {},
   "outputs": [],
   "source": [
    "H2O_bulk_calc.write_lammps_in(lammps_in=sim_path+\"fe_aq/aq_125_300K.in\",\n",
    "                              lammps_trj=\"aq_125_300K.lammpstrj\")"
   ]
  },
  {
   "cell_type": "code",
   "execution_count": 12,
   "metadata": {},
   "outputs": [
    {
     "data": {
      "text/plain": [
       "{'job_commands': ['mpiexec lmp_mpi -in {0} -screen none'],\n",
       " 'job_names': ['H2O_bulk_equilibriation'],\n",
       " 'memory': [4],\n",
       " 'modules': [['mpi', 'lammps', 'intel-suite/2017.6']],\n",
       " 'proc_cpus': [4],\n",
       " 'proc_mpiprocs': [4],\n",
       " 'proc_nodes': [1],\n",
       " 'walltime': ['4:00:00']}"
      ]
     },
     "execution_count": 12,
     "metadata": {},
     "output_type": "execute_result"
    }
   ],
   "source": [
    "H2O_bulk_PBS = PBS_Submitter(job_names=\"H2O_bulk_equilibriation\",\n",
    "                             job_commands=\"mpiexec lmp_mpi -in {0} -screen none\",\n",
    "                             modules=[\"mpi\", \"lammps\", \"intel-suite/2017.6\"],\n",
    "                             walltime=\"4:00:00\",\n",
    "                             proc_nodes=1,\n",
    "                             proc_cpus=4,\n",
    "                             proc_mpiprocs=4,\n",
    "                             memory=4)\n",
    "H2O_bulk_PBS.params"
   ]
  },
  {
   "cell_type": "code",
   "execution_count": 16,
   "metadata": {},
   "outputs": [
    {
     "name": "stdout",
     "output_type": "stream",
     "text": [
      "Submitted Job: H2O_bulk_equilibriation\n",
      "b'2123480.cx1\\n' b''\n"
     ]
    }
   ],
   "source": [
    "curr_dir = os.getcwd()\n",
    "os.chdir(sim_path + \"fe_aq\")\n",
    "\n",
    "H2O_bulk_out, H2O_bulk_err = H2O_bulk_PBS.run()\n",
    "\n",
    "os.chdir(curr_dir)"
   ]
  },
  {
   "cell_type": "code",
   "execution_count": 18,
   "metadata": {},
   "outputs": [
    {
     "data": {
      "text/plain": [
       "['2123480.cx1']"
      ]
     },
     "execution_count": 18,
     "metadata": {},
     "output_type": "execute_result"
    }
   ],
   "source": [
    "H2O_bulk_out"
   ]
  }
 ],
 "metadata": {
  "kernelspec": {
   "display_name": "Python 3",
   "language": "python",
   "name": "python3"
  },
  "language_info": {
   "codemirror_mode": {
    "name": "ipython",
    "version": 3
   },
   "file_extension": ".py",
   "mimetype": "text/x-python",
   "name": "python",
   "nbconvert_exporter": "python",
   "pygments_lexer": "ipython3",
   "version": "3.6.3"
  }
 },
 "nbformat": 4,
 "nbformat_minor": 2
}
