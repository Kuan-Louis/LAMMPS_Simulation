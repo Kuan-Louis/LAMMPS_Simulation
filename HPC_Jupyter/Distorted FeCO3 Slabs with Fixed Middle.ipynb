{
 "cells": [
  {
   "cell_type": "code",
   "execution_count": 1,
   "metadata": {},
   "outputs": [
    {
     "name": "stdout",
     "output_type": "stream",
     "text": [
      "/rds/general/user/yx6015/home/cx1_out/\n",
      "/rds/general/user/yx6015/home/LAMMPS_Simulation/HPC_Jupyter/\n"
     ]
    }
   ],
   "source": [
    "%matplotlib inline\n",
    "import numpy as np\n",
    "import matplotlib as mpl\n",
    "import matplotlib.pyplot as plt\n",
    "mpl.rcParams['figure.figsize'] = (8, 6)\n",
    "\n",
    "import os, sys, shutil\n",
    "sys.path.append(\"..\")\n",
    "\n",
    "from lammpsrun import LAMMPS, Prism\n",
    "from PBSJobSubmissionScript import PBS_Submitter, qstat_monitor\n",
    "from utility_scripts import *\n",
    "import pandas as pd\n",
    "\n",
    "from ase import Atoms, units\n",
    "from ase.visualize import view\n",
    "from ase.visualize.plot import plot_atoms\n",
    "from ase.io.trajectory import Trajectory\n",
    "from ase.io import write, read\n",
    "from ase.build import surface\n",
    "from ase.spacegroup import crystal, get_spacegroup\n",
    "\n",
    "cx1_out = r\"/rds/general/user/yx6015/home/cx1_out/\"\n",
    "ephemeral = r\"/rds/general/user/yx6015/ephemeral/\"\n",
    "sim_path = r\"/rds/general/user/yx6015/home/LAMMPS_Simulation/HPC_Jupyter/\"\n",
    "potential = \"boda_manual_sub.reax\"\n",
    "print(cx1_out + '\\n' + sim_path)"
   ]
  },
  {
   "cell_type": "markdown",
   "metadata": {},
   "source": [
    "# Calculating siderite surfaces"
   ]
  },
  {
   "cell_type": "code",
   "execution_count": 2,
   "metadata": {},
   "outputs": [],
   "source": [
    "working_dir = os.path.join(sim_path, 'siderite', 'distorted_surfaces_BODA')"
   ]
  },
  {
   "cell_type": "code",
   "execution_count": 4,
   "metadata": {},
   "outputs": [],
   "source": [
    "# Assuming that the surfaces are identical for \n",
    "# structures that are identically labelled\n",
    "ss_all_names = []\n",
    "\n",
    "working_dir = os.path.join(sim_path, 'siderite', 'distorted_surfaces_BODA')\n",
    "slab_set_files = [x for x in os.listdir(working_dir) if x.endswith('extxyz') and x.startswith('surface')]\n",
    "slab_set_files_path = [os.path.join(working_dir, x) for x in slab_set_files]\n",
    "slab_set_files = [x[7:-7] for x in slab_set_files]\n",
    "\n",
    "for job_name, slab_file in zip(slab_set_files, slab_set_files_path):\n",
    "    ss_all_names.append(job_name)\n",
    "\n",
    "    slab_atoms = read(slab_file, format='extxyz')\n",
    "    lower_boundary = min(slab_atoms.get_positions()[:, 2]) + 10\n",
    "    upper_boundary = max(slab_atoms.get_positions()[:, 2]) - 10\n",
    "    \n",
    "    slab_calc = reaxff_params_generator(slab_atoms, job_name, write_input=True,\n",
    "                                        input_fd=working_dir,\n",
    "#                                         region=\"fixed block INF INF INF INF {:.2f} {:.2f} side in units box\".format(lower_boundary, upper_boundary),\n",
    "#                                         group=\"fixed_g region fixed\",\n",
    "                                        minimize=[\"1e-25 1e-25 100 10000\"]*10,\n",
    "                                        fix=[\"qeq_reaxc all qeq/reax 1 0.0 10.0 1e-10 reax/c dual\"],\n",
    "                                        potential=potential)    \n",
    "\n",
    "ss_commands = [[\"mpiexec /rds/general/user/yx6015/home/lammps/build/lmp -sf omp -pk omp 8 -in {0}.lammpsin -screen none\\n\".format(x)] for x in ss_all_names]\n",
    "ss_source_files = [['$HOME/LAMMPS_Simulation/potentials/{0}'.format(potential),\n",
    "                    '$PBS_O_WORKDIR/'+x+\".lammps*\"] for x in ss_all_names]"
   ]
  },
  {
   "cell_type": "code",
   "execution_count": 6,
   "metadata": {},
   "outputs": [
    {
     "name": "stdout",
     "output_type": "stream",
     "text": [
      "['127330.pbs', '127331.pbs', '127332.pbs', '127333.pbs', '127334.pbs', '127335.pbs', '127336.pbs', '127337.pbs', '127338.pbs', '127339.pbs', '127340.pbs', '127341.pbs', '127342.pbs', '127343.pbs', '127344.pbs', '127345.pbs', '127346.pbs', '127347.pbs', '127348.pbs', '127349.pbs', '127350.pbs', '127351.pbs', '127352.pbs', '127353.pbs', '127354.pbs', '127355.pbs', '127356.pbs', '127357.pbs', '127358.pbs', '127359.pbs', '127360.pbs', '127361.pbs', '127369.pbs', '127370.pbs', '127372.pbs', '127373.pbs', '127374.pbs', '127375.pbs', '127420.pbs', '127421.pbs', '127422.pbs', '127423.pbs', '127424.pbs', '127425.pbs', '127426.pbs', '127429.pbs', '127432.pbs', '127433.pbs', '127434.pbs', '127435.pbs', '127436.pbs', '127443.pbs', '127444.pbs', '127445.pbs', '127446.pbs', '127447.pbs', '127450.pbs', '127452.pbs', '127453.pbs', '127454.pbs', '127455.pbs', '127458.pbs', '127459.pbs', '127465.pbs', '127466.pbs', '127467.pbs', '127468.pbs', '127471.pbs', '127481.pbs', '127482.pbs', '127483.pbs', '127484.pbs', '127485.pbs', '127486.pbs', '127487.pbs', '127494.pbs', '127495.pbs', '127496.pbs', '127497.pbs', '127498.pbs', '127499.pbs', '127500.pbs', '127501.pbs', '127502.pbs', '127503.pbs', '127504.pbs', '127505.pbs', '127506.pbs', '127507.pbs', '127510.pbs', '127511.pbs', '127512.pbs', '127513.pbs', '127514.pbs', '127517.pbs', '127518.pbs', '127522.pbs', '127523.pbs', '127525.pbs', '127526.pbs', '127527.pbs', '127528.pbs', '127529.pbs', '127531.pbs', '127532.pbs', '127533.pbs', '127534.pbs', '127535.pbs', '127536.pbs', '127537.pbs', '127538.pbs', '127539.pbs', '127540.pbs', '127541.pbs', '127561.pbs', '127562.pbs', '127563.pbs', '127564.pbs', '127565.pbs', '127566.pbs', '127568.pbs', '127569.pbs', '127570.pbs', '127571.pbs']\n",
      "['110_S_L39', '101_NS1_L24', '100_S_L71', '101_NS1_L64', '101_NS0_L26', '001_NS_L154', '110_NS_L51', '012_NS_L66', '100_S_L53', '012_NS_L46', '012_NS_L58', '101_NS1_L68', '001_NS_L142', '101_NS1_L44', '001_NS_L202', '101_NS0_L54', '101_NS0_L38', '101_NS0_L66', '001_NS_L190', '012_NS_L62', '101_NS0_L70', '110_S_L34', '012_S_L18', '110_S_L59', '101_NS1_L40', '110_NS_L86', '100_S_L98', '012_S_L58', '100_S_L152', '100_S_L44', '100_S_L62', '012_S_L22', '001_NS_L106', '110_S_L84', '110_S_L79', '001_NS_L94', '110_S_L24', '110_NS_L31', '101_NS1_L72', '110_S_L69', '104_S_L47', '110_NS_L66', '101_NS0_L62', '001_NS_L214', '012_S_L34', '110_S_L94', '100_S_L125', '001_NS_L70', '101_NS0_L18', '100_S_L161', '012_S_L30', '101_NS0_L58', '012_S_L62', '101_NS1_L56', '001_NS_L58', '012_NS_L18', '100_S_L89', '110_S_L44', '012_NS_L30', '101_NS0_L46', '100_S_L143', '110_NS_L76', '104_S_L23', '110_S_L89', '012_NS_L26', '104_S_L35', '110_NS_L56', '012_NS_L42', '101_NS0_L50', '012_S_L54', '110_S_L54', '110_NS_L46', '100_S_L170', '101_NS1_L48', '012_NS_L22', '110_NS_L21', '110_S_L29', '001_NS_L166', '110_NS_L61', '012_NS_L34', '101_NS0_L42', '100_S_L107', '101_NS1_L52', '101_NS0_L22', '001_NS_L178', '110_NS_L36', '012_S_L50', '012_NS_L74', '012_S_L38', '001_NS_L226', '110_NS_L71', '012_NS_L50', '110_NS_L81', '101_NS1_L28', '001_NS_L118', '001_NS_L82', '110_S_L64', '110_S_L49', '012_S_L26', '101_NS1_L60', '101_NS1_L16', '101_NS0_L74', '110_S_L74', '101_NS1_L32', '012_NS_L54', '104_S_L59', '101_NS1_L20', '100_S_L80', '101_NS0_L34', '001_NS_L130', '110_NS_L41', '012_S_L66', '100_S_L116', '100_S_L134', '012_NS_L38', '110_NS_L91', '101_NS1_L36', '012_S_L74', '101_NS0_L30', '012_S_L70', '110_NS_L26', '012_S_L42', '012_NS_L70', '012_S_L46']\n"
     ]
    }
   ],
   "source": [
    "import time\n",
    "\n",
    "ss_all_out = []\n",
    "ss_all_err = []\n",
    "\n",
    "for i in range(len(ss_all_names)):\n",
    "    cur_qstat = !qstat\n",
    "    \n",
    "    while len(cur_qstat) > 45:\n",
    "        time.sleep(60) # Wait for a minute\n",
    "        cur_qstat = !qstat\n",
    "        \n",
    "    ss_PBS = PBS_Submitter(job_names=ss_all_names[i:i+1],\n",
    "                           job_commands=ss_commands[i:i+1],\n",
    "                           modules=[\"mpi/intel-2018\", \"intel-suite/2017.6\"],\n",
    "                           walltime=\"6:00:00\",\n",
    "                           proc_nodes=1,\n",
    "                           proc_cpus=8,\n",
    "                           proc_mpiprocs=1,\n",
    "                           proc_threads=8,\n",
    "                           memory=32,\n",
    "                           source_files=ss_source_files[i:i+1])\n",
    "\n",
    "    curr_dir = os.getcwd()\n",
    "    \n",
    "    os.chdir(working_dir)\n",
    "    ss_out, ss_err = ss_PBS.run()\n",
    "    os.chdir(curr_dir)\n",
    "    \n",
    "    ss_all_out.extend(ss_out)\n",
    "    ss_all_err.extend(ss_err)\n",
    "print(ss_all_out)\n",
    "print(ss_all_names)"
   ]
  },
  {
   "cell_type": "raw",
   "metadata": {},
   "source": [
    "ss_all_out = ['127330.pbs', '127331.pbs', '127332.pbs', '127333.pbs', '127334.pbs', '127335.pbs', '127336.pbs', '127337.pbs', '127338.pbs', '127339.pbs', '127340.pbs', '127341.pbs', '127342.pbs', '127343.pbs', '127344.pbs', '127345.pbs', '127346.pbs', '127347.pbs', '127348.pbs', '127349.pbs', '127350.pbs', '127351.pbs', '127352.pbs', '127353.pbs', '127354.pbs', '127355.pbs', '127356.pbs', '127357.pbs', '127358.pbs', '127359.pbs', '127360.pbs', '127361.pbs', '127369.pbs', '127370.pbs', '127372.pbs', '127373.pbs', '127374.pbs', '127375.pbs', '127420.pbs', '127421.pbs', '127422.pbs', '127423.pbs', '127424.pbs', '127425.pbs', '127426.pbs', '127429.pbs', '127432.pbs', '127433.pbs', '127434.pbs', '127435.pbs', '127436.pbs', '127443.pbs', '127444.pbs', '127445.pbs', '127446.pbs', '127447.pbs', '127450.pbs', '127452.pbs', '127453.pbs', '127454.pbs', '127455.pbs', '127458.pbs', '127459.pbs', '127465.pbs', '127466.pbs', '127467.pbs', '127468.pbs', '127471.pbs', '127481.pbs', '127482.pbs', '127483.pbs', '127484.pbs', '127485.pbs', '127486.pbs', '127487.pbs', '127494.pbs', '127495.pbs', '127496.pbs', '127497.pbs', '127498.pbs', '127499.pbs', '127500.pbs', '127501.pbs', '127502.pbs', '127503.pbs', '127504.pbs', '127505.pbs', '127506.pbs', '127507.pbs', '127510.pbs', '127511.pbs', '127512.pbs', '127513.pbs', '127514.pbs', '127517.pbs', '127518.pbs', '127522.pbs', '127523.pbs', '127525.pbs', '127526.pbs', '127527.pbs', '127528.pbs', '127529.pbs', '127531.pbs', '127532.pbs', '127533.pbs', '127534.pbs', '127535.pbs', '127536.pbs', '127537.pbs', '127538.pbs', '127539.pbs', '127540.pbs', '127541.pbs', '127561.pbs', '127562.pbs', '127563.pbs', '127564.pbs', '127565.pbs', '127566.pbs', '127568.pbs', '127569.pbs', '127570.pbs', '127571.pbs']\n",
    "ss_all_names = ['110_S_L39', '101_NS1_L24', '100_S_L71', '101_NS1_L64', '101_NS0_L26', '001_NS_L154', '110_NS_L51', '012_NS_L66', '100_S_L53', '012_NS_L46', '012_NS_L58', '101_NS1_L68', '001_NS_L142', '101_NS1_L44', '001_NS_L202', '101_NS0_L54', '101_NS0_L38', '101_NS0_L66', '001_NS_L190', '012_NS_L62', '101_NS0_L70', '110_S_L34', '012_S_L18', '110_S_L59', '101_NS1_L40', '110_NS_L86', '100_S_L98', '012_S_L58', '100_S_L152', '100_S_L44', '100_S_L62', '012_S_L22', '001_NS_L106', '110_S_L84', '110_S_L79', '001_NS_L94', '110_S_L24', '110_NS_L31', '101_NS1_L72', '110_S_L69', '104_S_L47', '110_NS_L66', '101_NS0_L62', '001_NS_L214', '012_S_L34', '110_S_L94', '100_S_L125', '001_NS_L70', '101_NS0_L18', '100_S_L161', '012_S_L30', '101_NS0_L58', '012_S_L62', '101_NS1_L56', '001_NS_L58', '012_NS_L18', '100_S_L89', '110_S_L44', '012_NS_L30', '101_NS0_L46', '100_S_L143', '110_NS_L76', '104_S_L23', '110_S_L89', '012_NS_L26', '104_S_L35', '110_NS_L56', '012_NS_L42', '101_NS0_L50', '012_S_L54', '110_S_L54', '110_NS_L46', '100_S_L170', '101_NS1_L48', '012_NS_L22', '110_NS_L21', '110_S_L29', '001_NS_L166', '110_NS_L61', '012_NS_L34', '101_NS0_L42', '100_S_L107', '101_NS1_L52', '101_NS0_L22', '001_NS_L178', '110_NS_L36', '012_S_L50', '012_NS_L74', '012_S_L38', '001_NS_L226', '110_NS_L71', '012_NS_L50', '110_NS_L81', '101_NS1_L28', '001_NS_L118', '001_NS_L82', '110_S_L64', '110_S_L49', '012_S_L26', '101_NS1_L60', '101_NS1_L16', '101_NS0_L74', '110_S_L74', '101_NS1_L32', '012_NS_L54', '104_S_L59', '101_NS1_L20', '100_S_L80', '101_NS0_L34', '001_NS_L130', '110_NS_L41', '012_S_L66', '100_S_L116', '100_S_L134', '012_NS_L38', '110_NS_L91', '101_NS1_L36', '012_S_L74', '101_NS0_L30', '012_S_L70', '110_NS_L26', '012_S_L42', '012_NS_L70', '012_S_L46']"
   ]
  },
  {
   "cell_type": "code",
   "execution_count": 7,
   "metadata": {},
   "outputs": [],
   "source": [
    "# Move all the log and error files over\n",
    "\n",
    "for outfile, job_out in zip(ss_all_names, ss_all_out):\n",
    "    shutil.move(os.path.join(working_dir, outfile + \".err\"), os.path.join(ephemeral, job_out))\n",
    "    shutil.move(os.path.join(working_dir, outfile + \".log\"), os.path.join(ephemeral, job_out))"
   ]
  },
  {
   "cell_type": "code",
   "execution_count": 4,
   "metadata": {},
   "outputs": [],
   "source": [
    "# Checking which runs have completed\n",
    "ss_valid_names = ss_all_names.copy()\n",
    "ss_valid_out = ss_all_out.copy()\n",
    "\n",
    "# for outfile, job_out in zip(ss_all_names, ss_all_out):\n",
    "#     err_file_name = os.path.join(ephemeral, job_out, outfile + \".err\")\n",
    "#     if os.path.isfile(err_file_name):\n",
    "#         err_file_size = os.path.getsize(err_file_name)\n",
    "#         if err_file_size > 0:\n",
    "#             print(outfile, job_out, ': Terminated with errors')\n",
    "#             ss_valid_names.pop(ss_valid_names.index(outfile))\n",
    "#             ss_valid_out.pop(ss_valid_out.index(job_out))\n",
    "            \n",
    "#     else:\n",
    "#         print(outfile, job_out, ': File not found')\n",
    "#         ss_valid_names.pop(ss_valid_names.index(outfile))\n",
    "#         ss_valid_out.pop(ss_valid_out.index(job_out))"
   ]
  },
  {
   "cell_type": "code",
   "execution_count": 5,
   "metadata": {},
   "outputs": [],
   "source": [
    "import pandas as pd\n",
    "dump_column_names = ['step', 'temp', 'press', 'cpu', 'pxx', 'pyy', 'pzz', 'pxy', 'pxz', 'pyz', 'ke', 'pe', 'etotal', 'vol', 'lx', 'ly', 'lz', 'atoms']\n",
    "new_column_names = ['surface', 'stoichiometry', 'jobID', 'fileName', 'layers', 'thickness']\n",
    "ss_all_df = pd.DataFrame(columns=dump_column_names + new_column_names)\n",
    "\n",
    "for name, out in zip(ss_valid_names, ss_valid_out):\n",
    "    slab = read(os.path.join(working_dir, name + \".extxyz\"), format='extxyz')\n",
    "    slab_thickness = np.percentile(slab.get_positions()[:, 2], q = [0, 100])\n",
    "    slab_thickness = slab_thickness[1]-slab_thickness[0]\n",
    "\n",
    "    new_data = dict.fromkeys(new_column_names)\n",
    "    file_data = name.split('_')\n",
    "    new_data['surface'] = file_data[0]\n",
    "    new_data['jobID'] = out\n",
    "    new_data['fileName'] = name\n",
    "    new_data['layers'] = int(file_data[-1][1:])\n",
    "    new_data['thickness'] = slab_thickness\n",
    "    if len(file_data) == 2:\n",
    "        new_data['stoichiometry'] = 'NA'\n",
    "    elif 'N' in file_data[1]:\n",
    "        new_data['stoichiometry'] = False\n",
    "    elif 'S' in file_data[1]:\n",
    "        new_data['stoichiometry'] = True\n",
    "    else:\n",
    "        new_data['stoichiometry'] = 'NA'\n",
    "\n",
    "    log_reader = LAMMPS()\n",
    "    log_path = os.path.join(ephemeral, out, 'log.lammps')\n",
    "    if os.path.isfile(log_path):\n",
    "        log_reader.read_lammps_log(lammps_log=log_path)\n",
    "        if len(log_reader.thermo_content) == 0:\n",
    "            continue\n",
    "        init_data = log_reader.thermo_content[0]\n",
    "        init_data['step'] = 'unrelaxed'\n",
    "        final_data = log_reader.thermo_content[-1]\n",
    "        final_data['step'] = 'relaxed'\n",
    "\n",
    "        ss_all_df = ss_all_df.append({**new_data, **init_data}, ignore_index=True)\n",
    "        ss_all_df = ss_all_df.append({**new_data, **final_data}, ignore_index=True)"
   ]
  },
  {
   "cell_type": "markdown",
   "metadata": {},
   "source": [
    "Using Hao-Yeh's example:\n",
    "\n",
    "$$ E_s=\\frac{E_{slab}^{n}-n(E_{slab}^{n}-E_{slab}^{n-1})} {2A} $$\n",
    "\n",
    "While the thickness of slab reaches an adequate value, where the central atom positions are fixed,\n",
    "$(E^n_{slab} - E^{n-1}_{slab})$ should converge to $𝐸_{bulk}$"
   ]
  },
  {
   "cell_type": "code",
   "execution_count": 6,
   "metadata": {},
   "outputs": [],
   "source": [
    "stoichiometric_df = pd.DataFrame()\n",
    "for label, df in ss_all_df.groupby(by=['surface', 'stoichiometry', 'step']):\n",
    "    surface = label[0]\n",
    "    stoichiometry = label[1]\n",
    "    if stoichiometry:\n",
    "        df_sorted = df.sort_values('layers').reset_index(drop=True)\n",
    "        df_sorted.layers = pd.to_numeric(df_sorted.layers)\n",
    "        df_sorted['area'] = df_sorted.lx * df_sorted.ly\n",
    "        df_sorted['Es'] = (df_sorted.pe - df_sorted.pe.diff() * df_sorted.atoms/df_sorted.atoms.diff()) / (2*df_sorted.area.median())\n",
    "        df_sorted['Es_SI'] = df_sorted['Es']  * units.kcal /units.mol / units.J * (units.m)**2\n",
    "        df_sorted['Ebulk'] = df_sorted.pe.diff() / df_sorted.atoms.diff()\n",
    "#         df_sorted['Ebulk_SI'] = df_sorted['Ebulk']  * units.kcal /units.mol / units.J\n",
    "        stoichiometric_df = stoichiometric_df.append(df_sorted.copy(), ignore_index=True)\n",
    "stoichiometric_df.sort_values(by=['surface', 'step', 'layers'], inplace=True)"
   ]
  },
  {
   "cell_type": "code",
   "execution_count": 7,
   "metadata": {},
   "outputs": [
    {
     "data": {
      "image/png": "[encoded data removed]",
      "text/plain": [
       "<Figure size 576x237.6 with 1 Axes>"
      ]
     },
     "metadata": {},
     "output_type": "display_data"
    }
   ],
   "source": [
    "plt.style.use(\"seaborn-white\")\n",
    "ax = stoichiometric_df.boxplot('Ebulk', by=['surface', 'step'], rot = 30, figsize=(8,3.3))\n",
    "\n",
    "ax.set_ylabel(\"Bulk Energy / (Kcal/mole/atom)\")\n",
    "ax.set_xlabel(None)\n",
    "ax.set_title(None)\n",
    "plt.suptitle(None)\n",
    "plt.tight_layout()\n",
    "plt.savefig(\"bulk_energy_box.eps\", dpi=400, bbox_inches=\"tight\")\n",
    "plt.show()"
   ]
  },
  {
   "cell_type": "code",
   "execution_count": 9,
   "metadata": {},
   "outputs": [
    {
     "name": "stdout",
     "output_type": "stream",
     "text": [
      "012 0.9681244268326511 0.002574774871250202\n",
      "100 2.771210516159364 8.33742867429873e-05\n",
      "104 0.31662846740809975 0.00022192905732441062\n",
      "110 2.4699478034793314 0.0006070226792276634\n"
     ]
    },
    {
     "data": {
      "image/png": "[encoded data removed]",
      "text/plain": [
       "<Figure size 576x360 with 2 Axes>"
      ]
     },
     "metadata": {},
     "output_type": "display_data"
    }
   ],
   "source": [
    "plt.style.use(\"seaborn-white\")\n",
    "\n",
    "fig, axes = plt.subplots(2,1, figsize=(8,5), sharex=True)\n",
    "seaborn_colors = ['#4C72B0', '#55A868', '#C44E52', '#8172B2', '#CCB974', '#64B5CD']\n",
    "seaborn_colors = np.array([[x, x] for x in seaborn_colors]).flatten()\n",
    "\n",
    "for (label, df), c in zip(stoichiometric_df.groupby(by=['surface', 'step']), seaborn_colors):\n",
    "    cur_ax = axes[0]\n",
    "    surface = label[0]\n",
    "    step = label[1]\n",
    "    yerr = None\n",
    "    \n",
    "    if step == 'final':\n",
    "        cur_ax = axes[1]\n",
    "        yerr = df.Es_SI.std()\n",
    "        \n",
    "    df.plot(x='thickness', y='Es_SI', kind='scatter', ax=cur_ax, yerr = yerr, color=c, label = surface)\n",
    "    \n",
    "    Es_mean = df.Es_SI[abs(df.Es_SI - df.Es_SI.mean()) < df.Es_SI.std()][-2:].mean()\n",
    "    if step == 'initial':\n",
    "        cur_ax.axhline(Es_mean, color=c)\n",
    "        print(surface, Es_mean, df.Es_SI.std())\n",
    "\n",
    "axes[0].set_ylabel(\"Unrelaxed\")\n",
    "axes[1].set_ylabel(\"Relaxed\")\n",
    "\n",
    "axes[0].yaxis.set_major_formatter(mpl.ticker.FormatStrFormatter('%.2f'))\n",
    "axes[0].yaxis.set_label_coords(-0.06,0.5)\n",
    "axes[1].yaxis.set_major_formatter(mpl.ticker.FormatStrFormatter('%.2f'))\n",
    "axes[1].yaxis.set_label_coords(-0.06,0.5)\n",
    "\n",
    "fig.text(-0.02, 0.55, 'Surface Energy / (J/m$^2$)', va='center', rotation='vertical', size=12)\n",
    "\n",
    "plt.xlabel(r\"Thickness of Slab /$\\AA$\")\n",
    "\n",
    "fig.tight_layout()\n",
    "# fig.subplots_adjust(left=0.3)\n",
    "fig.savefig(\"surface_energies.eps\", dpi=400, bbox_inches=\"tight\")\n",
    "plt.show()"
   ]
  }
 ],
 "metadata": {
  "kernelspec": {
   "display_name": "Python 3 Personal",
   "language": "python",
   "name": "python3"
  },
  "language_info": {
   "codemirror_mode": {
    "name": "ipython",
    "version": 3
   },
   "file_extension": ".py",
   "mimetype": "text/x-python",
   "name": "python",
   "nbconvert_exporter": "python",
   "pygments_lexer": "ipython3",
   "version": "3.7.3"
  }
 },
 "nbformat": 4,
 "nbformat_minor": 2
}
