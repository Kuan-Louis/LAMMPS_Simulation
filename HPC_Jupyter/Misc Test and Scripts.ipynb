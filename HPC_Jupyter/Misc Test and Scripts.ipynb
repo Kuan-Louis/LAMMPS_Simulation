{
 "cells": [
  {
   "cell_type": "code",
   "execution_count": 2,
   "metadata": {},
   "outputs": [
    {
     "name": "stdout",
     "output_type": "stream",
     "text": [
      "/rds/general/user/yx6015/home/cx1_out/\n",
      "/rds/general/user/yx6015/home/LAMMPS_Simulation/HPC_Jupyter/\n"
     ]
    }
   ],
   "source": [
    "%matplotlib inline\n",
    "\n",
    "import numpy as np\n",
    "import matplotlib as mpl\n",
    "import matplotlib.pyplot as plt\n",
    "plt.style.use('ggplot')\n",
    "\n",
    "import os, sys, shutil\n",
    "sys.path.append(\"..\")\n",
    "import pandas as pd\n",
    "\n",
    "from lammpsrun import LAMMPS, Prism\n",
    "from PBSJobSubmissionScript import PBS_Submitter, qstat_monitor\n",
    "from utility_scripts import *\n",
    "\n",
    "from ase import Atoms, units\n",
    "from ase.visualize import view\n",
    "from ase.visualize.plot import plot_atoms\n",
    "from ase.io.trajectory import Trajectory\n",
    "from ase.io import write, read\n",
    "from ase.build import molecule, bcc110, bcc111\n",
    "from ase.spacegroup import crystal\n",
    "from ase.data import atomic_numbers, atomic_names, atomic_masses, covalent_radii\n",
    "\n",
    "cx1_out = r\"/rds/general/user/yx6015/home/cx1_out/\"\n",
    "ephemeral = r\"/rds/general/user/yx6015/ephemeral/\"\n",
    "sim_path = r\"/rds/general/user/yx6015/home/LAMMPS_Simulation/HPC_Jupyter/\"\n",
    "print(cx1_out + '\\n' + sim_path)\n",
    "potential = \"fe_o_water_fe_o_c_full_water.reax\""
   ]
  },
  {
   "cell_type": "markdown",
   "metadata": {},
   "source": [
    "# MKL/Multiprocessing Test"
   ]
  },
  {
   "cell_type": "code",
   "execution_count": 2,
   "metadata": {},
   "outputs": [],
   "source": [
    "file_name = 'test'\n",
    "lammps_traj_file = 'test.lammpstrj'\n",
    "mol_file = file_name + \".extxyz\"\n",
    "ase_traj_file = file_name + \".traj\""
   ]
  },
  {
   "cell_type": "code",
   "execution_count": null,
   "metadata": {},
   "outputs": [
    {
     "name": "stdout",
     "output_type": "stream",
     "text": [
      "Writing ASE trajectory to  test.traj\n",
      "Reading LAMMPS Trajectory from test.lammpstrj\n"
     ]
    },
    {
     "name": "stderr",
     "output_type": "stream",
     "text": [
      "Process Process-7:\n",
      "Traceback (most recent call last):\n",
      "  File \"/rds/general/user/yx6015/home/anaconda3/lib/python3.7/multiprocessing/process.py\", line 297, in _bootstrap\n",
      "    self.run()\n",
      "  File \"/rds/general/user/yx6015/home/anaconda3/lib/python3.7/multiprocessing/process.py\", line 99, in run\n",
      "    self._target(*self._args, **self._kwargs)\n",
      "  File \"../HPC_Scripts/minimal_traj_conversion.py\", line 144, in step_writer\n",
      "    cell=cell_atoms)\n",
      "  File \"/rds/general/user/yx6015/home/anaconda3/lib/python3.7/site-packages/ase/atoms.py\", line 223, in __init__\n",
      "    self.new_array('positions', positions, float, (3,))\n",
      "  File \"/rds/general/user/yx6015/home/anaconda3/lib/python3.7/site-packages/ase/atoms.py\", line 416, in new_array\n",
      "    (len(a), len(b)))\n",
      "ValueError: Array has wrong length: 3600 != 10688.\n"
     ]
    }
   ],
   "source": [
    "%%prun -l 10\n",
    "import sys\n",
    "import time\n",
    "sys.path.append(\"..\")\n",
    "from ase import Atoms, units\n",
    "from ase.io.trajectory import Trajectory\n",
    "from ase.io import write, read\n",
    "from HPC_Scripts.minimal_traj_conversion import LAMMPS, Prism\n",
    "import mkl\n",
    "mkl.set_num_threads(8)\n",
    "\n",
    "_start = time.time()\n",
    "\n",
    "calc = LAMMPS()\n",
    "mol = read(mol_file)\n",
    "mol.set_calculator(calc)\n",
    "calc.atoms = mol\n",
    "calc.prism = Prism(mol.get_cell())\n",
    "\n",
    "print(\"Writing ASE trajectory to \", ase_traj_file)\n",
    "calc.trajectory_out = Trajectory(ase_traj_file, 'w')\n",
    "\n",
    "print(\"Reading LAMMPS Trajectory from\", lammps_traj_file)\n",
    "calc.read_lammps_trj(lammps_trj = lammps_traj_file, n_cpus=8)\n",
    "calc.trajectory_out.close()\n",
    "\n",
    "print(\"Took {} seconds\".format(time.time() - _start))"
   ]
  },
  {
   "cell_type": "code",
   "execution_count": null,
   "metadata": {},
   "outputs": [],
   "source": [
    "%%prun -l 10\n",
    "import sys\n",
    "import time\n",
    "sys.path.append(\"..\")\n",
    "from ase import Atoms, units\n",
    "from ase.io.trajectory import Trajectory\n",
    "from ase.io import write, read\n",
    "from minimal_traj_conversion_queue import LAMMPS, Prism\n",
    "import mkl\n",
    "mkl.set_num_threads(8)\n",
    "\n",
    "_start = time.time()\n",
    "\n",
    "calc = LAMMPS()\n",
    "mol = read(mol_file)\n",
    "mol.set_calculator(calc)\n",
    "calc.atoms = mol\n",
    "calc.prism = Prism(mol.get_cell())\n",
    "\n",
    "print(\"Writing ASE trajectory to \", ase_traj_file)\n",
    "calc.trajectory_out = Trajectory(ase_traj_file, 'w')\n",
    "\n",
    "print(\"Reading LAMMPS Trajectory from\", lammps_traj_file)\n",
    "calc.read_lammps_trj(lammps_trj = lammps_traj_file)\n",
    "calc.trajectory_out.close()\n",
    "\n",
    "print(\"Took {} seconds\".format(time.time() - _start))"
   ]
  },
  {
   "cell_type": "code",
   "execution_count": 2,
   "metadata": {},
   "outputs": [
    {
     "name": "stdout",
     "output_type": "stream",
     "text": [
      "Writing ASE trajectory to  test.traj1\n",
      "Reading LAMMPS Trajectory from test.lammpstrj\n",
      "Took 18.122143268585205 seconds\n",
      " "
     ]
    },
    {
     "data": {
      "text/plain": [
       "         11819424 function calls (11758968 primitive calls) in 18.265 seconds\n",
       "\n",
       "   Ordered by: internal time\n",
       "   List reduced from 2828 to 10 due to restriction <10>\n",
       "\n",
       "   ncalls  tottime  percall  cumtime  percall filename:lineno(function)\n",
       "      650    4.744    0.007    5.038    0.008 {method 'read' of 'pandas._libs.parsers.TextReader' objects}\n",
       "     1303    2.100    0.002    2.100    0.002 {method 'tofile' of 'numpy.ndarray' objects}\n",
       "      650    1.155    0.002    1.178    0.002 parsers.py:1830(__init__)\n",
       "      651    0.777    0.001    1.209    0.002 symbols.py:61(symbols2numbers)\n",
       "     3802    0.743    0.000    0.743    0.000 {built-in method posix.stat}\n",
       "2346896/2343295    0.687    0.000    0.794    0.000 {built-in method builtins.next}\n",
       "  3114720    0.587    0.000    0.816    0.000 {built-in method builtins.isinstance}\n",
       "        1    0.541    0.541   17.982   17.982 lammpsrun.py:569(read_lammps_trj)\n",
       "38497/37847    0.354    0.000    0.363    0.000 {built-in method numpy.array}\n",
       "      650    0.309    0.000    1.082    0.002 lammpsrun.py:590(<listcomp>)"
      ]
     },
     "metadata": {},
     "output_type": "display_data"
    }
   ],
   "source": [
    "%%prun -l 10\n",
    "import sys\n",
    "import time\n",
    "sys.path.append(\"..\")\n",
    "from ase import Atoms, units\n",
    "from ase.io.trajectory import Trajectory\n",
    "from ase.io import write, read\n",
    "from lammpsrun import LAMMPS, Prism\n",
    "import mkl\n",
    "mkl.set_num_threads(8)\n",
    "\n",
    "_start = time.time()\n",
    "\n",
    "calc = LAMMPS()\n",
    "mol = read(mol_file)\n",
    "mol.set_calculator(calc)\n",
    "calc.atoms = mol\n",
    "calc.prism = Prism(mol.get_cell())\n",
    "\n",
    "print(\"Writing ASE trajectory to \", ase_traj_file+\"1\")\n",
    "calc.trajectory_out = Trajectory(ase_traj_file+\"1\", 'w')\n",
    "\n",
    "print(\"Reading LAMMPS Trajectory from\", lammps_traj_file)\n",
    "calc.read_lammps_trj(lammps_trj = lammps_traj_file)\n",
    "calc.trajectory_out.close()\n",
    "\n",
    "print(\"Took {} seconds\".format(time.time() - _start))"
   ]
  },
  {
   "cell_type": "markdown",
   "metadata": {},
   "source": [
    "# Conversion Speed Test"
   ]
  },
  {
   "cell_type": "code",
   "execution_count": 2,
   "metadata": {},
   "outputs": [],
   "source": [
    "aq_out = '2466596.cx1'\n",
    "aq_name = 'Aq_efield_0MVcm'\n",
    "out_dir = os.path.join(ephemeral, aq_out)\n",
    "convert_scripts_dir = r\"/rds/general/user/yx6015/home/LAMMPS_Simulation/HPC_Scripts/\""
   ]
  },
  {
   "cell_type": "code",
   "execution_count": 12,
   "metadata": {},
   "outputs": [],
   "source": [
    "test_list = ['', '_nocopy', '_nocopy_nosend', '_fast']\n",
    "script_list = [\"convert_script{}.py\".format(x) for x in test_list]\n",
    "test_args = ['{}'.format(aq_name),\n",
    "             '{} {}'.format(aq_name, os.path.join(out_dir, aq_name+'.lammpstrj')),\n",
    "             '{} {} {}'.format(aq_name, os.path.join(out_dir, aq_name+'.lammpstrj'), os.path.join(out_dir, aq_name+'.traj1')),\n",
    "             '{}'.format(aq_name)]\n",
    "test_commands = [[\"python {} {}\".format(x[0], x[1])] for x in zip(script_list, test_args)]"
   ]
  },
  {
   "cell_type": "code",
   "execution_count": 13,
   "metadata": {},
   "outputs": [],
   "source": [
    "test_source_files = [[os.path.join(out_dir, \"*extxyz\"), \n",
    "                      os.path.join(convert_scripts_dir, x),\n",
    "                      os.path.join(convert_scripts_dir, \"lammpsrun.py\")] for x in script_list]\n",
    "test_source_files[0] += [os.path.join(out_dir, \"*lammpstrj\")]\n",
    "test_source_files[3] += [os.path.join(out_dir, \"*lammpstrj\")]\n",
    "test_names = ['convert{}'.format(x) for x in test_list]"
   ]
  },
  {
   "cell_type": "code",
   "execution_count": 14,
   "metadata": {},
   "outputs": [],
   "source": [
    "convert_PBS = PBS_Submitter(job_names=test_names,\n",
    "                            job_commands=test_commands,\n",
    "                            modules=[\"mpi\", \"anaconda3/personal\"],\n",
    "                            walltime=\"24:00:00\",\n",
    "                            proc_nodes=1,\n",
    "                            proc_cpus=8,\n",
    "                            proc_mpiprocs=8, \n",
    "                            memory=32,\n",
    "                            source_files=test_source_files)"
   ]
  },
  {
   "cell_type": "code",
   "execution_count": 15,
   "metadata": {},
   "outputs": [
    {
     "name": "stdout",
     "output_type": "stream",
     "text": [
      "['2475004.cx1', '2475005.cx1', '2475006.cx1', '2475007.cx1', '2475008.cx1']\n",
      "['convert', 'convert_nocopy', 'convert_nocopy_nosend', 'convert_fast', 'convert_nocopy_nosend_fast']\n"
     ]
    }
   ],
   "source": [
    "convert_out, convert_err = convert_PBS.run()\n",
    "print(convert_out)\n",
    "print(test_names)"
   ]
  },
  {
   "cell_type": "markdown",
   "metadata": {},
   "source": [
    "### Final results:\n",
    "- *fast* is slightly faster (by ~9%)\n",
    "- *nocopy* is faster than both *nosend* (by 30%) and *normal* (by ~44%)\n",
    "\n",
    "### Conclusion\n",
    "Use mkl acceleration and do not copy over lammpstrj"
   ]
  },
  {
   "cell_type": "markdown",
   "metadata": {},
   "source": [
    "# Archiving FYP Runs"
   ]
  },
  {
   "cell_type": "markdown",
   "metadata": {},
   "source": [
    "### List of Files"
   ]
  },
  {
   "cell_type": "code",
   "execution_count": 3,
   "metadata": {},
   "outputs": [],
   "source": [
    "job_outs = []"
   ]
  },
  {
   "cell_type": "code",
   "execution_count": 4,
   "metadata": {},
   "outputs": [],
   "source": [
    "# Pure Water Polarisation under electric field\n",
    "job_outs.extend(['123895.pbs', '123896.pbs', '123897.pbs', '123898.pbs', '123899.pbs', '123900.pbs', '123901.pbs', '123902.pbs', '123903.pbs', '123904.pbs', '123905.pbs', '123906.pbs', '123907.pbs', '123908.pbs', '123909.pbs', '123910.pbs', '123911.pbs', '123912.pbs', '123913.pbs', '123914.pbs', '123915.pbs'])\n",
    "# Surface Energy\n",
    "job_outs.extend(['127330.pbs', '127331.pbs', '127332.pbs', '127333.pbs', '127334.pbs', '127335.pbs', '127336.pbs', '127337.pbs', '127338.pbs', '127339.pbs', '127340.pbs', '127341.pbs', '127342.pbs', '127343.pbs', '127344.pbs', '127345.pbs', '127346.pbs', '127347.pbs', '127348.pbs', '127349.pbs', '127350.pbs', '127351.pbs', '127352.pbs', '127353.pbs', '127354.pbs', '127355.pbs', '127356.pbs', '127357.pbs', '127358.pbs', '127359.pbs', '127360.pbs', '127361.pbs', '127369.pbs', '127370.pbs', '127372.pbs', '127373.pbs', '127374.pbs', '127375.pbs', '127420.pbs', '127421.pbs', '127422.pbs', '127423.pbs', '127424.pbs', '127425.pbs', '127426.pbs', '127429.pbs', '127432.pbs', '127433.pbs', '127434.pbs', '127435.pbs', '127436.pbs', '127443.pbs', '127444.pbs', '127445.pbs', '127446.pbs', '127447.pbs', '127450.pbs', '127452.pbs', '127453.pbs', '127454.pbs', '127455.pbs', '127458.pbs', '127459.pbs', '127465.pbs', '127466.pbs', '127467.pbs', '127468.pbs', '127471.pbs', '127481.pbs', '127482.pbs', '127483.pbs', '127484.pbs', '127485.pbs', '127486.pbs', '127487.pbs', '127494.pbs', '127495.pbs', '127496.pbs', '127497.pbs', '127498.pbs', '127499.pbs', '127500.pbs', '127501.pbs', '127502.pbs', '127503.pbs', '127504.pbs', '127505.pbs', '127506.pbs', '127507.pbs', '127510.pbs', '127511.pbs', '127512.pbs', '127513.pbs', '127514.pbs', '127517.pbs', '127518.pbs', '127522.pbs', '127523.pbs', '127525.pbs', '127526.pbs', '127527.pbs', '127528.pbs', '127529.pbs', '127531.pbs', '127532.pbs', '127533.pbs', '127534.pbs', '127535.pbs', '127536.pbs', '127537.pbs', '127538.pbs', '127539.pbs', '127540.pbs', '127541.pbs', '127561.pbs', '127562.pbs', '127563.pbs', '127564.pbs', '127565.pbs', '127566.pbs', '127568.pbs', '127569.pbs', '127570.pbs', '127571.pbs'])\n",
    "# Fe Aqueous + CO2 Large\n",
    "job_outs.extend(['127575.pbs', '127576.pbs', '127577.pbs', '127579.pbs'])\n",
    "# Fe Aqueous + CO2 Small Long\n",
    "job_outs.extend(['126387.pbs', '126388.pbs', '126389.pbs', '126390.pbs'])\n",
    "# Fe Aqueous + CO2 Small\n",
    "job_outs.extend(['126448.pbs', '126449.pbs', '126450.pbs', '126451.pbs'])\n",
    "# Fe Aqueous Small\n",
    "job_outs.extend(['123766.pbs', '123767.pbs', '123768.pbs', '123769.pbs'])"
   ]
  },
  {
   "cell_type": "code",
   "execution_count": 15,
   "metadata": {},
   "outputs": [
    {
     "name": "stdout",
     "output_type": "stream",
     "text": [
      "There are a total of 1480 files\n",
      "The files occupy a total of 387.24 GB\n"
     ]
    }
   ],
   "source": [
    "total_size = 0\n",
    "total_files = 0\n",
    "for job in job_outs:\n",
    "    job_path = os.path.join(ephemeral, job)\n",
    "    all_files = os.listdir(job_path)\n",
    "    total_size += sum([os.path.getsize(os.path.join(job_path, x)) for x in all_files])\n",
    "    total_files += len(all_files)\n",
    "print(\"There are a total of {} files\".format(total_files))\n",
    "print(\"The files occupy a total of {:.2f} GB\".format(total_size/1024**3))"
   ]
  },
  {
   "cell_type": "code",
   "execution_count": 17,
   "metadata": {},
   "outputs": [],
   "source": [
    "for job in job_outs:\n",
    "    job_path = os.path.join(ephemeral, job)\n",
    "    fake_ephemeral = r\"/rds/general/user/yx6015/home/fake_ephemeral/\"\n",
    "    dest_path  = os.path.join(fake_ephemeral, job)\n",
    "    shutil.copytree(job_path, dest_path)"
   ]
  }
 ],
 "metadata": {
  "kernelspec": {
   "display_name": "Python 3 Personal",
   "language": "python",
   "name": "python3"
  },
  "language_info": {
   "codemirror_mode": {
    "name": "ipython",
    "version": 3
   },
   "file_extension": ".py",
   "mimetype": "text/x-python",
   "name": "python",
   "nbconvert_exporter": "python",
   "pygments_lexer": "ipython3",
   "version": "3.7.3"
  }
 },
 "nbformat": 4,
 "nbformat_minor": 2
}
