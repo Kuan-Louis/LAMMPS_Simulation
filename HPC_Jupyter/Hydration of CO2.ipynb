{
 "cells": [
  {
   "cell_type": "markdown",
   "metadata": {},
   "source": [
    "If additional cations are included, they may be included as (screened) Coulomb interactions with additional LJ/Buckingham potentials.\n",
    "ref: https://pubs.rsc.org/en/Content/ArticleLanding/2011/CP/c1cp21034c"
   ]
  },
  {
   "cell_type": "markdown",
   "metadata": {},
   "source": [
    "Solubility of CO2 is approximately 1g/kg H2O at 300 K, so there is approximately 2500 water molecules per molecule of CO2."
   ]
  },
  {
   "cell_type": "code",
   "execution_count": 1,
   "metadata": {},
   "outputs": [
    {
     "name": "stdout",
     "output_type": "stream",
     "text": [
      "Populating the interactive namespace from numpy and matplotlib\n",
      "/rds/general/user/yx6015/home/cx1_out/\n",
      "/rds/general/user/yx6015/home/LAMMPS_Simulation/\n"
     ]
    }
   ],
   "source": [
    "%pylab inline\n",
    "%load_ext autoreload\n",
    "%autoreload 2\n",
    "\n",
    "import scipy.constants as cst\n",
    "from lammpsrun import LAMMPS, Prism\n",
    "from PBSJobSubmissionScript import PBS_Submitter\n",
    "\n",
    "from ase import Atoms, units\n",
    "from ase.io.trajectory import Trajectory\n",
    "from ase.build import molecule, surface\n",
    "from ase.spacegroup import crystal\n",
    "from ase.io import write, read\n",
    "\n",
    "cx1_out = r\"/rds/general/user/yx6015/home/cx1_out/\"\n",
    "sim_path = r\"/rds/general/user/yx6015/home/LAMMPS_Simulation/\"\n",
    "print(cx1_out + '\\n' + sim_path)"
   ]
  },
  {
   "cell_type": "markdown",
   "metadata": {},
   "source": [
    "# Converting H2O lammpstrj to ase traj"
   ]
  },
  {
   "cell_type": "code",
   "execution_count": 4,
   "metadata": {},
   "outputs": [],
   "source": [
    "H2O_bulk = molecule('H2O')\n",
    "\n",
    "box_length = ((125 / (55.5 * cst.Avogadro)) * (1e+27))**(1 / 3)\n",
    "\n",
    "H2O_bulk.set_cell((box_length, box_length, box_length))\n",
    "H2O_bulk.center()\n",
    "\n",
    "H2O_bulk = H2O_bulk.repeat((5, 5, 5))\n",
    "H2O_bulk.rattle(stdev=0.01)\n",
    "H2O_bulk.set_pbc(True)"
   ]
  },
  {
   "cell_type": "code",
   "execution_count": 5,
   "metadata": {},
   "outputs": [],
   "source": [
    "H2O_bulk_calc = LAMMPS()\n",
    "H2O_bulk.set_calculator(H2O_bulk_calc)\n",
    "H2O_bulk_calc.atoms = H2O_bulk.copy()\n",
    "H2O_bulk_calc.prism = Prism(H2O_bulk_calc.atoms.get_cell())"
   ]
  },
  {
   "cell_type": "code",
   "execution_count": 6,
   "metadata": {},
   "outputs": [],
   "source": [
    "# Converting lammpstrj to ase traj\n",
    "\n",
    "job_id = 2099758\n",
    "H2O_bulk_calc.trajectory_out = Trajectory(sim_path + r\"H2O_bulk_reaxff.traj\", 'w')\n",
    "H2O_bulk_calc.read_lammps_trj(lammps_trj = cx1_out + str(job_id) + r\".cx1/H2O_bulk_reaxff.lammpstrj\")\n",
    "H2O_bulk_calc.trajectory_out.close()"
   ]
  },
  {
   "cell_type": "markdown",
   "metadata": {},
   "source": [
    "# Converting solvated CO2 lammpstrj to ase traj"
   ]
  },
  {
   "cell_type": "code",
   "execution_count": 5,
   "metadata": {},
   "outputs": [],
   "source": [
    "CO2_solvation = read(sim_path + \"CO2_solvation.extxyz\")\n",
    "\n",
    "CO2_solvation_calc = LAMMPS()\n",
    "CO2_solvation.set_calculator(CO2_solvation_calc)\n",
    "CO2_solvation_calc.atoms = CO2_solvation.copy()\n",
    "CO2_solvation_calc.prism = Prism(CO2_solvation_calc.atoms.get_cell())"
   ]
  },
  {
   "cell_type": "code",
   "execution_count": null,
   "metadata": {},
   "outputs": [],
   "source": [
    "# Converting lammpstrj to ase traj\n",
    "job_id = 2103706\n",
    "\n",
    "CO2_solvation_calc.trajectory_out = Trajectory(sim_path + \"CO2_solvation_reaxff.traj\", 'w')\n",
    "CO2_solvation_calc.read_lammps_trj(lammps_trj = cx1_out + str(job_id) + r\".cx1/CO2_solvation_reaxff.lammpstrj\")\n",
    "CO2_solvation_calc.trajectory_out.close()"
   ]
  }
 ],
 "metadata": {
  "kernelspec": {
   "display_name": "Python 3",
   "language": "python",
   "name": "python3"
  },
  "language_info": {
   "codemirror_mode": {
    "name": "ipython",
    "version": 3
   },
   "file_extension": ".py",
   "mimetype": "text/x-python",
   "name": "python",
   "nbconvert_exporter": "python",
   "pygments_lexer": "ipython3",
   "version": "3.6.3"
  }
 },
 "nbformat": 4,
 "nbformat_minor": 2
}
