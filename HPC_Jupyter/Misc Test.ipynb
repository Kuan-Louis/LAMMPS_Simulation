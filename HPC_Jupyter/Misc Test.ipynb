{
 "cells": [
  {
   "cell_type": "code",
   "execution_count": 2,
   "metadata": {},
   "outputs": [
    {
     "name": "stdout",
     "output_type": "stream",
     "text": [
      "/rds/general/user/yx6015/home/cx1_out/\n",
      "/rds/general/user/yx6015/home/LAMMPS_Simulation/HPC_Jupyter/\n"
     ]
    }
   ],
   "source": [
    "%matplotlib inline\n",
    "\n",
    "import numpy as np\n",
    "import matplotlib as mpl\n",
    "import matplotlib.pyplot as plt\n",
    "plt.style.use('ggplot')\n",
    "\n",
    "import os, sys, shutil\n",
    "sys.path.append(\"..\")\n",
    "import pandas as pd\n",
    "\n",
    "from lammpsrun import LAMMPS, Prism\n",
    "from PBSJobSubmissionScript import PBS_Submitter, qstat_monitor\n",
    "from utility_scripts import *\n",
    "\n",
    "from ase import Atoms, units\n",
    "from ase.visualize import view\n",
    "from ase.visualize.plot import plot_atoms\n",
    "from ase.io.trajectory import Trajectory\n",
    "from ase.io import write, read\n",
    "from ase.build import molecule, bcc110, bcc111\n",
    "from ase.spacegroup import crystal\n",
    "from ase.data import atomic_numbers, atomic_names, atomic_masses, covalent_radii\n",
    "\n",
    "cx1_out = r\"/rds/general/user/yx6015/home/cx1_out/\"\n",
    "ephemeral = r\"/rds/general/user/yx6015/ephemeral/\"\n",
    "sim_path = r\"/rds/general/user/yx6015/home/LAMMPS_Simulation/HPC_Jupyter/\"\n",
    "print(cx1_out + '\\n' + sim_path)\n",
    "potential = \"fe_o_water_fe_o_c_full_water.reax\""
   ]
  },
  {
   "cell_type": "code",
   "execution_count": 2,
   "metadata": {},
   "outputs": [
    {
     "name": "stdout",
     "output_type": "stream",
     "text": [
      "mkl_info:\n",
      "    libraries = ['mkl_rt', 'pthread']\n",
      "    library_dirs = ['/rds/general/user/yx6015/home/anaconda3/lib']\n",
      "    define_macros = [('SCIPY_MKL_H', None), ('HAVE_CBLAS', None)]\n",
      "    include_dirs = ['/rds/general/user/yx6015/home/anaconda3/include']\n",
      "blas_mkl_info:\n",
      "    libraries = ['mkl_rt', 'pthread']\n",
      "    library_dirs = ['/rds/general/user/yx6015/home/anaconda3/lib']\n",
      "    define_macros = [('SCIPY_MKL_H', None), ('HAVE_CBLAS', None)]\n",
      "    include_dirs = ['/rds/general/user/yx6015/home/anaconda3/include']\n",
      "blas_opt_info:\n",
      "    libraries = ['mkl_rt', 'pthread']\n",
      "    library_dirs = ['/rds/general/user/yx6015/home/anaconda3/lib']\n",
      "    define_macros = [('SCIPY_MKL_H', None), ('HAVE_CBLAS', None)]\n",
      "    include_dirs = ['/rds/general/user/yx6015/home/anaconda3/include']\n",
      "lapack_mkl_info:\n",
      "    libraries = ['mkl_rt', 'pthread']\n",
      "    library_dirs = ['/rds/general/user/yx6015/home/anaconda3/lib']\n",
      "    define_macros = [('SCIPY_MKL_H', None), ('HAVE_CBLAS', None)]\n",
      "    include_dirs = ['/rds/general/user/yx6015/home/anaconda3/include']\n",
      "lapack_opt_info:\n",
      "    libraries = ['mkl_rt', 'pthread']\n",
      "    library_dirs = ['/rds/general/user/yx6015/home/anaconda3/lib']\n",
      "    define_macros = [('SCIPY_MKL_H', None), ('HAVE_CBLAS', None)]\n",
      "    include_dirs = ['/rds/general/user/yx6015/home/anaconda3/include']\n"
     ]
    }
   ],
   "source": [
    "np.show_config()"
   ]
  },
  {
   "cell_type": "markdown",
   "metadata": {},
   "source": [
    "# MKL Test"
   ]
  },
  {
   "cell_type": "code",
   "execution_count": 6,
   "metadata": {},
   "outputs": [
    {
     "data": {
      "text/plain": [
       "20"
      ]
     },
     "execution_count": 6,
     "metadata": {},
     "output_type": "execute_result"
    }
   ],
   "source": [
    "import psutil\n",
    "psutil.cpu_count(logical=False)"
   ]
  },
  {
   "cell_type": "code",
   "execution_count": 9,
   "metadata": {},
   "outputs": [],
   "source": [
    "file_name = 'Aq_efield_0MVcm'\n",
    "lammps_traj_file = '/rds/general/user/yx6015/ephemeral/2466596.cx1/Aq_efield_0MVcm.lammpstrj'"
   ]
  },
  {
   "cell_type": "code",
   "execution_count": null,
   "metadata": {},
   "outputs": [],
   "source": [
    "mol_file = file_name + \".extxyz\"\n",
    "ase_traj_file = file_name + \".traj\"\n",
    "\n",
    "calc = LAMMPS()\n",
    "mol = read(mol_file)\n",
    "mol.set_calculator(calc)\n",
    "calc.atoms = mol\n",
    "calc.prism = Prism(mol.get_cell())\n",
    "\n",
    "print(\"Writing ASE trajectory to \", ase_traj_file)\n",
    "calc.trajectory_out = Trajectory(ase_traj_file, 'w')\n",
    "\n",
    "print(\"Reading LAMMPS Trajectory from\", lammps_traj_file)\n",
    "calc.read_lammps_trj(lammps_trj = lammps_traj_file)\n",
    "calc.trajectory_out.close()"
   ]
  },
  {
   "cell_type": "code",
   "execution_count": 1,
   "metadata": {},
   "outputs": [],
   "source": [
    "#yay it works"
   ]
  },
  {
   "cell_type": "markdown",
   "metadata": {},
   "source": [
    "# Conversion Speed Test"
   ]
  },
  {
   "cell_type": "code",
   "execution_count": 41,
   "metadata": {},
   "outputs": [],
   "source": [
    "aq_out = '2466596.cx1'\n",
    "aq_name = 'Aq_efield_0MVcm'\n",
    "out_dir = os.path.join(ephemeral, aq_out)\n",
    "convert_scripts_dir = r\"/rds/general/user/yx6015/home/LAMMPS_Simulation/HPC_Scripts/\""
   ]
  },
  {
   "cell_type": "code",
   "execution_count": 55,
   "metadata": {},
   "outputs": [],
   "source": [
    "test_list = ['', '_nocopy', '_nocopy_nosend', '_fast', '_nocopy_nosend_fast']\n",
    "script_list = [\"convert_script{}.py\".format(x) for x in test_list]\n",
    "test_args = ['{}'.format(aq_name),\n",
    "             '{} {}'.format(aq_name, os.path.join(out_dir, aq_name+'.lammpstrj')),\n",
    "             '{} {} {}'.format(aq_name, os.path.join(out_dir, aq_name+'.lammpstrj'), os.path.join(out_dir, aq_name+'.traj')),\n",
    "             '{}'.format(aq_name),\n",
    "             '{} {} {}'.format(aq_name, os.path.join(out_dir, aq_name+'.lammpstrj'), os.path.join(out_dir, aq_name+'.traj'))]\n",
    "test_commands = [[\"python {} {}\".format(x[0], x[1])] for x in zip(script_list, test_args)]"
   ]
  },
  {
   "cell_type": "code",
   "execution_count": 78,
   "metadata": {},
   "outputs": [],
   "source": [
    "test_source_files = [[os.path.join(out_dir, \"*extxyz\"), \n",
    "                      os.path.join(convert_scripts_dir, x),\n",
    "                      os.path.join(convert_scripts_dir, \"lammpsrun.py\")] for x in script_list]\n",
    "test_source_files[0] += [os.path.join(out_dir, \"*lammpstrj\")]\n",
    "test_source_files[3] += [os.path.join(out_dir, \"*lammpstrj\")]\n",
    "test_names = ['convert{}'.format(x) for x in test_list]"
   ]
  },
  {
   "cell_type": "code",
   "execution_count": 57,
   "metadata": {},
   "outputs": [],
   "source": [
    "convert_PBS = PBS_Submitter(job_names=test_names,\n",
    "                            job_commands=test_commands,\n",
    "                            modules=[\"mpi\", \"anaconda3/personal\"],\n",
    "                            walltime=\"24:00:00\",\n",
    "                            proc_nodes=1,\n",
    "                            proc_cpus=8,\n",
    "                            proc_mpiprocs=8, \n",
    "                            memory=32,\n",
    "                            source_files=test_source_files)"
   ]
  },
  {
   "cell_type": "code",
   "execution_count": 58,
   "metadata": {},
   "outputs": [
    {
     "name": "stdout",
     "output_type": "stream",
     "text": [
      "['2474193.cx1', '2474194.cx1', '2474195.cx1', '2474196.cx1', '2474197.cx1'] \n",
      " ['convert', 'convert_nocopy', 'convert_nocopy_nosend', 'convert_fast', 'convert_nocopy_nosend_fast']\n"
     ]
    }
   ],
   "source": [
    "convert_out, convert_err = convert_PBS.run()\n",
    "print(convert_out,'\\n', test_names)"
   ]
  },
  {
   "cell_type": "code",
   "execution_count": 61,
   "metadata": {},
   "outputs": [
    {
     "data": {
      "text/plain": [
       "{'source_files': [['/rds/general/user/yx6015/ephemeral/2466596.cx1/*extxyz',\n",
       "   '/rds/general/user/yx6015/home/LAMMPS_Simulation/HPC_Scripts/convert_script.py',\n",
       "   '/rds/general/user/yx6015/home/LAMMPS_Simulation/HPC_Scripts/lammpsrun.py',\n",
       "   '/rds/general/user/yx6015/ephemeral/2466596.cx1/*lammpstrj'],\n",
       "  ['/rds/general/user/yx6015/ephemeral/2466596.cx1/*extxyz',\n",
       "   '/rds/general/user/yx6015/home/LAMMPS_Simulation/HPC_Scripts/convert_script_nocopy.py',\n",
       "   '/rds/general/user/yx6015/home/LAMMPS_Simulation/HPC_Scripts/lammpsrun.py'],\n",
       "  ['/rds/general/user/yx6015/ephemeral/2466596.cx1/*extxyz',\n",
       "   '/rds/general/user/yx6015/home/LAMMPS_Simulation/HPC_Scripts/convert_script_nocopy_nosend.py',\n",
       "   '/rds/general/user/yx6015/home/LAMMPS_Simulation/HPC_Scripts/lammpsrun.py'],\n",
       "  ['/rds/general/user/yx6015/ephemeral/2466596.cx1/*extxyz',\n",
       "   '/rds/general/user/yx6015/home/LAMMPS_Simulation/HPC_Scripts/convert_script_fast.py',\n",
       "   '/rds/general/user/yx6015/home/LAMMPS_Simulation/HPC_Scripts/lammpsrun.py',\n",
       "   '/rds/general/user/yx6015/ephemeral/2466596.cx1/*lammpstrj'],\n",
       "  ['/rds/general/user/yx6015/ephemeral/2466596.cx1/*extxyz',\n",
       "   '/rds/general/user/yx6015/home/LAMMPS_Simulation/HPC_Scripts/convert_script_nocopy_nosend_fast.py',\n",
       "   '/rds/general/user/yx6015/home/LAMMPS_Simulation/HPC_Scripts/lammpsrun.py']],\n",
       " 'job_names': ['convert',\n",
       "  'convert_nocopy',\n",
       "  'convert_nocopy_nosend',\n",
       "  'convert_fast',\n",
       "  'convert_nocopy_nosend_fast'],\n",
       " 'job_commands': [['python convert_script.py Aq_efield_0MVcm'],\n",
       "  ['python convert_script_nocopy.py Aq_efield_0MVcm /rds/general/user/yx6015/ephemeral/2466596.cx1/Aq_efield_0MVcm.lammpstrj'],\n",
       "  ['python convert_script_nocopy_nosend.py Aq_efield_0MVcm /rds/general/user/yx6015/ephemeral/2466596.cx1/Aq_efield_0MVcm.lammpstrj /rds/general/user/yx6015/ephemeral/2466596.cx1/Aq_efield_0MVcm.traj'],\n",
       "  ['python convert_script_fast.py Aq_efield_0MVcm'],\n",
       "  ['python convert_script_nocopy_nosend_fast.py Aq_efield_0MVcm /rds/general/user/yx6015/ephemeral/2466596.cx1/Aq_efield_0MVcm.lammpstrj /rds/general/user/yx6015/ephemeral/2466596.cx1/Aq_efield_0MVcm.traj']],\n",
       " 'modules': [['mpi', 'anaconda3/personal'],\n",
       "  ['mpi', 'anaconda3/personal'],\n",
       "  ['mpi', 'anaconda3/personal'],\n",
       "  ['mpi', 'anaconda3/personal'],\n",
       "  ['mpi', 'anaconda3/personal']],\n",
       " 'walltime': ['24:00:00', '24:00:00', '24:00:00', '24:00:00', '24:00:00'],\n",
       " 'proc_nodes': [1, 1, 1, 1, 1],\n",
       " 'proc_cpus': [8, 8, 8, 8, 8],\n",
       " 'proc_mpiprocs': [8, 8, 8, 8, 8],\n",
       " 'proc_threads': [1, 1, 1, 1, 1],\n",
       " 'memory': [32, 32, 32, 32, 32]}"
      ]
     },
     "execution_count": 61,
     "metadata": {},
     "output_type": "execute_result"
    }
   ],
   "source": [
    "convert_PBS.params"
   ]
  }
 ],
 "metadata": {
  "kernelspec": {
   "display_name": "Python 3 Personal",
   "language": "python",
   "name": "python3"
  },
  "language_info": {
   "codemirror_mode": {
    "name": "ipython",
    "version": 3
   },
   "file_extension": ".py",
   "mimetype": "text/x-python",
   "name": "python",
   "nbconvert_exporter": "python",
   "pygments_lexer": "ipython3",
   "version": "3.7.2"
  }
 },
 "nbformat": 4,
 "nbformat_minor": 2
}
