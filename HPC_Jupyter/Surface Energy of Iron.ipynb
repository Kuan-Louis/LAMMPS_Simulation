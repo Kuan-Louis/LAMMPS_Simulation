{
 "cells": [
  {
   "cell_type": "code",
   "execution_count": 1,
   "metadata": {},
   "outputs": [
    {
     "name": "stdout",
     "output_type": "stream",
     "text": [
      "Populating the interactive namespace from numpy and matplotlib\n"
     ]
    },
    {
     "data": {
      "text/plain": [
       "'D:\\\\Cloud Storage\\\\GitRepositories\\\\LAMMPS_Simulation\\\\'"
      ]
     },
     "execution_count": 1,
     "metadata": {},
     "output_type": "execute_result"
    }
   ],
   "source": [
    "%pylab inline\n",
    "%load_ext autoreload\n",
    "%autoreload 2\n",
    "\n",
    "import scipy.constants as cst\n",
    "from lammpsrun import LAMMPS, Prism\n",
    "\n",
    "from ase.lattice.cubic import BodyCenteredCubic\n",
    "from ase.visualize import view\n",
    "from ase.io.trajectory import Trajectory\n",
    "from ase.io import write\n",
    "from ase.build import *\n",
    "\n",
    "homepath = \"D:\\\\Cloud Storage\\\\GitRepositories\\\\LAMMPS_Simulation\\\\\"\n",
    "homepath"
   ]
  },
  {
   "cell_type": "markdown",
   "metadata": {},
   "source": [
    "Per Prof. Nic Harrison,\n",
    "$$ SE = \\frac{E_{slab} - E_{bulk}}{2A}$$"
   ]
  },
  {
   "cell_type": "code",
   "execution_count": 2,
   "metadata": {},
   "outputs": [],
   "source": [
    "Fe_slab_reaxff_params = {\n",
    "    # Initialization\n",
    "    \"units\": \"real\",\n",
    "    \"atom_style\": \"charge\",\n",
    "    \"mass\": [\"1 55.845\"],\n",
    "    \n",
    "    # Forcefield definition\n",
    "    \"pair_style\": \"reax/c NULL safezone 16\",\n",
    "    \"pair_coeff\": ['* * ' + 'ffield.reax.Fe_O_C_H' + ' Fe'],\n",
    "    \"neighbor\": \"2.0 bin\",\n",
    "    \"neighbor_modify\": \"delay 10 check yes\",\n",
    "    \n",
    "    # Run and Minimization\n",
    "    \"minimize\": \"1e-25 1e-25 10000 10000\",\n",
    "    \"min_style\": \"cg\",\n",
    "    \"timestep\": 0.1,\n",
    "    \"fix\": [\"1 all box/relax xy 0.0 vmax 0.001\",\n",
    "            \"2 all qeq/reax 1 0.0 10.0 1e-6 reax/c\"]\n",
    "}\n",
    "\n",
    "Fe_bulk_reaxff_params = {\n",
    "    # Initialization\n",
    "    \"units\": \"real\",\n",
    "    \"atom_style\": \"charge\",\n",
    "    \"mass\": [\"1 55.845\"],\n",
    "    \n",
    "    # Forcefield definition\n",
    "    \"pair_style\": \"reax/c NULL safezone 16\",\n",
    "    \"pair_coeff\": ['* * ' + 'ffield.reax.Fe_O_C_H' + ' Fe'],\n",
    "    \"neighbor\": \"2.0 bin\",\n",
    "    \"neighbor_modify\": \"delay 10 check yes\",\n",
    "    \n",
    "    # Run and Minimization\n",
    "    \"minimize\": \"1e-25 1e-25 10000 10000\",\n",
    "    \"min_style\": \"cg\",\n",
    "    \"timestep\": 0.1,\n",
    "    \"fix\": [\"1 all box/relax iso 0.0 vmax 0.001\",\n",
    "            \"2 all qeq/reax 1 0.0 10.0 1e-6 reax/c\"]\n",
    "}"
   ]
  },
  {
   "cell_type": "markdown",
   "metadata": {},
   "source": [
    "## Bulk Fe"
   ]
  },
  {
   "cell_type": "code",
   "execution_count": 15,
   "metadata": {},
   "outputs": [
    {
     "data": {
      "application/vnd.jupyter.widget-view+json": {
       "model_id": "1d388dc9c3384c4cbab18ca02e2257cc",
       "version_major": 2,
       "version_minor": 0
      },
      "text/plain": [
       "HBox(children=(NGLWidget(), VBox(children=(Dropdown(description='Show', options=('All', 'Fe'), value='All'), D…"
      ]
     },
     "metadata": {},
     "output_type": "display_data"
    }
   ],
   "source": [
    "view(Fe_bulk, viewer='ngl')"
   ]
  },
  {
   "cell_type": "code",
   "execution_count": 3,
   "metadata": {},
   "outputs": [],
   "source": [
    "# Creating simulation box\n",
    "Fe_bulk = bulk('Fe', 'bcc')\n",
    "\n",
    "# Setting up simulation input\n",
    "Fe_bulk_calc = LAMMPS(tmp_dir = homepath + \"temp\", \n",
    "                      parameters = Fe_bulk_reaxff_params,\n",
    "                      keep_tmp_files=True, no_data_file=True)\n",
    "Fe_bulk.set_calculator(Fe_bulk_calc)\n",
    "Fe_bulk_calc.atoms = Fe_bulk.copy()\n",
    "Fe_bulk_calc.prism = Prism(Fe_bulk_calc.atoms.get_cell())\n",
    "\n",
    "# Writing input file\n",
    "Fe_bulk_calc.write_lammps_in(lammps_in = homepath + \"surface_Energy\\\\fe_bulk_reaxff_minimize.in\",\n",
    "                             lammps_trj = homepath + \"surface_Energy\\\\fe_bulk_reaxff_minimize.lammpstrj\")\n"
   ]
  },
  {
   "cell_type": "code",
   "execution_count": null,
   "metadata": {
    "scrolled": true
   },
   "outputs": [],
   "source": [
    "# Running calculations\n",
    "!lmp_serial -in surface_Energy\\fe_bulk_reaxff_minimize.in -log surface_Energy\\fe_bulk_reaxff_minimize.log"
   ]
  },
  {
   "cell_type": "code",
   "execution_count": 4,
   "metadata": {},
   "outputs": [],
   "source": [
    "# Reading output\n",
    "Fe_bulk_calc.read_lammps_log(lammps_log = homepath + \"surface_Energy\\\\fe_bulk_reaxff_minimize.log\")\n",
    "Fe_bulk_data = Fe_bulk_calc.thermo_content[-1]"
   ]
  },
  {
   "cell_type": "markdown",
   "metadata": {},
   "source": [
    "# bcc(110) Fe"
   ]
  },
  {
   "cell_type": "code",
   "execution_count": 5,
   "metadata": {},
   "outputs": [],
   "source": [
    "# Creating simulation box\n",
    "Fe_bcc110 = bcc110('Fe', size=(1,1,128), vacuum=10.0)\n",
    "\n",
    "# Setting up simulation input\n",
    "Fe_bcc110_calc = LAMMPS(tmp_dir = homepath + \"temp\", \n",
    "                      parameters = Fe_slab_reaxff_params,\n",
    "                      keep_tmp_files=True, no_data_file=True)\n",
    "Fe_bcc110.set_calculator(Fe_bcc110_calc)\n",
    "Fe_bcc110_calc.atoms = Fe_bcc110.copy()\n",
    "Fe_bcc110_calc.prism = Prism(Fe_bcc110_calc.atoms.get_cell())\n",
    "\n",
    "# Writing input file\n",
    "Fe_bcc110_calc.write_lammps_in(lammps_in = homepath + \"surface_Energy\\\\fe_bcc110_reaxff_minimize.in\",\n",
    "                               lammps_trj = homepath + \"surface_Energy\\\\fe_bcc110_reaxff_minimize.lammpstrj\")\n"
   ]
  },
  {
   "cell_type": "code",
   "execution_count": null,
   "metadata": {},
   "outputs": [],
   "source": [
    "# Running calculations\n",
    "!lmp_serial -in surface_Energy\\fe_bcc110_reaxff_minimize.in -log surface_Energy\\fe_bcc110_reaxff_minimize.log"
   ]
  },
  {
   "cell_type": "code",
   "execution_count": 6,
   "metadata": {},
   "outputs": [],
   "source": [
    "# Reading output\n",
    "Fe_bcc110_calc.read_lammps_log(lammps_log = homepath + \"surface_Energy\\\\fe_bcc110_reaxff_minimize.log\")\n",
    "Fe_bcc110_data = Fe_bcc110_calc.thermo_content[-1]"
   ]
  },
  {
   "cell_type": "code",
   "execution_count": 14,
   "metadata": {},
   "outputs": [
    {
     "name": "stdout",
     "output_type": "stream",
     "text": [
      "1.7443148875538246\n"
     ]
    }
   ],
   "source": [
    "Fe_bcc110_data = Fe_bcc110_calc.thermo_content[-1]\n",
    "\n",
    "# Surface energy in Kcal/(mol A^2)\n",
    "Fe_bcc110_SE_real = (Fe_bcc110_data['pe']/Fe_bcc110_data['atoms'] - Fe_bulk_data['pe']/Fe_bulk_data['atoms'])/(2*(Fe_bcc110_data['vol']/Fe_bcc110_data['lz']/Fe_bcc110_data['atoms']))\n",
    "\n",
    "# Converting to J/m^2\n",
    "Fe_bcc110_SE_SI = Fe_bcc110_SE_real * 4184 / cst.Avogadro * 10**20\n",
    "print(Fe_bcc110_SE_SI)"
   ]
  },
  {
   "cell_type": "markdown",
   "metadata": {},
   "source": [
    "# bcc(100) Fe"
   ]
  },
  {
   "cell_type": "code",
   "execution_count": 7,
   "metadata": {},
   "outputs": [],
   "source": [
    "# Creating simulation box\n",
    "Fe_bcc100 = bcc100('Fe', size=(1,1,128), vacuum=10.0)\n",
    "\n",
    "# Setting up simulation input\n",
    "Fe_bcc100_calc = LAMMPS(tmp_dir = homepath + \"temp\", \n",
    "                      parameters = Fe_slab_reaxff_params,\n",
    "                      keep_tmp_files=True, no_data_file=True, always_triclinic=True)\n",
    "Fe_bcc100.set_calculator(Fe_bcc100_calc)\n",
    "Fe_bcc100_calc.atoms = Fe_bcc100.copy()\n",
    "Fe_bcc100_calc.prism = Prism(Fe_bcc100_calc.atoms.get_cell())\n",
    "\n",
    "# Writing input file\n",
    "Fe_bcc100_calc.write_lammps_in(lammps_in = homepath + \"surface_Energy\\\\fe_bcc100_reaxff_minimize.in\",\n",
    "                               lammps_trj = homepath + \"surface_Energy\\\\fe_bcc100_reaxff_minimize.lammpstrj\")"
   ]
  },
  {
   "cell_type": "code",
   "execution_count": null,
   "metadata": {},
   "outputs": [],
   "source": [
    "# Running calculations\n",
    "!lmp_serial -in surface_Energy\\fe_bcc100_reaxff_minimize.in -log surface_Energy\\fe_bcc100_reaxff_minimize.log"
   ]
  },
  {
   "cell_type": "code",
   "execution_count": 8,
   "metadata": {},
   "outputs": [],
   "source": [
    "# Reading output\n",
    "Fe_bcc100_calc.read_lammps_log(lammps_log = homepath + \"surface_Energy\\\\fe_bcc100_reaxff_minimize.log\")\n",
    "Fe_bcc100_data = Fe_bcc100_calc.thermo_content[-1]"
   ]
  },
  {
   "cell_type": "code",
   "execution_count": 13,
   "metadata": {},
   "outputs": [
    {
     "name": "stdout",
     "output_type": "stream",
     "text": [
      "2.0692676658333244\n"
     ]
    }
   ],
   "source": [
    "Fe_bcc100_data = Fe_bcc100_calc.thermo_content[-1]\n",
    "\n",
    "# Surface energy in Kcal/(mol A^2)\n",
    "Fe_bcc100_SE_real = (Fe_bcc100_data['pe']/Fe_bcc100_data['atoms'] - Fe_bulk_data['pe']/Fe_bulk_data['atoms'])/(2*(Fe_bcc100_data['vol']/Fe_bcc100_data['lz']/Fe_bcc100_data['atoms']))\n",
    "\n",
    "# Converting to J/m^2\n",
    "Fe_bcc100_SE_SI = Fe_bcc100_SE_real * 4184 / cst.Avogadro * 10**20\n",
    "print(Fe_bcc100_SE_SI)"
   ]
  },
  {
   "cell_type": "markdown",
   "metadata": {},
   "source": [
    "# bcc(111) Fe"
   ]
  },
  {
   "cell_type": "code",
   "execution_count": 9,
   "metadata": {},
   "outputs": [],
   "source": [
    "# Creating simulation box\n",
    "Fe_bcc111 = bcc111('Fe', size=(1,1,128), vacuum=10.0)\n",
    "\n",
    "# Setting up simulation input\n",
    "Fe_bcc111_calc = LAMMPS(tmp_dir = homepath + \"temp\", \n",
    "                      parameters = Fe_slab_reaxff_params,\n",
    "                      keep_tmp_files=True, no_data_file=True)\n",
    "Fe_bcc111.set_calculator(Fe_bcc111_calc)\n",
    "Fe_bcc111_calc.atoms = Fe_bcc111.copy()\n",
    "Fe_bcc111_calc.prism = Prism(Fe_bcc111_calc.atoms.get_cell())\n",
    "\n",
    "# Writing input file\n",
    "Fe_bcc111_calc.write_lammps_in(lammps_in = homepath + \"surface_Energy\\\\fe_bcc111_reaxff_minimize.in\",\n",
    "                               lammps_trj = homepath + \"surface_Energy\\\\fe_bcc111_reaxff_minimize.lammpstrj\")"
   ]
  },
  {
   "cell_type": "code",
   "execution_count": null,
   "metadata": {},
   "outputs": [],
   "source": [
    "# Running calculations\n",
    "!lmp_serial -in surface_Energy\\fe_bcc111_reaxff_minimize.in -log surface_Energy\\fe_bcc111_reaxff_minimize.log"
   ]
  },
  {
   "cell_type": "code",
   "execution_count": 10,
   "metadata": {},
   "outputs": [],
   "source": [
    "# Reading output\n",
    "Fe_bcc111_calc.read_lammps_log(lammps_log = homepath + \"surface_Energy\\\\fe_bcc111_reaxff_minimize.log\")"
   ]
  },
  {
   "cell_type": "code",
   "execution_count": null,
   "metadata": {},
   "outputs": [],
   "source": [
    "Fe_bcc111_calc.thermo_content[-1]"
   ]
  },
  {
   "cell_type": "code",
   "execution_count": 12,
   "metadata": {},
   "outputs": [
    {
     "name": "stdout",
     "output_type": "stream",
     "text": [
      "2.6762248435373914\n"
     ]
    }
   ],
   "source": [
    "Fe_bcc111_data = Fe_bcc111_calc.thermo_content[-1]\n",
    "\n",
    "# Surface energy in Kcal/(mol A^2)\n",
    "Fe_bcc111_SE_real = (Fe_bcc111_data['pe']/Fe_bcc111_data['atoms'] - Fe_bulk_data['pe']/Fe_bulk_data['atoms'])/(2*(Fe_bcc111_data['vol']/Fe_bcc111_data['lz']/Fe_bcc111_data['atoms']))\n",
    "\n",
    "# Converting to J/m^2\n",
    "Fe_bcc111_SE_SI = Fe_bcc111_SE_real * 4184 / cst.Avogadro * 10**20\n",
    "print(Fe_bcc111_SE_SI)"
   ]
  },
  {
   "cell_type": "markdown",
   "metadata": {},
   "source": [
    "# etc"
   ]
  },
  {
   "cell_type": "code",
   "execution_count": null,
   "metadata": {},
   "outputs": [],
   "source": [
    "\n",
    "Fe_var_reaxff_thermo_contents = []\n",
    "Fe_var_reaxff_thermo_contents_label = []\n",
    "\n",
    "for thickness in range(2, 60, 4):\n",
    "    Fe_var_reaxff_thermo_contents_label.append(thickness)\n",
    "    Fe_var_reaxff_slab = bcc110('Fe', size=(1,1,thickness), vacuum=10.0)\n",
    "    \n",
    "    Fe_var_reaxff_slab_calc = LAMMPS(tmp_dir = homepath + \"temp\", \n",
    "                              parameters = fe_slab_lammps_params,\n",
    "                              keep_tmp_files=True, no_data_file=True)\n",
    "    \n",
    "    Fe_slab.set_calculator(Fe_var_reaxff_slab_calc)\n",
    "    Fe_var_reaxff_slab_calc.atoms = Fe_var_reaxff_slab.copy()\n",
    "    Fe_var_reaxff_slab_calc.prism = Prism(Fe_var_reaxff_slab_calc.atoms.get_cell())\n",
    "    \n",
    "    Fe_var_reaxff_slab_calc.write_lammps_in(lammps_in = homepath + \"input\\\\fe_var_slab_reaxff_minimize.in\",\n",
    "                                     lammps_trj = homepath + \"output\\\\fe_var_slab_reaxff_minimize.lammpstrj\")\n",
    "    \n",
    "    !lmp_serial -in input\\fe_var_slab_reaxff_minimize.in -log output\\fe_var_slab_reaxff_minimize.log\n",
    "    \n",
    "    Fe_var_reaxff_slab_calc.read_lammps_log(lammps_log = homepath + \"output\\\\fe_var_slab_reaxff_minimize.log\")\n",
    "    Fe_var_reaxff_thermo_contents.append(Fe_var_reaxff_slab_calc.thermo_content)"
   ]
  }
 ],
 "metadata": {
  "kernelspec": {
   "display_name": "Python 3 Personal",
   "language": "python",
   "name": "python3"
  },
  "language_info": {
   "codemirror_mode": {
    "name": "ipython",
    "version": 3
   },
   "file_extension": ".py",
   "mimetype": "text/x-python",
   "name": "python",
   "nbconvert_exporter": "python",
   "pygments_lexer": "ipython3",
   "version": "3.6.6"
  }
 },
 "nbformat": 4,
 "nbformat_minor": 2
}
