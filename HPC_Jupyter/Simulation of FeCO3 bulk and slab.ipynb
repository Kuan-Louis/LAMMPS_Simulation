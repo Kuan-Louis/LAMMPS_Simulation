{
 "cells": [
  {
   "cell_type": "code",
   "execution_count": 1,
   "metadata": {},
   "outputs": [
    {
     "name": "stdout",
     "output_type": "stream",
     "text": [
      "Populating the interactive namespace from numpy and matplotlib\n",
      "/rds/general/user/yx6015/home/cx1_out/\n",
      "/rds/general/user/yx6015/home/LAMMPS_Simulation/\n"
     ]
    }
   ],
   "source": [
    "%pylab inline\n",
    "\n",
    "#from mpl_toolkits.mplot3d import Axes3D\n",
    "import os\n",
    "import scipy.constants as cst\n",
    "from lammpsrun import LAMMPS, Prism\n",
    "from PBSJobSubmissionScript import PBS_Submitter\n",
    "\n",
    "from ase import Atoms, units\n",
    "from ase.visualize import view\n",
    "from ase.io.trajectory import Trajectory\n",
    "from ase.io import write, read\n",
    "from ase.build import surface\n",
    "from ase.spacegroup import crystal\n",
    "\n",
    "cx1_out = r\"/rds/general/user/yx6015/home/cx1_out/\"\n",
    "sim_path = r\"/rds/general/user/yx6015/home/LAMMPS_Simulation/\"\n",
    "print(cx1_out + '\\n' + sim_path)"
   ]
  },
  {
   "cell_type": "markdown",
   "metadata": {},
   "source": [
    "# Optimizing thickness for siderite slabs"
   ]
  },
  {
   "cell_type": "code",
   "execution_count": 2,
   "metadata": {},
   "outputs": [],
   "source": [
    "siderite = crystal(symbols = ['Fe', 'C', 'O'],\n",
    "                    basis = [(0, 0, 0), \n",
    "                             (0, 0, 0.25),\n",
    "                             (0.2748, 0, 0.25)],\n",
    "                    spacegroup=167,\n",
    "                    cellpar=[4.72, 4.72, 15.51, 90, 90, 120])"
   ]
  },
  {
   "cell_type": "code",
   "execution_count": 52,
   "metadata": {},
   "outputs": [],
   "source": [
    "# Atoms C Fe O\n",
    "siderite_bulk_reaxff_params = {\n",
    "    # Initialization\n",
    "    \"units\": \"real\",\n",
    "    \"atom_style\": \"charge\",\n",
    "    \"mass\": [\"1 12.011\",\n",
    "             \"2 55.845\",\n",
    "             \"3 15.999\"],\n",
    "    \n",
    "    # Forcefield definition\n",
    "    \"pair_style\": \"reax/c NULL safezone 16\",\n",
    "    \"pair_coeff\": ['* * ' + 'ffield.reax.Fe_O_C_H_combined' + ' C Fe O'],\n",
    "    \"neighbor\": \"2.0 bin\",\n",
    "    \"neighbor_modify\": \"delay 10 check yes\",\n",
    "    \n",
    "    # Run and Minimization\n",
    "    \"minimize\": [\"1e-25 1e-25 10000 10000\"],\n",
    "    \"min_style\": \"cg\",\n",
    "    \"timestep\": 0.1,\n",
    "    \"fix\": [\"1 all box/relax iso 0.0 vmax 0.001\",\n",
    "            \"2 all qeq/reax 1 0.0 10.0 1e-6 reax/c\"]\n",
    "}\n",
    "\n",
    "# Atoms C Fe O\n",
    "siderite_slab_reaxff_params = {\n",
    "    # Initialization\n",
    "    \"units\": \"real\",\n",
    "    \"atom_style\": \"charge\",\n",
    "    \"mass\": [\"1 12.011\",\n",
    "             \"2 55.845\",\n",
    "             \"3 15.999\"],\n",
    "    \n",
    "    # Forcefield definition\n",
    "    \"pair_style\": \"reax/c NULL safezone 16\",\n",
    "    \"pair_coeff\": ['* * ' + 'ffield.reax.Fe_O_C_H_combined' + ' C Fe O'],\n",
    "    #\"neighbor\": \"2.0 bin\",\n",
    "    #\"neighbor_modify\": \"delay 10 check yes\",\n",
    "    \n",
    "    # Run and Minimization\n",
    "    \"minimize\": [\"1e-25 1e-25 10000 10000\"]*5,\n",
    "    \"min_style\": \"sd\",\n",
    "    \"min_modify\": \"line quadratic\",\n",
    "    \"timestep\": 0.5,\n",
    "    \"fix\": [\"1 all box/relax x 0.0 y 0.0 xy 0.0 vmax 0.001 nreset 128\",\n",
    "            \"2 all qeq/reax 1 0.0 10.0 1e-6 reax/c\"]\n",
    "}"
   ]
  },
  {
   "cell_type": "markdown",
   "metadata": {},
   "source": [
    "## Thickness Convergence Test"
   ]
  },
  {
   "cell_type": "markdown",
   "metadata": {},
   "source": [
    "Using the following equation and form:\n",
    "\n",
    "$$\n",
    "E_s = \\frac{E^n_{slab} - n(E^n_{slab} - E^{n-1}_{slab})}{2A}\n",
    "$$\n",
    "\n",
    "While the thickness of slab reaches an adequate value, where the central atom positions are fixed,\n",
    "$(E^n_{slab} - E^{n-1}_{slab})$ should converge to $𝐸_{bulk}$"
   ]
  },
  {
   "cell_type": "code",
   "execution_count": 53,
   "metadata": {},
   "outputs": [],
   "source": [
    "siderite_thickness = arange(1, 11)\n",
    "siderite_thickness_input = [\"siderite_opt104_l{0}_reaxff_minimize.in\".format(x) for x in siderite_thickness]\n",
    "siderite_thickness_commands = [\"mpiexec lmp_mpi -in {0} -screen none\\n\".format(x) for x in siderite_thickness_input]\n",
    "siderite_thickness_names = [\"siderite_opt104_l{0}\".format(x) for x in siderite_thickness]\n",
    "siderite_thickness_calc = LAMMPS(parameters = siderite_slab_reaxff_params,\n",
    "                                 no_data_file=True, always_triclinic=True)"
   ]
  },
  {
   "cell_type": "code",
   "execution_count": 57,
   "metadata": {},
   "outputs": [],
   "source": [
    "for s_thickness, s_input in zip(siderite_thickness, siderite_thickness_input):\n",
    "    sCurrentThickness = surface(siderite, (1, 0, 4), s_thickness, vacuum=10)\n",
    "    sCurrentThickness = sCurrentThickness.repeat((2, 2, 1))\n",
    "    #sCurrentThickness.rattle(stdev=0.05, seed = 101)\n",
    "        \n",
    "    sCurrentThickness.set_calculator(siderite_thickness_calc)\n",
    "    siderite_thickness_calc.atoms = sCurrentThickness.copy()\n",
    "    siderite_thickness_calc.prism = Prism(siderite_thickness_calc.atoms.get_cell())\n",
    "    \n",
    "    siderite_thickness_calc.write_lammps_in(lammps_in = sim_path + \"siderite/opt/\" + s_input)"
   ]
  },
  {
   "cell_type": "code",
   "execution_count": 58,
   "metadata": {},
   "outputs": [],
   "source": [
    "sid_thickness_PBS = PBS_Submitter(job_names=siderite_thickness_names,\n",
    "                                  job_commands=siderite_thickness_commands,\n",
    "                                  modules=[\"mpi\", \"lammps\", \"intel-suite/2017.6\"],\n",
    "                                  walltime=\"4:00:00\",\n",
    "                                  proc_cpus=8,\n",
    "                                  proc_mpiprocs=8,\n",
    "                                  memory=4)\n",
    "#sid_thickness_PBS.params"
   ]
  },
  {
   "cell_type": "code",
   "execution_count": 59,
   "metadata": {},
   "outputs": [],
   "source": [
    "curr_dir = os.getcwd()\n",
    "os.chdir(sim_path + \"siderite/opt\")\n",
    "\n",
    "sid_thickness_out, sid_thickness_err = sid_thickness_PBS.run()\n",
    "\n",
    "os.chdir(curr_dir)"
   ]
  },
  {
   "cell_type": "code",
   "execution_count": 43,
   "metadata": {},
   "outputs": [
    {
     "data": {
      "text/plain": [
       "['2130428.cx1',\n",
       " '2130429.cx1',\n",
       " '2130430.cx1',\n",
       " '2130431.cx1',\n",
       " '2130432.cx1',\n",
       " '2130433.cx1',\n",
       " '2130434.cx1',\n",
       " '2130435.cx1',\n",
       " '2130436.cx1',\n",
       " '2130437.cx1']"
      ]
     },
     "execution_count": 43,
     "metadata": {},
     "output_type": "execute_result"
    }
   ],
   "source": [
    "sid_thickness_out"
   ]
  },
  {
   "cell_type": "code",
   "execution_count": 49,
   "metadata": {},
   "outputs": [],
   "source": [
    "# Move all the log and error files over\n",
    "for sid_thickness_logfile, sid_thickness_job_fd in zip(siderite_thickness_names, sid_thickness_out):\n",
    "    !mv {sim_path}siderite/opt/{sid_thickness_logfile}.* {cx1_out}{sid_thickness_job_fd}/"
   ]
  },
  {
   "cell_type": "code",
   "execution_count": 50,
   "metadata": {},
   "outputs": [],
   "source": [
    "# Reading log file\n",
    "opt_pe = []\n",
    "opt_no = []\n",
    "for s_file, s_surface in zip(sid_thickness_out, siderite_thickness):\n",
    "    siderite_thickness_calc.read_lammps_log(lammps_log = cx1_out + s_file + '/log.lammps')\n",
    "    siderite_opt_data = siderite_thickness_calc.thermo_content[-1]\n",
    "    \n",
    "    opt_pe.append(siderite_opt_data['pe'])\n",
    "    opt_no.append(siderite_opt_data['atoms'])"
   ]
  },
  {
   "cell_type": "code",
   "execution_count": 51,
   "metadata": {},
   "outputs": [
    {
     "data": {
      "image/png": "[encoded data removed]",
      "text/plain": [
       "<matplotlib.figure.Figure at 0x2b6607628cf8>"
      ]
     },
     "metadata": {},
     "output_type": "display_data"
    }
   ],
   "source": [
    "opt_pe_arr = array(opt_pe)\n",
    "se_arr = opt_pe_arr[1:] - array(siderite_thickness[1:]) * (opt_pe_arr[1:] - opt_pe_arr[:-1])\n",
    "\n",
    "style.use('ggplot')\n",
    "figure(figsize=(12, 8))\n",
    "\n",
    "subplot(2, 1, 1)\n",
    "plot(siderite_thickness[1:], opt_pe_arr[1:] - opt_pe_arr[:-1], ' x')\n",
    "xlabel(\"n\")\n",
    "ylabel(\"$(E^n_{slab} - E^{n-1}_{slab})$\")\n",
    "\n",
    "subplot(2, 1, 2)\n",
    "plot(siderite_thickness[1:23], se_arr[:22], ' x')\n",
    "xlabel(\"n\")\n",
    "ylabel(\"$(E^n_{slab} - E^{n-1}_{slab})$\")\n",
    "\n",
    "show()"
   ]
  },
  {
   "cell_type": "markdown",
   "metadata": {},
   "source": [
    "Crystallographic data is obtained from https://materials.springer.com/isp/crystallographic/docs/sd_1628167"
   ]
  },
  {
   "cell_type": "markdown",
   "metadata": {},
   "source": [
    "# Bulk siderite crystal"
   ]
  },
  {
   "cell_type": "code",
   "execution_count": 4,
   "metadata": {},
   "outputs": [],
   "source": [
    "# Increasing size to improve QEq accuracy (>1 nm)\n",
    "siderite_bulk = siderite.repeat((3, 3, 1))\n",
    "siderite_bulk.center()"
   ]
  },
  {
   "cell_type": "code",
   "execution_count": 5,
   "metadata": {},
   "outputs": [],
   "source": [
    "# Setting up simulation input\n",
    "siderite_bulk_calc = LAMMPS(parameters = siderite_bulk_reaxff_params,\n",
    "                            no_data_file=True)\n",
    "\n",
    "siderite_bulk.set_calculator(siderite_bulk_calc)\n",
    "siderite_bulk_calc.atoms = siderite_bulk.copy()\n",
    "siderite_bulk_calc.prism = Prism(siderite_bulk_calc.atoms.get_cell())"
   ]
  },
  {
   "cell_type": "code",
   "execution_count": 6,
   "metadata": {},
   "outputs": [],
   "source": [
    "# Writing input file\n",
    "siderite_bulk_calc.write_lammps_in(lammps_in = sim_path + \"siderite/siderite_bulk_reaxff_minimize.in\",\n",
    "                                   lammps_trj = \"siderite_bulk_reaxff_minimize.lammpstrj\")"
   ]
  },
  {
   "cell_type": "code",
   "execution_count": 7,
   "metadata": {},
   "outputs": [
    {
     "data": {
      "text/plain": [
       "{'job_commands': ['mpiexec lmp_mpi -in siderite_bulk_reaxff_minimize.in -screen none'],\n",
       " 'job_names': ['siderite_reaxff_minimize'],\n",
       " 'memory': [4],\n",
       " 'modules': [['mpi', 'lammps', 'intel-suite/2017.6']],\n",
       " 'proc_cpus': [4],\n",
       " 'proc_mpiprocs': [4],\n",
       " 'proc_nodes': [1],\n",
       " 'walltime': ['4:00:00']}"
      ]
     },
     "execution_count": 7,
     "metadata": {},
     "output_type": "execute_result"
    }
   ],
   "source": [
    "sid_bulk_PBS = PBS_Submitter(job_names=\"siderite_reaxff_minimize\",\n",
    "                             job_commands=\"mpiexec lmp_mpi -in siderite_bulk_reaxff_minimize.in -screen none\",\n",
    "                             modules=[\"mpi\", \"lammps\", \"intel-suite/2017.6\"],\n",
    "                             walltime=\"4:00:00\",\n",
    "                             proc_cpus=4,\n",
    "                             proc_mpiprocs=4,\n",
    "                             memory=4)\n",
    "sid_bulk_PBS.params"
   ]
  },
  {
   "cell_type": "code",
   "execution_count": 8,
   "metadata": {},
   "outputs": [
    {
     "name": "stdout",
     "output_type": "stream",
     "text": [
      "Submitted Job: siderite_reaxff_minimize\n",
      "b'2123473.cx1\\n' b''\n"
     ]
    }
   ],
   "source": [
    "curr_dir = os.getcwd()\n",
    "os.chdir(sim_path + \"siderite\")\n",
    "\n",
    "sid_bulk_out, sid_bulk_err = sid_bulk_PBS.run()\n",
    "\n",
    "os.chdir(curr_dir)"
   ]
  },
  {
   "cell_type": "code",
   "execution_count": 15,
   "metadata": {},
   "outputs": [],
   "source": [
    "siderite_bulk_calc.read_lammps_log(lammps_log = cx1_out + sid_bulk_out[0] + '/log.lammps')\n",
    "siderite_bulk_data = siderite_bulk_calc.thermo_content[-1]\n",
    "\n",
    "pe_bulk = siderite_bulk_data['pe']/siderite_bulk_data['atoms']"
   ]
  },
  {
   "cell_type": "markdown",
   "metadata": {},
   "source": [
    "# Surfaces/Slabs"
   ]
  },
  {
   "cell_type": "markdown",
   "metadata": {},
   "source": [
    "Past work done with surface 104, 110, 100, 101, 001 and 012. High surface energy on 100 and 101"
   ]
  },
  {
   "cell_type": "code",
   "execution_count": 9,
   "metadata": {},
   "outputs": [],
   "source": [
    "siderite_surfaces = ['104', '110', '100', '101', '001', '012']\n",
    "siderite_surfaces_input = [\"siderite_slab{0}_reaxff_minimize.in\".format(x) for x in siderite_surfaces]\n",
    "siderite_surfaces_commands = [\"mpiexec lmp_mpi -in {0} -screen none\\n\".format(x) for x in siderite_surfaces_input]\n",
    "siderite_surfaces_names = [\"siderite{0}_reaxff_min\".format(x) for x in siderite_surfaces]\n",
    "\n",
    "for s_surface, s_input in zip(siderite_surfaces, siderite_surfaces_input):\n",
    "    sCurrentSurface = surface(siderite, (int(s_surface[0]), int(s_surface[1]), int(s_surface[2])), 24, vacuum=10)\n",
    "    sCurrentSurface = sCurrentSurface.repeat((2, 2, 1))\n",
    "    \n",
    "    sCurrentSurface_calc = LAMMPS(parameters = siderite_slab_reaxff_params,\n",
    "                                  no_data_file=True, always_triclinic=True)\n",
    "    \n",
    "    sCurrentSurface.set_calculator(sCurrentSurface_calc)\n",
    "    sCurrentSurface_calc.atoms = sCurrentSurface.copy()\n",
    "    sCurrentSurface_calc.prism = Prism(sCurrentSurface_calc.atoms.get_cell())\n",
    "    \n",
    "    sCurrentSurface_calc.write_lammps_in(lammps_in = sim_path + \"siderite/\" + s_input)"
   ]
  },
  {
   "cell_type": "code",
   "execution_count": 10,
   "metadata": {},
   "outputs": [
    {
     "data": {
      "text/plain": [
       "{'job_commands': ['mpiexec lmp_mpi -in siderite_slab104_reaxff_minimize.in -screen none\\n',\n",
       "  'mpiexec lmp_mpi -in siderite_slab110_reaxff_minimize.in -screen none\\n',\n",
       "  'mpiexec lmp_mpi -in siderite_slab100_reaxff_minimize.in -screen none\\n',\n",
       "  'mpiexec lmp_mpi -in siderite_slab101_reaxff_minimize.in -screen none\\n',\n",
       "  'mpiexec lmp_mpi -in siderite_slab001_reaxff_minimize.in -screen none\\n',\n",
       "  'mpiexec lmp_mpi -in siderite_slab012_reaxff_minimize.in -screen none\\n'],\n",
       " 'job_names': ['siderite104_reaxff_min',\n",
       "  'siderite110_reaxff_min',\n",
       "  'siderite100_reaxff_min',\n",
       "  'siderite101_reaxff_min',\n",
       "  'siderite001_reaxff_min',\n",
       "  'siderite012_reaxff_min'],\n",
       " 'memory': [4, 4, 4, 4, 4, 4],\n",
       " 'modules': [['mpi', 'lammps', 'intel-suite/2017.6'],\n",
       "  ['mpi', 'lammps', 'intel-suite/2017.6'],\n",
       "  ['mpi', 'lammps', 'intel-suite/2017.6'],\n",
       "  ['mpi', 'lammps', 'intel-suite/2017.6'],\n",
       "  ['mpi', 'lammps', 'intel-suite/2017.6'],\n",
       "  ['mpi', 'lammps', 'intel-suite/2017.6']],\n",
       " 'proc_cpus': [4, 4, 4, 4, 4, 4],\n",
       " 'proc_mpiprocs': [4, 4, 4, 4, 4, 4],\n",
       " 'proc_nodes': [1, 1, 1, 1, 1, 1],\n",
       " 'walltime': ['4:00:00',\n",
       "  '4:00:00',\n",
       "  '4:00:00',\n",
       "  '4:00:00',\n",
       "  '4:00:00',\n",
       "  '4:00:00']}"
      ]
     },
     "execution_count": 10,
     "metadata": {},
     "output_type": "execute_result"
    }
   ],
   "source": [
    "sid_surfaces_PBS = PBS_Submitter(job_names=siderite_surfaces_names,\n",
    "                                 job_commands=siderite_surfaces_commands,\n",
    "                                 modules=[\"mpi\", \"lammps\", \"intel-suite/2017.6\"],\n",
    "                                 walltime=\"4:00:00\",\n",
    "                                 proc_cpus=4,\n",
    "                                 proc_mpiprocs=4,\n",
    "                                 memory=4)\n",
    "sid_surfaces_PBS.params"
   ]
  },
  {
   "cell_type": "code",
   "execution_count": 11,
   "metadata": {},
   "outputs": [
    {
     "name": "stdout",
     "output_type": "stream",
     "text": [
      "Submitted Job: siderite104_reaxff_min\n",
      "b'2123474.cx1\\n' b''\n",
      "Submitted Job: siderite110_reaxff_min\n",
      "b'2123475.cx1\\n' b''\n",
      "Submitted Job: siderite100_reaxff_min\n",
      "b'2123476.cx1\\n' b''\n",
      "Submitted Job: siderite101_reaxff_min\n",
      "b'2123477.cx1\\n' b''\n",
      "Submitted Job: siderite001_reaxff_min\n",
      "b'2123478.cx1\\n' b''\n",
      "Submitted Job: siderite012_reaxff_min\n",
      "b'2123479.cx1\\n' b''\n"
     ]
    }
   ],
   "source": [
    "curr_dir = os.getcwd()\n",
    "os.chdir(sim_path + \"siderite\")\n",
    "\n",
    "sid_surfaces_out, sid_surfaces_err = sid_surfaces_PBS.run()\n",
    "\n",
    "os.chdir(curr_dir)"
   ]
  },
  {
   "cell_type": "code",
   "execution_count": 13,
   "metadata": {},
   "outputs": [
    {
     "name": "stdout",
     "output_type": "stream",
     "text": [
      "mv: target ‘/rds/general/user/yx6015/home/cx1_out/2123477.cx1/’ is not a directory\n"
     ]
    }
   ],
   "source": [
    "# Move all the log and error files over\n",
    "\n",
    "for sid_surface_logfile, sid_surface_job_fd in zip(siderite_surfaces_names, sid_surfaces_out):\n",
    "    !mv {sim_path}siderite/{sid_surface_logfile}* {cx1_out}{sid_surface_job_fd}/"
   ]
  },
  {
   "cell_type": "code",
   "execution_count": 67,
   "metadata": {},
   "outputs": [],
   "source": [
    "sid_surfaces_out_old = ['2121791.cx1',\n",
    "                        '2121792.cx1',\n",
    "                        '2121793.cx1',\n",
    "                        '2121794.cx1',\n",
    "                        '2121795.cx1',\n",
    "                        '2121796.cx1']\n",
    "sid_bulk_out_old = '2122035.cx1'"
   ]
  },
  {
   "cell_type": "code",
   "execution_count": null,
   "metadata": {},
   "outputs": [],
   "source": []
  },
  {
   "cell_type": "code",
   "execution_count": 21,
   "metadata": {},
   "outputs": [],
   "source": [
    "surfaces_pe_peratom = {}\n",
    "surfaces_pe_peratom_sart = {}\n",
    "surfaces_area_peratom ={}\n",
    "siderite_slab_calc = LAMMPS()\n",
    "\n",
    "for s_file, s_surface in zip(sid_surfaces_out, siderite_surfaces):\n",
    "    siderite_slab_calc.read_lammps_log(lammps_log = cx1_out + s_file + '/log.lammps')\n",
    "    siderite_slab_data = siderite_slab_calc.thermo_content[-1]\n",
    "    \n",
    "    surfaces_pe_peratom_sart[s_surface] = siderite_slab_calc.thermo_content[0]['pe']/siderite_slab_calc.thermo_content[0]['atoms']\n",
    "    surfaces_pe_peratom[s_surface] = siderite_slab_data['pe']/siderite_slab_data['atoms']\n",
    "    surfaces_area_peratom[s_surface] = siderite_slab_data['vol']/siderite_slab_data['lz']/siderite_slab_data['atoms']"
   ]
  },
  {
   "cell_type": "code",
   "execution_count": 16,
   "metadata": {},
   "outputs": [],
   "source": [
    "surfaces_pe_peratom['bulk'] =  pe_bulk"
   ]
  },
  {
   "cell_type": "code",
   "execution_count": 23,
   "metadata": {},
   "outputs": [
    {
     "data": {
      "text/plain": [
       "-103.70224444444445"
      ]
     },
     "execution_count": 23,
     "metadata": {},
     "output_type": "execute_result"
    }
   ],
   "source": [
    "siderite_bulk_calc.thermo_content[0]['pe']/siderite_bulk_calc.thermo_content[0]['atoms']"
   ]
  },
  {
   "cell_type": "code",
   "execution_count": 22,
   "metadata": {},
   "outputs": [
    {
     "data": {
      "text/plain": [
       "{'001': -103.69218402777777,\n",
       " '012': -103.47659375,\n",
       " '100': -103.45597916666665,\n",
       " '101': -103.11764236111111,\n",
       " '104': -102.98461111111111,\n",
       " '110': -102.64281597222222}"
      ]
     },
     "execution_count": 22,
     "metadata": {},
     "output_type": "execute_result"
    }
   ],
   "source": [
    "surfaces_pe_peratom_sart"
   ]
  },
  {
   "cell_type": "code",
   "execution_count": 17,
   "metadata": {},
   "outputs": [
    {
     "data": {
      "text/plain": [
       "{'001': -115.87448958333334,\n",
       " '012': -115.98188194444445,\n",
       " '100': -116.0820138888889,\n",
       " '101': -110.17930555555556,\n",
       " '104': -115.1526076388889,\n",
       " '110': -115.31719791666667,\n",
       " 'bulk': -115.89265555555555}"
      ]
     },
     "execution_count": 17,
     "metadata": {},
     "output_type": "execute_result"
    }
   ],
   "source": [
    "surfaces_pe_peratom"
   ]
  },
  {
   "cell_type": "code",
   "execution_count": 18,
   "metadata": {},
   "outputs": [],
   "source": [
    "siderite_SE = {}\n",
    "for s_surface in siderite_surfaces:\n",
    "    siderite_SE_real = (surfaces_pe_peratom[s_surface] - surfaces_pe_peratom['bulk'])/(2*surfaces_area_peratom[s_surface])\n",
    "    siderite_SE[s_surface] = siderite_SE_real * 4184 / units.mol * 10**20"
   ]
  },
  {
   "cell_type": "markdown",
   "metadata": {},
   "source": [
    "- Type II surface: 104, 110\n",
    "- Type III surface: 001 012"
   ]
  },
  {
   "cell_type": "code",
   "execution_count": 20,
   "metadata": {},
   "outputs": [
    {
     "data": {
      "text/plain": [
       "{'001': 0.23549802959231347,\n",
       " '012': -0.2696782791243648,\n",
       " '100': -0.6469547178728434,\n",
       " '101': 18.87549982008606,\n",
       " '104': 1.7400895884736394,\n",
       " '110': 1.1351211021498184}"
      ]
     },
     "execution_count": 20,
     "metadata": {},
     "output_type": "execute_result"
    }
   ],
   "source": [
    "siderite_SE #J/m^2"
   ]
  },
  {
   "cell_type": "code",
   "execution_count": null,
   "metadata": {},
   "outputs": [],
   "source": []
  }
 ],
 "metadata": {
  "kernelspec": {
   "display_name": "Python 3",
   "language": "python",
   "name": "python3"
  },
  "language_info": {
   "codemirror_mode": {
    "name": "ipython",
    "version": 3
   },
   "file_extension": ".py",
   "mimetype": "text/x-python",
   "name": "python",
   "nbconvert_exporter": "python",
   "pygments_lexer": "ipython3",
   "version": "3.6.3"
  }
 },
 "nbformat": 4,
 "nbformat_minor": 2
}
