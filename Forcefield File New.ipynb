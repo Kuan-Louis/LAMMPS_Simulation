{
 "cells": [
  {
   "cell_type": "code",
   "execution_count": 1,
   "metadata": {},
   "outputs": [],
   "source": [
    "import os, sys\n",
    "import reaxff_convert as rc\n",
    "import pandas as pd\n",
    "import numpy as np\n",
    "\n",
    "from reaxFF_data import reaxFF_data, bidict"
   ]
  },
  {
   "cell_type": "markdown",
   "metadata": {},
   "source": [
    "# Automated Parameter Collation"
   ]
  },
  {
   "cell_type": "markdown",
   "metadata": {},
   "source": [
    "The previous attempt was slightly disappointing. The energetics are different, but direct overlapping of parameters are (understably) not suitable. New methods needs to be sought. Dropping CO2 parameters as it seems that it is not very necessary. /ref Goddard, William"
   ]
  },
  {
   "cell_type": "markdown",
   "metadata": {},
   "source": [
    "## Parameters Subsets\n",
    "- Fe/O/Water: ffield.reax.Fe_O_C_H\n",
    "- Water: ffield.reax.O_H\n",
    "- Fe/C/H: ffield.reax.Fe_C_H\n",
    "- CO2: ffield.reax.P_Na_Si_S_N_O_H_C"
   ]
  },
  {
   "cell_type": "code",
   "execution_count": 2,
   "metadata": {},
   "outputs": [],
   "source": [
    "species = ['C', 'H', 'O', 'Fe']\n",
    "potential_fd = os.path.join(os.getcwd(), \"potentials\")\n",
    "\n",
    "water_fd = os.path.join(potential_fd, \"ffield.reax.O_H\")\n",
    "fe_o_water_fd = os.path.join(potential_fd, \"ffield.reax.Fe_O_C_H\")\n",
    "fe_c_h_fd = os.path.join(potential_fd, \"ffield.reax.Fe_C_H\")\n",
    "fe_o_c_fd = os.path.join(potential_fd, \"ffield.reax.Fe_O_C\")"
   ]
  },
  {
   "cell_type": "markdown",
   "metadata": {},
   "source": [
    "## Extracting Relevant Parameters"
   ]
  },
  {
   "cell_type": "code",
   "execution_count": 3,
   "metadata": {},
   "outputs": [],
   "source": [
    "water_data = reaxFF_data(['H', 'O'])\n",
    "water_data.read_lammps(water_fd)\n",
    "water_data.clean_params()\n",
    "\n",
    "fe_o_water_data = reaxFF_data(species)\n",
    "fe_o_water_data.read_lammps(fe_o_water_fd)\n",
    "fe_o_water_data.clean_params()\n",
    "\n",
    "fe_c_h_data = reaxFF_data(['H', 'C', 'Fe'])\n",
    "fe_c_h_data.read_lammps(fe_c_h_fd)\n",
    "fe_c_h_data.clean_params()\n",
    "\n",
    "fe_o_c_data = reaxFF_data(['C', 'O', 'Fe'])\n",
    "fe_o_c_data.read_lammps(fe_o_c_fd)\n",
    "fe_o_c_data.clean_params()"
   ]
  },
  {
   "cell_type": "markdown",
   "metadata": {},
   "source": [
    "## Merging Parameters 2nd Try"
   ]
  },
  {
   "cell_type": "markdown",
   "metadata": {},
   "source": [
    "In order, the sequence to be merged should be:\n",
    "\n",
    "1. fe_o_water_data for the broadest coverage of useful activity\n",
    "    - Is based on original Fe/Fe and O-H bulk water description. Only trained new Fe-O. Tuned with Fe-OH reactions\n",
    "2. fe_c_h_data for the secondary coverage of important fe reactions\n",
    "    - Retained old Fe/Fe and Fe/H data, and retrained various Fe/C data\n",
    "3. water_data for the final good water interactions"
   ]
  },
  {
   "cell_type": "code",
   "execution_count": 4,
   "metadata": {},
   "outputs": [],
   "source": [
    "master_data = reaxFF_data(species)\n",
    "for i,k in master_data.params.items():\n",
    "    k['source'] = float('nan')\n",
    "steps = [master_data.copy()]"
   ]
  },
  {
   "cell_type": "code",
   "execution_count": 5,
   "metadata": {},
   "outputs": [],
   "source": [
    "# First make the new df\n",
    "steps.append(steps[-1].copy())\n",
    "\n",
    "# # Combine data\n",
    "for i, k in steps[-1].params.items():\n",
    "    if i == 'general':\n",
    "        k.update(fe_o_water_data.params[i])\n",
    "        k['source'] = 'fe_o_water'\n",
    "    else:\n",
    "        cur_param_df = fe_o_water_data.params[i][k.columns.difference(['source'])]\n",
    "        changes_df = k.reset_index().merge(cur_param_df.reset_index(),how=\"right\").set_index('symbols')\n",
    "        changes_df['source'] = 'fe_o_water'\n",
    "        k.update(changes_df)"
   ]
  },
  {
   "cell_type": "raw",
   "metadata": {},
   "source": [
    "# First make the new df\n",
    "steps.append(steps[-1].copy())\n",
    "\n",
    "# # Combine data\n",
    "for i, k in steps[-1].params.items():\n",
    "    if i == 'general':\n",
    "        continue\n",
    "    else:\n",
    "        cur_param_df = fe_c_h_data.params[i][k.columns.difference(['source'])]\n",
    "        changes_df = k.reset_index().merge(cur_param_df.reset_index(),how=\"right\").set_index('symbols')\n",
    "        changes_df['source'] = 'fe_c_h'\n",
    "        k.update(changes_df)"
   ]
  },
  {
   "cell_type": "raw",
   "metadata": {},
   "source": [
    "# First make the new df\n",
    "steps.append(steps[-1].copy())\n",
    "\n",
    "# # Combine data\n",
    "for i, k in steps[-1].params.items():\n",
    "    if i == 'general':\n",
    "        continue\n",
    "    else:\n",
    "        cur_param_df = water_data.params[i][k.columns.difference(['source'])]\n",
    "        changes_df = k.reset_index().merge(cur_param_df.reset_index(),how=\"right\").set_index('symbols')\n",
    "        changes_df['source'] = 'water'\n",
    "        k.update(changes_df)"
   ]
  },
  {
   "cell_type": "raw",
   "metadata": {},
   "source": [
    "# Lastly convert the general params to that used by fe_c_h\n",
    "# First make the new df\n",
    "steps.append(steps[-1].copy())\n",
    "\n",
    "# Combine data\n",
    "for i, k in steps[-1].params.items():\n",
    "    if i == 'general':\n",
    "        k.update(fe_c_h_data.params[i])\n",
    "        k['source'] = 'fe_c_h'"
   ]
  },
  {
   "cell_type": "markdown",
   "metadata": {},
   "source": [
    "# Merging Parameters with new Fe/C/O"
   ]
  },
  {
   "cell_type": "code",
   "execution_count": 7,
   "metadata": {},
   "outputs": [],
   "source": [
    "new_steps = [steps[-1].copy()]"
   ]
  },
  {
   "cell_type": "code",
   "execution_count": 38,
   "metadata": {},
   "outputs": [
    {
     "name": "stdout",
     "output_type": "stream",
     "text": [
      "           Edis1 LPpen n.u.1    pbe1 pbo5 13corr pbo6   kov    pbe2  pbo3  \\\n",
      "symbols                                                                     \n",
      "C-Fe     78.6009     0     0  0.8712 -0.3      1   36  0.01  1.1811 -0.35   \n",
      "\n",
      "        pbo4 Etrip    pbo1   pbo2 ovcorr n.u.2  source  \n",
      "symbols                                                 \n",
      "C-Fe      15     1 -0.1666  2.611      1     0  fe_o_c  \n",
      "          Ediss      Ro  gamma  rsigma rpi rpi2   source\n",
      "symbols                                                 \n",
      "C-Fe     0.5077  0.3058  6.291  1.2466  -1    -1  fe_o_c\n",
      "         Theta,o       ka       kb pv1     pv2 kpenal     pv3  source\n",
      "symbols                                                              \n",
      "C-C-Fe     7.031  17.9932   0.4327   0  0.1623      0   0.869  fe_o_c\n",
      "C-O-Fe   99.3914   1.9671  10.5677   0  0.3631      0  0.0002  fe_o_c\n",
      "C-Fe-C    2.3514   1.5811     0.45   0  0.3458      0  2.7984  fe_o_c\n",
      "C-Fe-Fe  55.5054    0.599   3.6398   0  0.9539      0  0.7441  fe_o_c\n",
      "O-C-Fe   30.5955  36.1214        8   0  0.1032      0       1  fe_o_c\n",
      "Fe-C-Fe  17.0269  28.9696   2.9302   0  0.0856      0  1.1201  fe_o_c\n",
      "Empty DataFrame\n",
      "Columns: [V1, V2, V3, V2(BO), vconj, n.u.1, n.u.2, source]\n",
      "Index: []\n"
     ]
    }
   ],
   "source": [
    "# First make the new df\n",
    "new_steps.append(new_steps[-1].copy())\n",
    "\n",
    "# # Combine data\n",
    "for i, k in new_steps[-1].params.items():\n",
    "    if i not in ['bonds', 'off_diagonal', 'angles']:\n",
    "        continue\n",
    "    else:\n",
    "        cur_param_df = fe_o_c_data.params[i][k.columns.difference(['source'])]\n",
    "        cur_param_df = cur_param_df[[('C' in x and 'Fe' in x) for x in cur_param_df.index]]\n",
    "        changes_df = k.reset_index().merge(cur_param_df.reset_index(),how=\"right\").set_index('symbols')\n",
    "        changes_df['source'] = 'fe_o_c'\n",
    "        print(changes_df)\n",
    "        k.update(changes_df)"
   ]
  },
  {
   "cell_type": "markdown",
   "metadata": {},
   "source": [
    "# Try a mix _a la_ hybrid functionals"
   ]
  },
  {
   "cell_type": "markdown",
   "metadata": {},
   "source": [
    "## 50/50 fe_o_water and fe_o_c"
   ]
  },
  {
   "cell_type": "code",
   "execution_count": 6,
   "metadata": {
    "scrolled": false
   },
   "outputs": [
    {
     "name": "stderr",
     "output_type": "stream",
     "text": [
      "D:\\Anaconda3\\lib\\site-packages\\ipykernel_launcher.py:9: FutureWarning: \n",
      "Passing list-likes to .loc or [] with any missing label will raise\n",
      "KeyError in the future, you can use .reindex() as an alternative.\n",
      "\n",
      "See the documentation here:\n",
      "https://pandas.pydata.org/pandas-docs/stable/indexing.html#deprecate-loc-reindex-listlike\n",
      "  if __name__ == '__main__':\n"
     ]
    }
   ],
   "source": [
    " fe_o_water_fe_o_c_5050 = steps[-1].copy()\n",
    "\n",
    "# # Combine data\n",
    "for i, k in fe_o_water_fe_o_c_5050.params.items():\n",
    "    if i == 'general':\n",
    "        continue\n",
    "    else:\n",
    "        new_param_df = fe_o_c_data.params[i][k.columns.difference(['source'])]\n",
    "        changes_df = (k.loc[new_param_df.index] + new_param_df)/2\n",
    "        changes_df['source'] = '0.5fe_o_c0.5fe_o_water'\n",
    "        k.update(changes_df)"
   ]
  },
  {
   "cell_type": "markdown",
   "metadata": {},
   "source": [
    "## 50/50 fe_o_water and fe_o_c with water overwrite"
   ]
  },
  {
   "cell_type": "code",
   "execution_count": 8,
   "metadata": {},
   "outputs": [],
   "source": [
    " fe_o_water_fe_o_c_5050_water = fe_o_water_fe_o_c_5050.copy()\n",
    "\n",
    "# # Combine data\n",
    "for i, k in fe_o_water_fe_o_c_5050_water.params.items():\n",
    "    if i == 'general':\n",
    "        continue\n",
    "    else:\n",
    "        cur_param_df = water_data.params[i][k.columns.difference(['source'])]\n",
    "        changes_df = k.reset_index().merge(cur_param_df.reset_index(),how=\"right\").set_index('symbols')\n",
    "        changes_df['source'] = 'water'\n",
    "        k.update(changes_df)"
   ]
  },
  {
   "cell_type": "markdown",
   "metadata": {},
   "source": [
    "# Writing back to File"
   ]
  },
  {
   "cell_type": "code",
   "execution_count": 32,
   "metadata": {},
   "outputs": [],
   "source": [
    "for i, step in enumerate(steps):\n",
    "    step.clean_params()\n",
    "    step.gen_species2id()\n",
    "    \n",
    "    new_FF = step.write_lammps()\n",
    "    \n",
    "    with open(os.path.join(\"test_potentials\", \"new_potential_step_{}.reax\".format(i)), 'w') as f:\n",
    "        f.write(new_FF)"
   ]
  },
  {
   "cell_type": "code",
   "execution_count": 9,
   "metadata": {},
   "outputs": [],
   "source": [
    "# 5050 potentials\n",
    "for i, j in zip([fe_o_water_fe_o_c_5050_water, fe_o_water_fe_o_c_5050],\n",
    "                ['fe_o_water_fe_o\n",
    "                 _c_5050_water', 'fe_o_water_fe_o_c_5050']):\n",
    "    i.description = j\n",
    "    i.clean_params()\n",
    "    i.gen_species2id()\n",
    "    i_str = i.write_lammps()\n",
    "    \n",
    "    with open(os.path.join(\"5050_potentials\", j+\".reax\"), 'w') as f:\n",
    "        f.write(i_str)"
   ]
  },
  {
   "cell_type": "code",
   "execution_count": 33,
   "metadata": {},
   "outputs": [],
   "source": [
    "import datetime\n",
    "currentDT = datetime.datetime.now()\n",
    "\n",
    "fe_o_water_and_fe_o_c = new_steps[-1].copy()\n",
    "fe_o_water_and_fe_o_c.description = \"Combined fe_o_water_and_fe_o_c \" + str(currentDT)\n",
    "fe_o_water_and_fe_o_c.clean_params()\n",
    "fe_o_water_and_fe_o_c.gen_species2id()\n",
    "fe_o_water_and_fe_o_c_str = fe_o_water_and_fe_o_c.write_lammps()\n",
    "\n",
    "with open(os.path.join(\"fe_o_c_potentials\", \"bonds_od_angles_c_fe.reax\"), 'w') as f:\n",
    "    f.write(fe_o_water_and_fe_o_c_str)"
   ]
  },
  {
   "cell_type": "code",
   "execution_count": 8,
   "metadata": {},
   "outputs": [],
   "source": [
    "fe_o_water_and_fe_c_h = new_steps[-1].copy()\n",
    "fe_o_water_and_fe_c_h.description = \"Combined fe_o_water_and_fe_c_h\"\n",
    "fe_o_water_and_fe_c_h.clean_params()\n",
    "fe_o_water_and_fe_c_h.gen_species2id()\n",
    "fe_o_water_and_fe_c_h_str = fe_o_water_and_fe_c_h.write_lammps()\n",
    "\n",
    "with open(os.path.join(\"test_potentials\", \"fe_o_water_and_fe_c_h.reax\"), 'w') as f:\n",
    "    f.write(fe_o_water_and_fe_c_h_str)"
   ]
  },
  {
   "cell_type": "code",
   "execution_count": null,
   "metadata": {},
   "outputs": [],
   "source": [
    "new_FF_name = ['water', 'fe_o_water', 'fe_c_h', 'fe_o_c']\n",
    "old_FF = [water_data, fe_o_water_data, fe_c_h_data, fe_o_c_data]\n",
    "\n",
    "for FF_data, FF_name in zip(old_FF, old_FF_name): \n",
    "    outstr = FF_data.write_lammps()\n",
    "    \n",
    "    with open(os.path.join(\"test_potentials\", \"{}.reax\".format(FF_name)), 'w') as f:\n",
    "        f.write(outstr)"
   ]
  },
  {
   "cell_type": "code",
   "execution_count": 4,
   "metadata": {},
   "outputs": [],
   "source": [
    "old_FF_name = ['water', 'fe_o_water', 'fe_c_h', 'fe_o_c']\n",
    "old_FF = [water_data, fe_o_water_data, fe_c_h_data, fe_o_c_data]\n",
    "\n",
    "for FF_data, FF_name in zip(old_FF, old_FF_name): \n",
    "    outstr = FF_data.write_lammps()\n",
    "    \n",
    "    with open(os.path.join(\"test_potentials\", \"{}.reax\".format(FF_name)), 'w') as f:\n",
    "        f.write(outstr)"
   ]
  }
 ],
 "metadata": {
  "kernelspec": {
   "display_name": "Python 3",
   "language": "python",
   "name": "python3"
  },
  "language_info": {
   "codemirror_mode": {
    "name": "ipython",
    "version": 3
   },
   "file_extension": ".py",
   "mimetype": "text/x-python",
   "name": "python",
   "nbconvert_exporter": "python",
   "pygments_lexer": "ipython3",
   "version": "3.7.2"
  }
 },
 "nbformat": 4,
 "nbformat_minor": 2
}
