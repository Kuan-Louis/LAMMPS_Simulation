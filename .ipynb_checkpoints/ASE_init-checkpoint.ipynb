{
 "cells": [
  {
   "cell_type": "code",
   "execution_count": 1,
   "metadata": {},
   "outputs": [
    {
     "name": "stdout",
     "output_type": "stream",
     "text": [
      "Populating the interactive namespace from numpy and matplotlib\n"
     ]
    }
   ],
   "source": [
    "%pylab inline\n",
    "from ase.spacegroup import crystal\n",
    "from ase.lattice.cubic import BodyCenteredCubic\n",
    "from ase.visualize import view\n",
    "from ase.calculators.lammpsrun import LAMMPS, Prism\n",
    "from ase.io import write\n",
    "from ase.build import *"
   ]
  },
  {
   "cell_type": "code",
   "execution_count": 2,
   "metadata": {},
   "outputs": [],
   "source": [
    "Fe_bulk = bulk('Fe', 'bcc', a=3.5, cubic = True) * 10\n",
    "#BodyCenteredCubic(directions=[[1,0,0], [0,1,0], [0,0,1]], size=(2,2,3), symbol='Fe', pbc=(1,1,1), latticeconstant=2.9)"
   ]
  },
  {
   "cell_type": "code",
   "execution_count": 3,
   "metadata": {},
   "outputs": [],
   "source": [
    "# Supported parameters by lammpsrun:\n",
    "# pair_style, pair_coeff\n",
    "# package\n",
    "# boundary\n",
    "# neighbour\n",
    "# newton\n",
    "# mass\n",
    "# group\n",
    "# fix\n",
    "# timestep\n",
    "# minimize, run\n",
    "\n",
    "lammps_params = {\n",
    "    \"run\": \"5000\",\n",
    "    \"pair_style\": \"reax/c NULL\",\n",
    "    \"pair_coeff\": ['* * ' + '../reax_FeOH3/ffield.reax.Fe_O_C_H' + ' Fe'],\n",
    "    \"fix\": [\"1 all nve\", \"2 all qeq/reax 1 0.0 10.0 1e-6 reax/c\"],\n",
    "    \"mass\": [\"1 55.845\"],\n",
    "    \"timestep\": \"0.1\"\n",
    "}"
   ]
  },
  {
   "cell_type": "code",
   "execution_count": 4,
   "metadata": {},
   "outputs": [],
   "source": [
    "calc = LAMMPS(tmp_dir=\"D:\\\\Yiming\\\\Desktop\\\\LAMMPS-TEST\\\\lammps_temp\", \n",
    "              parameters = lammps_params,\n",
    "              keep_tmp_files=True, no_data_file=True)\n",
    "Fe_bulk.set_calculator(calc)\n",
    "calc.atoms = Fe_bulk.copy()\n",
    "calc.no_data_file = True\n",
    "calc.prism = Prism(calc.atoms.get_cell())"
   ]
  },
  {
   "cell_type": "code",
   "execution_count": 5,
   "metadata": {},
   "outputs": [],
   "source": [
    "calc.write_lammps_in(lammps_in = \"D:\\\\Yiming\\\\Desktop\\\\LAMMPS-TEST\\\\lammps_temp\\\\test.in\",\n",
    "                     lammps_trj = \"D:\\\\Yiming\\\\Desktop\\\\LAMMPS-TEST\\\\lammps_temp\\\\test.lammpstraj\")"
   ]
  },
  {
   "cell_type": "code",
   "execution_count": null,
   "metadata": {},
   "outputs": [],
   "source": []
  }
 ],
 "metadata": {
  "kernelspec": {
   "display_name": "Python 3",
   "language": "python",
   "name": "python3"
  },
  "language_info": {
   "codemirror_mode": {
    "name": "ipython",
    "version": 3
   },
   "file_extension": ".py",
   "mimetype": "text/x-python",
   "name": "python",
   "nbconvert_exporter": "python",
   "pygments_lexer": "ipython3",
   "version": "3.6.6"
  }
 },
 "nbformat": 4,
 "nbformat_minor": 2
}
