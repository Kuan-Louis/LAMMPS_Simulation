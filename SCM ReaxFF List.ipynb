{
 "cells": [
  {
   "cell_type": "code",
   "execution_count": 71,
   "metadata": {},
   "outputs": [
    {
     "name": "stdout",
     "output_type": "stream",
     "text": [
      "Populating the interactive namespace from numpy and matplotlib\n"
     ]
    }
   ],
   "source": [
    "%pylab inline\n",
    "from bs4 import BeautifulSoup\n",
    "import requests\n",
    "import csv\n",
    "import time\n",
    "import pandas as pd\n",
    "import re"
   ]
  },
  {
   "cell_type": "code",
   "execution_count": 10,
   "metadata": {},
   "outputs": [],
   "source": [
    "url = \"www.scm.com/doc/ReaxFF/Included_Forcefields_Trunk.html\"\n",
    "page = requests.get(\"http://\" +url)\n",
    "soup = BeautifulSoup(page.text, 'html.parser')"
   ]
  },
  {
   "cell_type": "code",
   "execution_count": 19,
   "metadata": {},
   "outputs": [],
   "source": [
    "models = soup.find(\"dl\", class_ = \"docutils\")\n",
    "all_models = models.text"
   ]
  },
  {
   "cell_type": "code",
   "execution_count": 132,
   "metadata": {},
   "outputs": [],
   "source": [
    "def models_tokenizer(text):\n",
    "    models_df = pd.DataFrame(columns = [\"File\", \"Atoms\", \"Molecule\", \"Branch\", \"Description\"])\n",
    "    models_list = all_models.split(\"\\n\\n\\n\")\n",
    "    for model in models_list:\n",
    "        model_content = [x for x in model.splitlines() if x != '']\n",
    "        \n",
    "        # first line of the description\n",
    "        model_header = model_content[0].split()\n",
    "        file = model_header[0][:-1]\n",
    "        atoms = ','.join([x for x in re.split(\"\\/|\\(|\\)\", model_header[1]) if x != ''])\n",
    "        molecule = ' '.join(model_header[2:])\n",
    "        \n",
    "        # second line refers to the actual paper\n",
    "        paper = model_content[1]\n",
    "        \n",
    "        # last line refers to the branch, but it doe snot always exist\n",
    "        if \"Branch\" in model_content[-1]:\n",
    "            desc = ' '.join(model_content[2:-1])\n",
    "            branch = model_content[-1].split()[-1][:-1]\n",
    "        else:\n",
    "            desc = ' '.join(model_content[2:])\n",
    "            branch = ''\n",
    "        \n",
    "        # creating a series from pandas and then concatenating\n",
    "\n",
    "        \n",
    "        model_series = pd.Series({\"File\":file, \"Atoms\":atoms, \"Molecule\":molecule, \"Branch\":branch, \"Description\": desc})\n",
    "        models_df = models_df.append(model_series, ignore_index = True)\n",
    "    \n",
    "    return models_df"
   ]
  },
  {
   "cell_type": "code",
   "execution_count": 153,
   "metadata": {},
   "outputs": [],
   "source": [
    "def find_file(atoms_to_find, df):\n",
    "    # e.g. atoms_to_find = \"C O H\"\n",
    "    atoms = atoms_to_find.split()\n",
    "    atoms_index = [False] * len(df)\n",
    "    for i in range(len(df)):\n",
    "        for atom in atoms:\n",
    "            if atom in df.Atoms[i]:\n",
    "                atoms_index[i] = True\n",
    "    return atoms_index"
   ]
  },
  {
   "cell_type": "code",
   "execution_count": 134,
   "metadata": {
    "scrolled": false
   },
   "outputs": [
    {
     "data": {
      "text/html": [
       "<div>\n",
       "<style scoped>\n",
       "    .dataframe tbody tr th:only-of-type {\n",
       "        vertical-align: middle;\n",
       "    }\n",
       "\n",
       "    .dataframe tbody tr th {\n",
       "        vertical-align: top;\n",
       "    }\n",
       "\n",
       "    .dataframe thead th {\n",
       "        text-align: right;\n",
       "    }\n",
       "</style>\n",
       "<table border=\"1\" class=\"dataframe\">\n",
       "  <thead>\n",
       "    <tr style=\"text-align: right;\">\n",
       "      <th></th>\n",
       "      <th>File</th>\n",
       "      <th>Atoms</th>\n",
       "      <th>Molecule</th>\n",
       "      <th>Branch</th>\n",
       "      <th>Description</th>\n",
       "    </tr>\n",
       "  </thead>\n",
       "  <tbody>\n",
       "    <tr>\n",
       "      <th>0</th>\n",
       "      <td>AB.ff</td>\n",
       "      <td>H,O,N,B</td>\n",
       "      <td>Ammonia Borane</td>\n",
       "      <td>combustion</td>\n",
       "      <td>QM data were generated describing the single a...</td>\n",
       "    </tr>\n",
       "    <tr>\n",
       "      <th>1</th>\n",
       "      <td>AuCSOH.ff</td>\n",
       "      <td>Au,C,S,O,H</td>\n",
       "      <td></td>\n",
       "      <td>water</td>\n",
       "      <td>The original Au-Au parameters were extended by...</td>\n",
       "    </tr>\n",
       "    <tr>\n",
       "      <th>2</th>\n",
       "      <td>CHO.ff</td>\n",
       "      <td>C,H,O</td>\n",
       "      <td>Hydrocarbon oxidation</td>\n",
       "      <td>combustion</td>\n",
       "      <td>To obtain the H/C/O compound data required to ...</td>\n",
       "    </tr>\n",
       "    <tr>\n",
       "      <th>3</th>\n",
       "      <td>HCONSB.ff</td>\n",
       "      <td>H,C,O,N,S,B</td>\n",
       "      <td></td>\n",
       "      <td>combustion</td>\n",
       "      <td>The parameters in this forcefield were extende...</td>\n",
       "    </tr>\n",
       "    <tr>\n",
       "      <th>4</th>\n",
       "      <td>CuCl-H2O.ff</td>\n",
       "      <td>Cu,Cl,H,O</td>\n",
       "      <td></td>\n",
       "      <td>water</td>\n",
       "      <td>This forcefield is an extension of: A.C.T. van...</td>\n",
       "    </tr>\n",
       "  </tbody>\n",
       "</table>\n",
       "</div>"
      ],
      "text/plain": [
       "          File        Atoms               Molecule      Branch  \\\n",
       "0        AB.ff      H,O,N,B         Ammonia Borane  combustion   \n",
       "1    AuCSOH.ff   Au,C,S,O,H                              water   \n",
       "2       CHO.ff        C,H,O  Hydrocarbon oxidation  combustion   \n",
       "3    HCONSB.ff  H,C,O,N,S,B                         combustion   \n",
       "4  CuCl-H2O.ff    Cu,Cl,H,O                              water   \n",
       "\n",
       "                                         Description  \n",
       "0  QM data were generated describing the single a...  \n",
       "1  The original Au-Au parameters were extended by...  \n",
       "2  To obtain the H/C/O compound data required to ...  \n",
       "3  The parameters in this forcefield were extende...  \n",
       "4  This forcefield is an extension of: A.C.T. van...  "
      ]
     },
     "execution_count": 134,
     "metadata": {},
     "output_type": "execute_result"
    }
   ],
   "source": [
    "modelsDF = models_tokenizer(all_models)\n",
    "modelsDF.head()"
   ]
  },
  {
   "cell_type": "code",
   "execution_count": 157,
   "metadata": {},
   "outputs": [
    {
     "data": {
      "text/html": [
       "<div>\n",
       "<style scoped>\n",
       "    .dataframe tbody tr th:only-of-type {\n",
       "        vertical-align: middle;\n",
       "    }\n",
       "\n",
       "    .dataframe tbody tr th {\n",
       "        vertical-align: top;\n",
       "    }\n",
       "\n",
       "    .dataframe thead th {\n",
       "        text-align: right;\n",
       "    }\n",
       "</style>\n",
       "<table border=\"1\" class=\"dataframe\">\n",
       "  <thead>\n",
       "    <tr style=\"text-align: right;\">\n",
       "      <th></th>\n",
       "      <th>File</th>\n",
       "      <th>Atoms</th>\n",
       "      <th>Molecule</th>\n",
       "      <th>Branch</th>\n",
       "      <th>Description</th>\n",
       "    </tr>\n",
       "  </thead>\n",
       "  <tbody>\n",
       "    <tr>\n",
       "      <th>5</th>\n",
       "      <td>FeOCHCl.ff</td>\n",
       "      <td>Fe,O,C,H,Cl</td>\n",
       "      <td></td>\n",
       "      <td>water</td>\n",
       "      <td>The Cl parameters where published by: O. Raham...</td>\n",
       "    </tr>\n",
       "    <tr>\n",
       "      <th>15</th>\n",
       "      <td>CaSiAlO.ff</td>\n",
       "      <td>C,H,O,Fe,Cl,Si,Al,Ca</td>\n",
       "      <td></td>\n",
       "      <td>water</td>\n",
       "      <td></td>\n",
       "    </tr>\n",
       "    <tr>\n",
       "      <th>17</th>\n",
       "      <td>CHOFeAlNiCuS.ff</td>\n",
       "      <td>C,H,O,Fe,Al,Ni,Cu,S</td>\n",
       "      <td></td>\n",
       "      <td>water</td>\n",
       "      <td>C/O/H parameters only. The Cu/Fe/Al/Ni paramet...</td>\n",
       "    </tr>\n",
       "    <tr>\n",
       "      <th>27</th>\n",
       "      <td>CHOFe.ff</td>\n",
       "      <td>C,H,O,Fe,Cl,Si,Al</td>\n",
       "      <td></td>\n",
       "      <td>water</td>\n",
       "      <td>only the parameters for Fe (and crossterms) di...</td>\n",
       "    </tr>\n",
       "    <tr>\n",
       "      <th>28</th>\n",
       "      <td>CHOAlSi.ff</td>\n",
       "      <td>C,H,O,Fe,Cl,Si,Al</td>\n",
       "      <td></td>\n",
       "      <td>water</td>\n",
       "      <td>only the parameters for Fe (and crossterms) di...</td>\n",
       "    </tr>\n",
       "    <tr>\n",
       "      <th>50</th>\n",
       "      <td>CHOFeAlNiCuSCr.ff</td>\n",
       "      <td>C,H,O,Fe,Al,Ni,Cu,S,Cr</td>\n",
       "      <td></td>\n",
       "      <td>water</td>\n",
       "      <td>Forcefield optimized for Fe/Cr/O/S</td>\n",
       "    </tr>\n",
       "    <tr>\n",
       "      <th>51</th>\n",
       "      <td>CHOFeAlNiCuSCr_v2.ff</td>\n",
       "      <td>C,H,O,Fe,Al,Ni,Cu,S,Cr</td>\n",
       "      <td>Ni-O-vacancy</td>\n",
       "      <td>water</td>\n",
       "      <td>Forcefield optimized for Ni/O, trained with a ...</td>\n",
       "    </tr>\n",
       "    <tr>\n",
       "      <th>52</th>\n",
       "      <td>CHOFeAlNiCuSCr_v3.ff</td>\n",
       "      <td>C,H,O,Fe,Al,Ni,Cu,S,Cr</td>\n",
       "      <td></td>\n",
       "      <td>water</td>\n",
       "      <td>Combination of the C.ff (condensed carbon) for...</td>\n",
       "    </tr>\n",
       "    <tr>\n",
       "      <th>70</th>\n",
       "      <td>CHOFeAlNiCuSCrSiGe.ff</td>\n",
       "      <td>C,H,O,Fe,Al,Ni,Cu,S,Cr,Si,Ge</td>\n",
       "      <td></td>\n",
       "      <td></td>\n",
       "      <td>Used for studying the ALD process of Al2O3 fro...</td>\n",
       "    </tr>\n",
       "  </tbody>\n",
       "</table>\n",
       "</div>"
      ],
      "text/plain": [
       "                     File                         Atoms      Molecule Branch  \\\n",
       "5              FeOCHCl.ff                   Fe,O,C,H,Cl                water   \n",
       "15             CaSiAlO.ff          C,H,O,Fe,Cl,Si,Al,Ca                water   \n",
       "17        CHOFeAlNiCuS.ff           C,H,O,Fe,Al,Ni,Cu,S                water   \n",
       "27               CHOFe.ff             C,H,O,Fe,Cl,Si,Al                water   \n",
       "28             CHOAlSi.ff             C,H,O,Fe,Cl,Si,Al                water   \n",
       "50      CHOFeAlNiCuSCr.ff        C,H,O,Fe,Al,Ni,Cu,S,Cr                water   \n",
       "51   CHOFeAlNiCuSCr_v2.ff        C,H,O,Fe,Al,Ni,Cu,S,Cr  Ni-O-vacancy  water   \n",
       "52   CHOFeAlNiCuSCr_v3.ff        C,H,O,Fe,Al,Ni,Cu,S,Cr                water   \n",
       "70  CHOFeAlNiCuSCrSiGe.ff  C,H,O,Fe,Al,Ni,Cu,S,Cr,Si,Ge                        \n",
       "\n",
       "                                          Description  \n",
       "5   The Cl parameters where published by: O. Raham...  \n",
       "15                                                     \n",
       "17  C/O/H parameters only. The Cu/Fe/Al/Ni paramet...  \n",
       "27  only the parameters for Fe (and crossterms) di...  \n",
       "28  only the parameters for Fe (and crossterms) di...  \n",
       "50                 Forcefield optimized for Fe/Cr/O/S  \n",
       "51  Forcefield optimized for Ni/O, trained with a ...  \n",
       "52  Combination of the C.ff (condensed carbon) for...  \n",
       "70  Used for studying the ALD process of Al2O3 fro...  "
      ]
     },
     "execution_count": 157,
     "metadata": {},
     "output_type": "execute_result"
    }
   ],
   "source": [
    "modelsDF[find_file('Fe', modelsDF)]"
   ]
  },
  {
   "cell_type": "code",
   "execution_count": 165,
   "metadata": {},
   "outputs": [
    {
     "data": {
      "text/plain": [
       "'C/O/H parameters only. The Cu/Fe/Al/Ni parameters are from: Y.K. Shin, H. Kwak, C. Zou, A.V. Vasenkov, and A.C.T. van Duin Development and Validation of a ReaxFF Reactive Force Field for Fe/Al/Ni Alloys: Molecular Dynamics Study of Elastic Constants, Diffusion, and Segregation J. Phys. Chem. A, 2012, 116 (49), pp 12163–12174 http://dx.doi.org/10.1021/jp308507x Not all cross-terms between the two forcefield files are defined, which might cause problems if the system has (for example) C-Cu interactions.'"
      ]
     },
     "execution_count": 165,
     "metadata": {},
     "output_type": "execute_result"
    }
   ],
   "source": [
    "modelsDF.iloc[17].Description"
   ]
  },
  {
   "cell_type": "code",
   "execution_count": null,
   "metadata": {},
   "outputs": [],
   "source": []
  }
 ],
 "metadata": {
  "kernelspec": {
   "display_name": "Python 3",
   "language": "python",
   "name": "python3"
  },
  "language_info": {
   "codemirror_mode": {
    "name": "ipython",
    "version": 3
   },
   "file_extension": ".py",
   "mimetype": "text/x-python",
   "name": "python",
   "nbconvert_exporter": "python",
   "pygments_lexer": "ipython3",
   "version": "3.6.6"
  }
 },
 "nbformat": 4,
 "nbformat_minor": 2
}
