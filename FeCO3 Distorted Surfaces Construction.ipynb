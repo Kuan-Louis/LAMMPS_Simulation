{
 "cells": [
  {
   "cell_type": "code",
   "execution_count": 1,
   "metadata": {},
   "outputs": [],
   "source": [
    "%matplotlib inline\n",
    "import numpy as np\n",
    "import matplotlib as mpl\n",
    "import matplotlib.pyplot as plt\n",
    "\n",
    "import sys, os\n",
    "\n",
    "from lammpsrun import LAMMPS, Prism\n",
    "\n",
    "from ase import Atoms, units\n",
    "from ase.visualize import view\n",
    "from ase.io.trajectory import Trajectory\n",
    "from ase.io import write, read\n",
    "from ase.neighborlist import neighbor_list\n",
    "from ase.build import surface\n",
    "from ase.spacegroup import crystal\n",
    "from ase.geometry import *\n",
    "\n",
    "from pymatgen.core.surface import *\n",
    "from pymatgen.io.ase import AseAtomsAdaptor as AAA\n",
    "\n",
    "hpc_path = \"G:\\\\home\\\\LAMMPS_Simulation\\\\HPC_Jupyter\\\\\"\n",
    "\n",
    "# for running on Linux\n",
    "# hpc_path = \"/local/yiming/Desktop/yx6015/home/LAMMPS_Simulation/HPC_Jupyter/\"\n",
    "\n",
    "# print(homepath + '\\n' + hpc_path)"
   ]
  },
  {
   "cell_type": "markdown",
   "metadata": {},
   "source": [
    "Crystallographic data is obtained from https://materials.springer.com/isp/crystallographic/docs/sd_1628167"
   ]
  },
  {
   "cell_type": "markdown",
   "metadata": {},
   "source": [
    "# Bulk siderite crystal"
   ]
  },
  {
   "cell_type": "code",
   "execution_count": 15,
   "metadata": {},
   "outputs": [],
   "source": [
    "distorted_siderite_raw = AAA.get_structure(read('fe_o_water_fe_o_c_full.extxyz'))"
   ]
  },
  {
   "cell_type": "code",
   "execution_count": 16,
   "metadata": {},
   "outputs": [],
   "source": [
    "from pymatgen.symmetry.analyzer import SpacegroupAnalyzer"
   ]
  },
  {
   "cell_type": "code",
   "execution_count": 17,
   "metadata": {},
   "outputs": [],
   "source": [
    "sg = SpacegroupAnalyzer(distorted_siderite_raw, symprec = 0.1)\n",
    "distorted_siderite = sg.get_conventional_standard_structure()"
   ]
  },
  {
   "cell_type": "code",
   "execution_count": 18,
   "metadata": {},
   "outputs": [],
   "source": [
    "sg = SpacegroupAnalyzer(distorted_siderite_raw, symprec = 0.01)\n",
    "very_distorted_siderite = sg.get_conventional_standard_structure()"
   ]
  },
  {
   "cell_type": "code",
   "execution_count": 25,
   "metadata": {},
   "outputs": [
    {
     "data": {
      "text/plain": [
       "(('R-3c', 167), ('P1', 1))"
      ]
     },
     "execution_count": 25,
     "metadata": {},
     "output_type": "execute_result"
    }
   ],
   "source": [
    "distorted_siderite.get_space_group_info(), very_distorted_siderite.get_space_group_info()"
   ]
  },
  {
   "cell_type": "markdown",
   "metadata": {},
   "source": [
    "# Surfaces/Slabs"
   ]
  },
  {
   "cell_type": "markdown",
   "metadata": {},
   "source": [
    "pymatgen referenc: https://matgenb.materialsvirtuallab.org/2017/04/03/Slab-generation-and-Wulff-shape.html"
   ]
  },
  {
   "cell_type": "code",
   "execution_count": 26,
   "metadata": {},
   "outputs": [],
   "source": [
    "def find_top_site(sites_list, atomstring):\n",
    "    c_indices = []\n",
    "    c_coord_z = []\n",
    "\n",
    "    for i, site in enumerate(sites_list):\n",
    "        if site.species_string == atomstring:\n",
    "            c_indices.append(i)\n",
    "            c_coord_z.append(site.z)\n",
    "\n",
    "        # Ensuring sequence is sorted\n",
    "        c_indices_z = sorted(zip(c_coord_z, c_indices))\n",
    "        \n",
    "    index_to_remove = c_indices_z[-1][1]\n",
    "    \n",
    "    return index_to_remove"
   ]
  },
  {
   "cell_type": "raw",
   "metadata": {},
   "source": [
    "def get_ase_slab(pmg_struct, hkl=(1, 1, 1), min_thick=10, min_vac=10, symmetrize=False):\n",
    "    # Modified from http://henniggroup.github.io/MPInterfaces/_modules/mpinterfaces/utils.html\n",
    "    \n",
    "    from pymatgen.io.ase import AseAtomsAdaptor\n",
    "    \"\"\"\n",
    "    takes in the intial structure as pymatgen Structure object\n",
    "    uses ase to generate the slab\n",
    "    returns pymatgen Slab object\n",
    "\n",
    "    Args:\n",
    "        pmg_struct: pymatgen structure object\n",
    "        hkl: hkl index of surface of slab to be created\n",
    "        min_thick: minimum thickness of slab in Angstroms\n",
    "        min_vac: minimum vacuum spacing\n",
    "    \"\"\"\n",
    "    ase_atoms = AseAtomsAdaptor().get_atoms(pmg_struct)\n",
    "    pmg_slab_gen = SlabGenerator(pmg_struct, hkl, min_thick, min_vac)\n",
    "    h = pmg_slab_gen._proj_height\n",
    "    nlayers = int(math.ceil(pmg_slab_gen.min_slab_size / h))\n",
    "    ase_slab = surface(ase_atoms, hkl, nlayers)\n",
    "    ase_slab.center(vacuum=min_vac / 2, axis=2)\n",
    "    pmg_slab_structure = AseAtomsAdaptor().get_structure(ase_slab)\n",
    "    \n",
    "    final_slab = Slab(lattice=pmg_slab_structure.lattice,\n",
    "                      species=pmg_slab_structure.species_and_occu,\n",
    "                      coords=pmg_slab_structure.frac_coords,\n",
    "                      site_properties=pmg_slab_structure.site_properties,\n",
    "                      miller_index=hkl, oriented_unit_cell=pmg_slab_structure,\n",
    "                      shift=0., scale_factor=None, energy=None)\n",
    "    if symmetrize:\n",
    "        final_slab = pmg_slab_gen.nonstoichiometric_symmetrized_slab(final_slab)\n",
    "    return final_slab"
   ]
  },
  {
   "cell_type": "code",
   "execution_count": 37,
   "metadata": {},
   "outputs": [],
   "source": [
    "def gen_surfaces(layers):\n",
    "    print(\"Layers:\", layers)\n",
    "    for key in siderite_surface.keys():\n",
    "        miller_index = [int(x) for x in key]\n",
    "\n",
    "        slabgen = SlabGenerator(siderite, miller_index,\n",
    "                                min_slab_size=layers,\n",
    "                                min_vacuum_size=10,\n",
    "                                center_slab=True,\n",
    "                                in_unit_planes=True)\n",
    "\n",
    "        slab_list = slabgen.get_slabs(bonds={(\"C\", \"O\"): 1.5},\n",
    "                                      symmetrize=True)\n",
    "\n",
    "        siderite_surface[key] = [x for x in slab_list if abs(x.charge) <= 4]\n",
    "\n",
    "    surface_110_NS = siderite_surface['110'][2].copy()\n",
    "    surface_110_NS.symmetrically_remove_atoms([find_top_site(surface_110_NS.sites, 'C4+')])\n",
    "    surface_012_NS = siderite_surface['012'][2].copy()\n",
    "    surface_012_NS.symmetrically_remove_atoms([find_top_site(surface_012_NS.sites, 'O2-')])\n",
    "    surface_012_S = siderite_surface['012'][0].copy()\n",
    "    surface_012_S_top_C = find_top_site(surface_012_S.sites, 'C4+')\n",
    "    surface_012_S_top_O3 = surface_012_S.get_neighbors(surface_012_S.sites[surface_012_S_top_C],1.5, include_index=True)\n",
    "    surface_012_S_top_CO3 = [surface_012_S_top_C] + [x[2] for x in surface_012_S_top_O3]\n",
    "    surface_012_S.symmetrically_remove_atoms(surface_012_S_top_CO3)\n",
    "\n",
    "    siderite_surface_kept = {}\n",
    "    siderite_surface_kept['104_S'] = siderite_surface['104'][0].copy()\n",
    "    siderite_surface_kept['110_S'] = siderite_surface['110'][1].copy()\n",
    "    siderite_surface_kept['110_NS'] = surface_110_NS\n",
    "    siderite_surface_kept['110_NS'] = siderite_surface['110'][0].copy()\n",
    "    siderite_surface_kept['101_NS0'] = siderite_surface['101'][0].copy()\n",
    "    siderite_surface_kept['101_NS1'] = siderite_surface['101'][1].copy()\n",
    "    siderite_surface_kept['001_NS'] = siderite_surface['001'][0].copy()\n",
    "    siderite_surface_kept['012_S'] = surface_012_S\n",
    "    siderite_surface_kept['012_NS'] = surface_012_NS\n",
    "    siderite_surface_kept['100_S'] = siderite_surface['100'][0].copy()\n",
    "\n",
    "    directory_path = os.path.join(hpc_path, \"siderite\", \"very_distorted_surfaces\")\n",
    "    for surface, slab in siderite_surface_kept.items():\n",
    "        slab_ase = AAA.get_atoms(slab)\n",
    "        layer_info, layer_distances = get_layers(slab_ase, (0,0,1), tolerance=0.1)\n",
    "        nlayers = max(layer_info)\n",
    "\n",
    "#         print(\"Surface:\", surface, \"\\tLayers:\", nlayers)\n",
    "        file_path = os.path.join(directory_path, \"surface{0}_L{1}.extxyz\".format(surface, nlayers))\n",
    "        slab_ase.write(file_path, format='extxyz')\n",
    "    return siderite_surface_kept"
   ]
  },
  {
   "cell_type": "markdown",
   "metadata": {},
   "source": [
    "Past work done with surface 104, 110, 100, 101, 001 and 012. High surface energy on 100 and 101"
   ]
  },
  {
   "cell_type": "markdown",
   "metadata": {},
   "source": [
    "From bulk optimization we have new cell parameters."
   ]
  },
  {
   "cell_type": "code",
   "execution_count": 38,
   "metadata": {},
   "outputs": [],
   "source": [
    "siderite = very_distorted_siderite.copy()\n",
    "siderite.add_oxidation_state_by_element({\"Fe\": 2, \"C\": 4, \"O\": -2})"
   ]
  },
  {
   "cell_type": "code",
   "execution_count": 39,
   "metadata": {},
   "outputs": [],
   "source": [
    "siderite_surfaces_miller_indices = ['104', '110', '100', '101', '001', '012']\n",
    "siderite_surface = dict.fromkeys(siderite_surfaces_miller_indices)"
   ]
  },
  {
   "cell_type": "code",
   "execution_count": 41,
   "metadata": {},
   "outputs": [
    {
     "name": "stdout",
     "output_type": "stream",
     "text": [
      "8\n",
      "Layers: 8\n"
     ]
    },
    {
     "ename": "KeyboardInterrupt",
     "evalue": "",
     "output_type": "error",
     "traceback": [
      "\u001b[1;31m---------------------------------------------------------------------------\u001b[0m",
      "\u001b[1;31mKeyboardInterrupt\u001b[0m                         Traceback (most recent call last)",
      "\u001b[1;32m<ipython-input-41-36c9a17ea28b>\u001b[0m in \u001b[0;36m<module>\u001b[1;34m\u001b[0m\n\u001b[0;32m      3\u001b[0m \u001b[1;32mfor\u001b[0m \u001b[0mi\u001b[0m \u001b[1;32min\u001b[0m \u001b[0mlist_of_layers\u001b[0m\u001b[1;33m:\u001b[0m\u001b[1;33m\u001b[0m\u001b[1;33m\u001b[0m\u001b[0m\n\u001b[0;32m      4\u001b[0m     \u001b[0mprint\u001b[0m\u001b[1;33m(\u001b[0m\u001b[0mi\u001b[0m\u001b[1;33m)\u001b[0m\u001b[1;33m\u001b[0m\u001b[1;33m\u001b[0m\u001b[0m\n\u001b[1;32m----> 5\u001b[1;33m     \u001b[0mkept_surfaces\u001b[0m\u001b[1;33m.\u001b[0m\u001b[0mappend\u001b[0m\u001b[1;33m(\u001b[0m\u001b[0mgen_surfaces\u001b[0m\u001b[1;33m(\u001b[0m\u001b[0mlayers\u001b[0m\u001b[1;33m=\u001b[0m\u001b[0mi\u001b[0m\u001b[1;33m)\u001b[0m\u001b[1;33m)\u001b[0m\u001b[1;33m\u001b[0m\u001b[1;33m\u001b[0m\u001b[0m\n\u001b[0m",
      "\u001b[1;32m<ipython-input-37-f760d166c896>\u001b[0m in \u001b[0;36mgen_surfaces\u001b[1;34m(layers)\u001b[0m\n\u001b[0;32m     11\u001b[0m \u001b[1;33m\u001b[0m\u001b[0m\n\u001b[0;32m     12\u001b[0m         slab_list = slabgen.get_slabs(bonds={(\"C\", \"O\"): 1.5},\n\u001b[1;32m---> 13\u001b[1;33m                                       symmetrize=True)\n\u001b[0m\u001b[0;32m     14\u001b[0m \u001b[1;33m\u001b[0m\u001b[0m\n\u001b[0;32m     15\u001b[0m         \u001b[0msiderite_surface\u001b[0m\u001b[1;33m[\u001b[0m\u001b[0mkey\u001b[0m\u001b[1;33m]\u001b[0m \u001b[1;33m=\u001b[0m \u001b[1;33m[\u001b[0m\u001b[0mx\u001b[0m \u001b[1;32mfor\u001b[0m \u001b[0mx\u001b[0m \u001b[1;32min\u001b[0m \u001b[0mslab_list\u001b[0m \u001b[1;32mif\u001b[0m \u001b[0mabs\u001b[0m\u001b[1;33m(\u001b[0m\u001b[0mx\u001b[0m\u001b[1;33m.\u001b[0m\u001b[0mcharge\u001b[0m\u001b[1;33m)\u001b[0m \u001b[1;33m<=\u001b[0m \u001b[1;36m4\u001b[0m\u001b[1;33m]\u001b[0m\u001b[1;33m\u001b[0m\u001b[1;33m\u001b[0m\u001b[0m\n",
      "\u001b[1;32mD:\\Anaconda3\\lib\\site-packages\\pymatgen\\core\\surface.py\u001b[0m in \u001b[0;36mget_slabs\u001b[1;34m(self, bonds, tol, max_broken_bonds, symmetrize, repair)\u001b[0m\n\u001b[0;32m   1069\u001b[0m                 \u001b[1;32mif\u001b[0m \u001b[0mr\u001b[0m\u001b[1;33m[\u001b[0m\u001b[1;36m0\u001b[0m\u001b[1;33m]\u001b[0m \u001b[1;33m<=\u001b[0m \u001b[0mshift\u001b[0m \u001b[1;33m<=\u001b[0m \u001b[0mr\u001b[0m\u001b[1;33m[\u001b[0m\u001b[1;36m1\u001b[0m\u001b[1;33m]\u001b[0m\u001b[1;33m:\u001b[0m\u001b[1;33m\u001b[0m\u001b[1;33m\u001b[0m\u001b[0m\n\u001b[0;32m   1070\u001b[0m                     \u001b[0mbonds_broken\u001b[0m \u001b[1;33m+=\u001b[0m \u001b[1;36m1\u001b[0m\u001b[1;33m\u001b[0m\u001b[1;33m\u001b[0m\u001b[0m\n\u001b[1;32m-> 1071\u001b[1;33m             \u001b[0mslab\u001b[0m \u001b[1;33m=\u001b[0m \u001b[0mself\u001b[0m\u001b[1;33m.\u001b[0m\u001b[0mget_slab\u001b[0m\u001b[1;33m(\u001b[0m\u001b[0mshift\u001b[0m\u001b[1;33m,\u001b[0m \u001b[0mtol\u001b[0m\u001b[1;33m=\u001b[0m\u001b[0mtol\u001b[0m\u001b[1;33m,\u001b[0m \u001b[0menergy\u001b[0m\u001b[1;33m=\u001b[0m\u001b[0mbonds_broken\u001b[0m\u001b[1;33m)\u001b[0m\u001b[1;33m\u001b[0m\u001b[1;33m\u001b[0m\u001b[0m\n\u001b[0m\u001b[0;32m   1072\u001b[0m             \u001b[1;32mif\u001b[0m \u001b[0mbonds_broken\u001b[0m \u001b[1;33m<=\u001b[0m \u001b[0mmax_broken_bonds\u001b[0m\u001b[1;33m:\u001b[0m\u001b[1;33m\u001b[0m\u001b[1;33m\u001b[0m\u001b[0m\n\u001b[0;32m   1073\u001b[0m                 \u001b[0mslabs\u001b[0m\u001b[1;33m.\u001b[0m\u001b[0mappend\u001b[0m\u001b[1;33m(\u001b[0m\u001b[0mslab\u001b[0m\u001b[1;33m)\u001b[0m\u001b[1;33m\u001b[0m\u001b[1;33m\u001b[0m\u001b[0m\n",
      "\u001b[1;32mD:\\Anaconda3\\lib\\site-packages\\pymatgen\\core\\surface.py\u001b[0m in \u001b[0;36mget_slab\u001b[1;34m(self, shift, tol, energy)\u001b[0m\n\u001b[0;32m    936\u001b[0m \u001b[1;33m\u001b[0m\u001b[0m\n\u001b[0;32m    937\u001b[0m         \u001b[1;32mif\u001b[0m \u001b[0mself\u001b[0m\u001b[1;33m.\u001b[0m\u001b[0mprimitive\u001b[0m\u001b[1;33m:\u001b[0m\u001b[1;33m\u001b[0m\u001b[1;33m\u001b[0m\u001b[0m\n\u001b[1;32m--> 938\u001b[1;33m             \u001b[0mprim\u001b[0m \u001b[1;33m=\u001b[0m \u001b[0mslab\u001b[0m\u001b[1;33m.\u001b[0m\u001b[0mget_primitive_structure\u001b[0m\u001b[1;33m(\u001b[0m\u001b[0mtolerance\u001b[0m\u001b[1;33m=\u001b[0m\u001b[0mtol\u001b[0m\u001b[1;33m)\u001b[0m\u001b[1;33m\u001b[0m\u001b[1;33m\u001b[0m\u001b[0m\n\u001b[0m\u001b[0;32m    939\u001b[0m             \u001b[1;32mif\u001b[0m \u001b[0menergy\u001b[0m \u001b[1;32mis\u001b[0m \u001b[1;32mnot\u001b[0m \u001b[1;32mNone\u001b[0m\u001b[1;33m:\u001b[0m\u001b[1;33m\u001b[0m\u001b[1;33m\u001b[0m\u001b[0m\n\u001b[0;32m    940\u001b[0m                 \u001b[0menergy\u001b[0m \u001b[1;33m=\u001b[0m \u001b[0mprim\u001b[0m\u001b[1;33m.\u001b[0m\u001b[0mvolume\u001b[0m \u001b[1;33m/\u001b[0m \u001b[0mslab\u001b[0m\u001b[1;33m.\u001b[0m\u001b[0mvolume\u001b[0m \u001b[1;33m*\u001b[0m \u001b[0menergy\u001b[0m\u001b[1;33m\u001b[0m\u001b[1;33m\u001b[0m\u001b[0m\n",
      "\u001b[1;32mD:\\Anaconda3\\lib\\site-packages\\pymatgen\\core\\structure.py\u001b[0m in \u001b[0;36mget_primitive_structure\u001b[1;34m(self, tolerance, use_site_props, constrain_latt)\u001b[0m\n\u001b[0;32m   1473\u001b[0m         \u001b[1;32mfor\u001b[0m \u001b[0mg\u001b[0m \u001b[1;32min\u001b[0m \u001b[0msorted\u001b[0m\u001b[1;33m(\u001b[0m\u001b[0mgrouped_fcoords\u001b[0m\u001b[1;33m,\u001b[0m \u001b[0mkey\u001b[0m\u001b[1;33m=\u001b[0m\u001b[1;32mlambda\u001b[0m \u001b[0mx\u001b[0m\u001b[1;33m:\u001b[0m \u001b[0mlen\u001b[0m\u001b[1;33m(\u001b[0m\u001b[0mx\u001b[0m\u001b[1;33m)\u001b[0m\u001b[1;33m)\u001b[0m\u001b[1;33m:\u001b[0m\u001b[1;33m\u001b[0m\u001b[1;33m\u001b[0m\u001b[0m\n\u001b[0;32m   1474\u001b[0m             \u001b[1;32mfor\u001b[0m \u001b[0mf\u001b[0m \u001b[1;32min\u001b[0m \u001b[0mg\u001b[0m\u001b[1;33m:\u001b[0m\u001b[1;33m\u001b[0m\u001b[1;33m\u001b[0m\u001b[0m\n\u001b[1;32m-> 1475\u001b[1;33m                 \u001b[0mmin_vecs\u001b[0m \u001b[1;33m=\u001b[0m \u001b[0mpbc_coord_intersection\u001b[0m\u001b[1;33m(\u001b[0m\u001b[0mmin_vecs\u001b[0m\u001b[1;33m,\u001b[0m \u001b[0mg\u001b[0m \u001b[1;33m-\u001b[0m \u001b[0mf\u001b[0m\u001b[1;33m,\u001b[0m \u001b[0msuper_ftol_2\u001b[0m\u001b[1;33m)\u001b[0m\u001b[1;33m\u001b[0m\u001b[1;33m\u001b[0m\u001b[0m\n\u001b[0m\u001b[0;32m   1476\u001b[0m \u001b[1;33m\u001b[0m\u001b[0m\n\u001b[0;32m   1477\u001b[0m         \u001b[1;32mdef\u001b[0m \u001b[0mget_hnf\u001b[0m\u001b[1;33m(\u001b[0m\u001b[0mfu\u001b[0m\u001b[1;33m)\u001b[0m\u001b[1;33m:\u001b[0m\u001b[1;33m\u001b[0m\u001b[1;33m\u001b[0m\u001b[0m\n",
      "\u001b[1;32mD:\\Anaconda3\\lib\\site-packages\\pymatgen\\core\\structure.py\u001b[0m in \u001b[0;36mpbc_coord_intersection\u001b[1;34m(fc1, fc2, tol)\u001b[0m\n\u001b[0;32m   1463\u001b[0m             \u001b[0md\u001b[0m \u001b[1;33m-=\u001b[0m \u001b[0mnp\u001b[0m\u001b[1;33m.\u001b[0m\u001b[0mround\u001b[0m\u001b[1;33m(\u001b[0m\u001b[0md\u001b[0m\u001b[1;33m)\u001b[0m\u001b[1;33m\u001b[0m\u001b[1;33m\u001b[0m\u001b[0m\n\u001b[0;32m   1464\u001b[0m             \u001b[0mnp\u001b[0m\u001b[1;33m.\u001b[0m\u001b[0mabs\u001b[0m\u001b[1;33m(\u001b[0m\u001b[0md\u001b[0m\u001b[1;33m,\u001b[0m \u001b[0md\u001b[0m\u001b[1;33m)\u001b[0m\u001b[1;33m\u001b[0m\u001b[1;33m\u001b[0m\u001b[0m\n\u001b[1;32m-> 1465\u001b[1;33m             \u001b[1;32mreturn\u001b[0m \u001b[0mfc1\u001b[0m\u001b[1;33m[\u001b[0m\u001b[0mnp\u001b[0m\u001b[1;33m.\u001b[0m\u001b[0many\u001b[0m\u001b[1;33m(\u001b[0m\u001b[0mnp\u001b[0m\u001b[1;33m.\u001b[0m\u001b[0mall\u001b[0m\u001b[1;33m(\u001b[0m\u001b[0md\u001b[0m \u001b[1;33m<\u001b[0m \u001b[0mtol\u001b[0m\u001b[1;33m,\u001b[0m \u001b[0maxis\u001b[0m\u001b[1;33m=\u001b[0m\u001b[1;33m-\u001b[0m\u001b[1;36m1\u001b[0m\u001b[1;33m)\u001b[0m\u001b[1;33m,\u001b[0m \u001b[0maxis\u001b[0m\u001b[1;33m=\u001b[0m\u001b[1;33m-\u001b[0m\u001b[1;36m1\u001b[0m\u001b[1;33m)\u001b[0m\u001b[1;33m]\u001b[0m\u001b[1;33m\u001b[0m\u001b[1;33m\u001b[0m\u001b[0m\n\u001b[0m\u001b[0;32m   1466\u001b[0m \u001b[1;33m\u001b[0m\u001b[0m\n\u001b[0;32m   1467\u001b[0m         \u001b[1;31m# here we reduce the number of min_vecs by enforcing that every\u001b[0m\u001b[1;33m\u001b[0m\u001b[1;33m\u001b[0m\u001b[1;33m\u001b[0m\u001b[0m\n",
      "\u001b[1;32mD:\\Anaconda3\\lib\\site-packages\\numpy\\core\\fromnumeric.py\u001b[0m in \u001b[0;36mall\u001b[1;34m(a, axis, out, keepdims)\u001b[0m\n\u001b[0;32m   2243\u001b[0m \u001b[1;33m\u001b[0m\u001b[0m\n\u001b[0;32m   2244\u001b[0m     \"\"\"\n\u001b[1;32m-> 2245\u001b[1;33m     \u001b[1;32mreturn\u001b[0m \u001b[0m_wrapreduction\u001b[0m\u001b[1;33m(\u001b[0m\u001b[0ma\u001b[0m\u001b[1;33m,\u001b[0m \u001b[0mnp\u001b[0m\u001b[1;33m.\u001b[0m\u001b[0mlogical_and\u001b[0m\u001b[1;33m,\u001b[0m \u001b[1;34m'all'\u001b[0m\u001b[1;33m,\u001b[0m \u001b[0maxis\u001b[0m\u001b[1;33m,\u001b[0m \u001b[1;32mNone\u001b[0m\u001b[1;33m,\u001b[0m \u001b[0mout\u001b[0m\u001b[1;33m,\u001b[0m \u001b[0mkeepdims\u001b[0m\u001b[1;33m=\u001b[0m\u001b[0mkeepdims\u001b[0m\u001b[1;33m)\u001b[0m\u001b[1;33m\u001b[0m\u001b[1;33m\u001b[0m\u001b[0m\n\u001b[0m\u001b[0;32m   2246\u001b[0m \u001b[1;33m\u001b[0m\u001b[0m\n\u001b[0;32m   2247\u001b[0m \u001b[1;33m\u001b[0m\u001b[0m\n",
      "\u001b[1;32mD:\\Anaconda3\\lib\\site-packages\\numpy\\core\\fromnumeric.py\u001b[0m in \u001b[0;36m_wrapreduction\u001b[1;34m(obj, ufunc, method, axis, dtype, out, **kwargs)\u001b[0m\n\u001b[0;32m     84\u001b[0m                 \u001b[1;32mreturn\u001b[0m \u001b[0mreduction\u001b[0m\u001b[1;33m(\u001b[0m\u001b[0maxis\u001b[0m\u001b[1;33m=\u001b[0m\u001b[0maxis\u001b[0m\u001b[1;33m,\u001b[0m \u001b[0mout\u001b[0m\u001b[1;33m=\u001b[0m\u001b[0mout\u001b[0m\u001b[1;33m,\u001b[0m \u001b[1;33m**\u001b[0m\u001b[0mpasskwargs\u001b[0m\u001b[1;33m)\u001b[0m\u001b[1;33m\u001b[0m\u001b[1;33m\u001b[0m\u001b[0m\n\u001b[0;32m     85\u001b[0m \u001b[1;33m\u001b[0m\u001b[0m\n\u001b[1;32m---> 86\u001b[1;33m     \u001b[1;32mreturn\u001b[0m \u001b[0mufunc\u001b[0m\u001b[1;33m.\u001b[0m\u001b[0mreduce\u001b[0m\u001b[1;33m(\u001b[0m\u001b[0mobj\u001b[0m\u001b[1;33m,\u001b[0m \u001b[0maxis\u001b[0m\u001b[1;33m,\u001b[0m \u001b[0mdtype\u001b[0m\u001b[1;33m,\u001b[0m \u001b[0mout\u001b[0m\u001b[1;33m,\u001b[0m \u001b[1;33m**\u001b[0m\u001b[0mpasskwargs\u001b[0m\u001b[1;33m)\u001b[0m\u001b[1;33m\u001b[0m\u001b[1;33m\u001b[0m\u001b[0m\n\u001b[0m\u001b[0;32m     87\u001b[0m \u001b[1;33m\u001b[0m\u001b[0m\n\u001b[0;32m     88\u001b[0m \u001b[1;33m\u001b[0m\u001b[0m\n",
      "\u001b[1;31mKeyboardInterrupt\u001b[0m: "
     ]
    }
   ],
   "source": [
    "kept_surfaces = []\n",
    "list_of_layers = np.arange(8, 20)\n",
    "for i in list_of_layers:\n",
    "    print(i)\n",
    "    kept_surfaces.append(gen_surfaces(layers=i))"
   ]
  },
  {
   "cell_type": "raw",
   "metadata": {},
   "source": [
    "# funky with reorientation\n",
    "for key in siderite_surface.keys():\n",
    "    hkl_in = (int(key[0]), int(key[1]), int(key[2]))\n",
    "    siderite_surface[key]=[]\n",
    "    for thickness in list_of_layers:\n",
    "        slab = get_ase_slab(distorted_siderite.get_primitive_structure(),\n",
    "                            hkl=hkl_in,\n",
    "                            min_thick=thickness,\n",
    "                            min_vac=20,\n",
    "                            symmetrize=True)\n",
    "        for s in slab:\n",
    "            s.add_oxidation_state_by_element({\"Fe\": 2, \"C\": 4, \"O\": -2})\n",
    "        \n",
    "        siderite_surface[key].extend(slab)"
   ]
  },
  {
   "cell_type": "raw",
   "metadata": {
    "scrolled": true
   },
   "source": [
    "for key in siderite_surface.keys():\n",
    "    miller_index = [int(x) for x in key]\n",
    "    \n",
    "    slabgen = SlabGenerator(siderite, miller_index,\n",
    "                            min_slab_size=3.0,\n",
    "                            min_vacuum_size=10,\n",
    "                            center_slab=True,\n",
    "                            in_unit_planes=True)\n",
    "\n",
    "    slab_list = slabgen.get_slabs(bonds={(\"C\", \"O\"): 1.5},\n",
    "                                  symmetrize=True)\n",
    "    \n",
    "    siderite_surface[key] = [x for x in slab_list if abs(x.charge) <= 4]\n",
    "\n",
    "    print(\"\\nSurface:\", key, \"\\tNumber of allowed terminations:\", len(siderite_surface[key]))\n",
    "    \n",
    "    for slab in siderite_surface[key]:\n",
    "        print(slab.formula)"
   ]
  },
  {
   "cell_type": "raw",
   "metadata": {},
   "source": [
    "surface_110_NS = siderite_surface['110'][2].copy()\n",
    "surface_110_NS.symmetrically_remove_atoms([find_top_site(surface_110_NS.sites, 'C4+')])"
   ]
  },
  {
   "cell_type": "raw",
   "metadata": {},
   "source": [
    "surface_012_NS = siderite_surface['012'][2].copy()\n",
    "surface_012_NS.symmetrically_remove_atoms([find_top_site(surface_012_NS.sites, 'O2-')])"
   ]
  },
  {
   "cell_type": "raw",
   "metadata": {
    "scrolled": false
   },
   "source": [
    "for key in siderite_surface.keys():\n",
    "    print(\"*******************************************\")\n",
    "    print(\"Surface:\", key)\n",
    "    print(\"*******************************************\")\n",
    "    for slab in siderite_surface[key]:\n",
    "        slab_ase = AAA.get_atoms(slab)\n",
    "        layer_info, distances = get_layers(slab_ase, (0,0,1), tolerance=0.1)\n",
    "        layer_atoms = list(sorted(zip(layer_info, slab_ase.get_chemical_symbols())))\n",
    "        layer_atoms_dict = {}\n",
    "        for x, y in layer_atoms:\n",
    "            layer_atoms_dict.setdefault(x, []).append(y)\n",
    "\n",
    "        for layer in sorted(layer_atoms_dict.keys()):\n",
    "            max_layers = len(layer_atoms_dict.keys())\n",
    "            if layer < 6:\n",
    "                print('', layer+1, layer_atoms_dict[layer])\n",
    "            elif max_layers - layer == 6:\n",
    "                print(\".\")\n",
    "                print(\".\")\n",
    "                print(layer - max_layers, layer_atoms_dict[layer])\n",
    "            elif max_layers - layer < 6:\n",
    "                print(layer - max_layers, layer_atoms_dict[layer])\n",
    "                \n",
    "        slab_composition = slab.composition.to_reduced_dict\n",
    "        if slab_composition['Fe'] == slab_composition['C'] and slab_composition['Fe'] * 3 == slab_composition['O']:\n",
    "            print(\"Stoichiometric: True\")\n",
    "        else:\n",
    "            print(\"Stoichiometric: False\")\n",
    "        print(\"Polar:\", slab.is_polar())\n",
    "        print(\"Charge:\", slab.charge)\n",
    "        print(\"\\n\")"
   ]
  },
  {
   "cell_type": "raw",
   "metadata": {},
   "source": [
    "surface_012_S = siderite_surface['012'][0].copy()\n",
    "surface_012_S_top_C = find_top_site(surface_012_S.sites, 'C4+')\n",
    "surface_012_S_top_O3 = surface_012_S.get_neighbors(surface_012_S.sites[surface_012_S_top_C],1.5, include_index=True)\n",
    "surface_012_S_top_CO3 = [surface_012_S_top_C] + [x[2] for x in surface_012_S_top_O3]\n",
    "surface_012_S.symmetrically_remove_atoms(surface_012_S_top_CO3)"
   ]
  }
 ],
 "metadata": {
  "kernelspec": {
   "display_name": "Python 3",
   "language": "python",
   "name": "python3"
  },
  "language_info": {
   "codemirror_mode": {
    "name": "ipython",
    "version": 3
   },
   "file_extension": ".py",
   "mimetype": "text/x-python",
   "name": "python",
   "nbconvert_exporter": "python",
   "pygments_lexer": "ipython3",
   "version": "3.7.3"
  }
 },
 "nbformat": 4,
 "nbformat_minor": 2
}
